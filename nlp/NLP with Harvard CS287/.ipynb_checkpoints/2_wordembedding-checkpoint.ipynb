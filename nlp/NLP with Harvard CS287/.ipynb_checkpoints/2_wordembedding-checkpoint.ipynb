{
 "cells": [
  {
   "cell_type": "code",
   "execution_count": 1,
   "metadata": {},
   "outputs": [],
   "source": [
    "import torch\n",
    "import torch.nn as nn\n",
    "import torch.nn.functional as F\n",
    "import torch.optim as optim"
   ]
  },
  {
   "cell_type": "code",
   "execution_count": 2,
   "metadata": {},
   "outputs": [
    {
     "data": {
      "text/plain": [
       "<torch._C.Generator at 0x2a0288b98f0>"
      ]
     },
     "execution_count": 2,
     "metadata": {},
     "output_type": "execute_result"
    }
   ],
   "source": [
    "torch.manual_seed(1)"
   ]
  },
  {
   "cell_type": "markdown",
   "metadata": {},
   "source": [
    "Getting Dense Word Embeddings"
   ]
  },
  {
   "cell_type": "code",
   "execution_count": 6,
   "metadata": {},
   "outputs": [
    {
     "data": {
      "text/plain": [
       "tensor([[ 0.8310, -0.2477, -0.8029,  0.2366,  0.2857,  0.6898]],\n",
       "       grad_fn=<EmbeddingBackward>)"
      ]
     },
     "execution_count": 6,
     "metadata": {},
     "output_type": "execute_result"
    }
   ],
   "source": [
    "word_to_ix = {\"你好\":0, \"我爱你\":1}\n",
    "embeds = nn.Embedding(2, 6)  # vocab, size of dimensional embeddings\n",
    "lookup_tensor = torch.tensor([word_to_ix[\"你好\"]], dtype=torch.long)\n",
    "hello_embed = embeds(lookup_tensor)\n",
    "hello_embed"
   ]
  },
  {
   "cell_type": "markdown",
   "metadata": {},
   "source": [
    "An Example: N-Gram Language Modeling"
   ]
  },
  {
   "cell_type": "code",
   "execution_count": 7,
   "metadata": {},
   "outputs": [],
   "source": [
    "CONTEXT_SIZE = 2\n",
    "EMBEDDING_DIM = 10\n",
    "# We will use Shakespeare Sonnet 2\n",
    "test_sentence = \"\"\"When forty winters shall besiege thy brow,\n",
    "And dig deep trenches in thy beauty's field,\n",
    "Thy youth's proud livery so gazed on now,\n",
    "Will be a totter'd weed of small worth held:\n",
    "Then being asked, where all thy beauty lies,\n",
    "Where all the treasure of thy lusty days;\n",
    "To say, within thine own deep sunken eyes,\n",
    "Were an all-eating shame, and thriftless praise.\n",
    "How much more praise deserv'd thy beauty's use,\n",
    "If thou couldst answer 'This fair child of mine\n",
    "Shall sum my count, and make my old excuse,'\n",
    "Proving his beauty by succession thine!\n",
    "This were to be new made when thou art old,\n",
    "And see thy blood warm when thou feel'st it cold.\"\"\".split()"
   ]
  },
  {
   "cell_type": "code",
   "execution_count": 13,
   "metadata": {},
   "outputs": [],
   "source": [
    "# test_sentence"
   ]
  },
  {
   "cell_type": "code",
   "execution_count": 17,
   "metadata": {},
   "outputs": [
    {
     "name": "stdout",
     "output_type": "stream",
     "text": [
      "[(['When', 'forty'], 'it'), (['forty', 'winters'], 'cold.'), (['winters', 'shall'], 'When'), (['shall', 'besiege'], 'forty'), (['besiege', 'thy'], 'winters'), (['thy', 'brow,'], 'shall'), (['brow,', 'And'], 'besiege'), (['And', 'dig'], 'thy'), (['dig', 'deep'], 'brow,'), (['deep', 'trenches'], 'And'), (['trenches', 'in'], 'dig'), (['in', 'thy'], 'deep'), (['thy', \"beauty's\"], 'trenches'), ([\"beauty's\", 'field,'], 'in'), (['field,', 'Thy'], 'thy'), (['Thy', \"youth's\"], \"beauty's\"), ([\"youth's\", 'proud'], 'field,'), (['proud', 'livery'], 'Thy'), (['livery', 'so'], \"youth's\"), (['so', 'gazed'], 'proud'), (['gazed', 'on'], 'livery'), (['on', 'now,'], 'so'), (['now,', 'Will'], 'gazed'), (['Will', 'be'], 'on'), (['be', 'a'], 'now,'), (['a', \"totter'd\"], 'Will'), ([\"totter'd\", 'weed'], 'be'), (['weed', 'of'], 'a'), (['of', 'small'], \"totter'd\"), (['small', 'worth'], 'weed'), (['worth', 'held:'], 'of'), (['held:', 'Then'], 'small'), (['Then', 'being'], 'worth'), (['being', 'asked,'], 'held:'), (['asked,', 'where'], 'Then'), (['where', 'all'], 'being'), (['all', 'thy'], 'asked,'), (['thy', 'beauty'], 'where'), (['beauty', 'lies,'], 'all'), (['lies,', 'Where'], 'thy'), (['Where', 'all'], 'beauty'), (['all', 'the'], 'lies,'), (['the', 'treasure'], 'Where'), (['treasure', 'of'], 'all'), (['of', 'thy'], 'the'), (['thy', 'lusty'], 'treasure'), (['lusty', 'days;'], 'of'), (['days;', 'To'], 'thy'), (['To', 'say,'], 'lusty'), (['say,', 'within'], 'days;'), (['within', 'thine'], 'To'), (['thine', 'own'], 'say,'), (['own', 'deep'], 'within'), (['deep', 'sunken'], 'thine'), (['sunken', 'eyes,'], 'own'), (['eyes,', 'Were'], 'deep'), (['Were', 'an'], 'sunken'), (['an', 'all-eating'], 'eyes,'), (['all-eating', 'shame,'], 'Were'), (['shame,', 'and'], 'an'), (['and', 'thriftless'], 'all-eating'), (['thriftless', 'praise.'], 'shame,'), (['praise.', 'How'], 'and'), (['How', 'much'], 'thriftless'), (['much', 'more'], 'praise.'), (['more', 'praise'], 'How'), (['praise', \"deserv'd\"], 'much'), ([\"deserv'd\", 'thy'], 'more'), (['thy', \"beauty's\"], 'praise'), ([\"beauty's\", 'use,'], \"deserv'd\"), (['use,', 'If'], 'thy'), (['If', 'thou'], \"beauty's\"), (['thou', 'couldst'], 'use,'), (['couldst', 'answer'], 'If'), (['answer', \"'This\"], 'thou'), ([\"'This\", 'fair'], 'couldst'), (['fair', 'child'], 'answer'), (['child', 'of'], \"'This\"), (['of', 'mine'], 'fair'), (['mine', 'Shall'], 'child'), (['Shall', 'sum'], 'of'), (['sum', 'my'], 'mine'), (['my', 'count,'], 'Shall'), (['count,', 'and'], 'sum'), (['and', 'make'], 'my'), (['make', 'my'], 'count,'), (['my', 'old'], 'and'), (['old', \"excuse,'\"], 'make'), ([\"excuse,'\", 'Proving'], 'my'), (['Proving', 'his'], 'old'), (['his', 'beauty'], \"excuse,'\"), (['beauty', 'by'], 'Proving'), (['by', 'succession'], 'his'), (['succession', 'thine!'], 'beauty'), (['thine!', 'This'], 'by'), (['This', 'were'], 'succession'), (['were', 'to'], 'thine!'), (['to', 'be'], 'This'), (['be', 'new'], 'were'), (['new', 'made'], 'to'), (['made', 'when'], 'be'), (['when', 'thou'], 'new'), (['thou', 'art'], 'made'), (['art', 'old,'], 'when'), (['old,', 'And'], 'thou'), (['And', 'see'], 'art'), (['see', 'thy'], 'old,'), (['thy', 'blood'], 'And'), (['blood', 'warm'], 'see'), (['warm', 'when'], 'thy'), (['when', 'thou'], 'blood'), (['thou', \"feel'st\"], 'warm'), ([\"feel'st\", 'it'], 'when')]\n"
     ]
    }
   ],
   "source": [
    "trigrams = [([test_sentence[i], test_sentence[i+1]], test_sentence[i-2]) \n",
    "            for i in range(len(test_sentence)-2)]\n",
    "print(trigrams)"
   ]
  },
  {
   "cell_type": "code",
   "execution_count": 10,
   "metadata": {},
   "outputs": [
    {
     "data": {
      "text/plain": [
       "(97, 97)"
      ]
     },
     "execution_count": 10,
     "metadata": {},
     "output_type": "execute_result"
    }
   ],
   "source": [
    "vocab = set(test_sentence)\n",
    "word_to_ix = {word: i for i, word in enumerate(vocab)}\n",
    "len(word_to_ix), len(vocab)"
   ]
  },
  {
   "cell_type": "code",
   "execution_count": 20,
   "metadata": {},
   "outputs": [],
   "source": [
    "class NgramLM(nn.Module):\n",
    "    def __init__(self, vocab_size, embedding_dim, context_size):\n",
    "        super(NgramLM, self).__init__()\n",
    "        self.embeddings = nn.Embedding(vocab_size, embedding_dim)\n",
    "        self.linear1 = nn.Linear(context_size*embedding_dim, 128)\n",
    "        self.linear2 = nn.Linear(128, vocab_size)\n",
    "    \n",
    "    def forward(self, inputs):\n",
    "        embeds = self.embeddings(inputs).view((1, -1))\n",
    "        out = F.relu(self.linear1(embeds))\n",
    "        out = self.linear2(out)\n",
    "        log_probs = F.log_softmax(out, dim=1)\n",
    "        return log_probs"
   ]
  },
  {
   "cell_type": "code",
   "execution_count": 21,
   "metadata": {},
   "outputs": [],
   "source": [
    "losses = []\n",
    "loss_function = nn.NLLLoss()\n",
    "model = NgramLM(len(vocab), EMBEDDING_DIM, CONTEXT_SIZE)\n",
    "optimizer = optim.SGD(model.parameters(), lr=0.001)"
   ]
  },
  {
   "cell_type": "code",
   "execution_count": 24,
   "metadata": {},
   "outputs": [
    {
     "name": "stdout",
     "output_type": "stream",
     "text": [
      "0 epoch loss 4.725801\n",
      "1 epoch loss 4.703599\n",
      "2 epoch loss 4.681531\n",
      "3 epoch loss 4.659651\n",
      "4 epoch loss 4.637795\n",
      "5 epoch loss 4.616016\n",
      "6 epoch loss 4.594372\n",
      "7 epoch loss 4.572927\n",
      "8 epoch loss 4.551411\n",
      "9 epoch loss 4.529990\n"
     ]
    }
   ],
   "source": [
    "for epoch in range(10):\n",
    "    total_loss = 0\n",
    "    for context, target in trigrams:\n",
    "        context_idxs = torch.tensor([word_to_ix[w] \n",
    "                                    for w in context], dtype=torch.long)\n",
    "        # 初始化参数\n",
    "        model.zero_grad()\n",
    "        \n",
    "        log_probs = model(context_idxs)\n",
    "        loss = loss_function(log_probs,\n",
    "                torch.tensor([word_to_ix[target]], dtype=torch.long))\n",
    "        \n",
    "        # 更新梯度\n",
    "        loss.backward()\n",
    "        optimizer.step()\n",
    "        total_loss += loss.item()\n",
    "    losses.append(total_loss)\n",
    "    print(\"%d epoch loss %f\" % (epoch, loss))"
   ]
  },
  {
   "cell_type": "markdown",
   "metadata": {},
   "source": [
    "# Exercise: Computing Word Embeddings: Continuous Bag-of-Words"
   ]
  },
  {
   "cell_type": "markdown",
   "metadata": {},
   "source": [
    "$$-\\log p(w_i | C) = -\\log \\text{Softmax}(A(\\sum_{w \\in C} q_w) + b)$$"
   ]
  },
  {
   "cell_type": "code",
   "execution_count": 40,
   "metadata": {},
   "outputs": [
    {
     "name": "stdout",
     "output_type": "stream",
     "text": [
      "[(['We', 'are', 'to', 'study'], 'about'), (['are', 'about', 'study', 'the'], 'to'), (['about', 'to', 'the', 'idea'], 'study'), (['to', 'study', 'idea', 'of'], 'the'), (['study', 'the', 'of', 'a'], 'idea')]\n"
     ]
    }
   ],
   "source": [
    "CONTEXT_SIZE = 2  # 2 words to the left, 2 to the right\n",
    "raw_text = \"\"\"We are about to study the idea of a computational process.\n",
    "Computational processes are abstract beings that inhabit computers.\n",
    "As they evolve, processes manipulate other abstract things called data.\n",
    "The evolution of a process is directed by a pattern of rules\n",
    "called a program. People create programs to direct processes. In effect,\n",
    "we conjure the spirits of the computer with our spells.\"\"\".split()\n",
    "\n",
    "# By deriving a set from `raw_text`, we deduplicate the array\n",
    "vocab = set(raw_text)\n",
    "vocab_size = len(vocab)\n",
    "\n",
    "word_to_ix = {word: i for i, word in enumerate(vocab)}\n",
    "data = []\n",
    "for i in range(2, len(raw_text) - 2):\n",
    "    context = [raw_text[i - 2], raw_text[i - 1],\n",
    "               raw_text[i + 1], raw_text[i + 2]]\n",
    "    target = raw_text[i]\n",
    "    data.append((context, target))\n",
    "print(data[:5])"
   ]
  },
  {
   "cell_type": "code",
   "execution_count": 41,
   "metadata": {},
   "outputs": [],
   "source": [
    "class CBOW(nn.Module):\n",
    "    def __init__(self, vocab_size, embedding_dim, context_size):\n",
    "        super(CBOW, self).__init__()\n",
    "        self.embeddings = nn.Embedding(vocab_size, embedding_dim)\n",
    "        self.linear1 = nn.Linear(4*embedding_dim, 128)\n",
    "        self.linear2 = nn.Linear(128, vocab_size)\n",
    "    \n",
    "    def forward(self, inputs):\n",
    "        embeds = self.embeddings(inputs).view((1, -1))\n",
    "        out = F.relu(self.linear1(embeds))\n",
    "        out = self.linear2(out)\n",
    "        log_probs = F.log_softmax(out, dim=1)\n",
    "        return log_probs"
   ]
  },
  {
   "cell_type": "code",
   "execution_count": 42,
   "metadata": {},
   "outputs": [
    {
     "data": {
      "text/plain": [
       "tensor([34,  7,  3, 29])"
      ]
     },
     "execution_count": 42,
     "metadata": {},
     "output_type": "execute_result"
    }
   ],
   "source": [
    "def make_context_vector(context, word_to_ix):\n",
    "    idxs = [word_to_ix[w] for w in context]\n",
    "    return torch.tensor(idxs, dtype=torch.long)\n",
    "\n",
    "make_context_vector(data[0][0], word_to_ix)  # example"
   ]
  },
  {
   "cell_type": "code",
   "execution_count": 43,
   "metadata": {},
   "outputs": [],
   "source": [
    "model = CBOW(len(vocab), EMBEDDING_DIM, CONTEXT_SIZE)\n",
    "if torch.cuda.is_available():\n",
    "    model = model.cuda()\n",
    "losses = []\n",
    "loss_function = nn.NLLLoss()\n",
    "optimizer = optim.SGD(model.parameters(), lr=1e-4)"
   ]
  },
  {
   "cell_type": "code",
   "execution_count": 46,
   "metadata": {},
   "outputs": [
    {
     "name": "stdout",
     "output_type": "stream",
     "text": [
      "epoch 0  --> 211.76868534088135\n",
      "epoch 1  --> 211.62196040153503\n",
      "epoch 2  --> 211.47533702850342\n",
      "epoch 3  --> 211.3287947177887\n",
      "epoch 4  --> 211.1823651790619\n",
      "epoch 5  --> 211.03599095344543\n",
      "epoch 6  --> 210.8896026611328\n",
      "epoch 7  --> 210.7433853149414\n",
      "epoch 8  --> 210.5971360206604\n",
      "epoch 9  --> 210.45097827911377\n",
      "epoch 10  --> 210.30489325523376\n",
      "epoch 11  --> 210.15882897377014\n",
      "epoch 12  --> 210.01282596588135\n",
      "epoch 13  --> 209.86697816848755\n",
      "epoch 14  --> 209.72113132476807\n",
      "epoch 15  --> 209.57539415359497\n",
      "epoch 16  --> 209.42972898483276\n",
      "epoch 17  --> 209.28403544425964\n",
      "epoch 18  --> 209.1383249759674\n",
      "epoch 19  --> 208.99267983436584\n"
     ]
    }
   ],
   "source": [
    "for epoch in range(20):\n",
    "    total_loss = 0\n",
    "    context_one_hots = []\n",
    "    for context, target in data:\n",
    "        context_vector = make_context_vector(context, word_to_ix)\n",
    "        target = torch.tensor([word_to_ix[target]], dtype=torch.long)\n",
    "        if torch.cuda.is_available():\n",
    "            context_vector = context_vector.cuda()\n",
    "            target = target.cuda()\n",
    "        \n",
    "        optimizer.zero_grad()\n",
    "        \n",
    "        log_probs = model(context_vector)\n",
    "        loss = loss_function(log_probs, target)\n",
    "        loss.backward()\n",
    "        optimizer.step()\n",
    "        \n",
    "        total_loss += loss.item()\n",
    "    if i % 1 == 0:\n",
    "        print(\"epoch\", epoch, \" -->\", total_loss)\n",
    "    losses.append(total_loss)"
   ]
  },
  {
   "cell_type": "code",
   "execution_count": null,
   "metadata": {},
   "outputs": [],
   "source": []
  }
 ],
 "metadata": {
  "kernelspec": {
   "display_name": "Python 3",
   "language": "python",
   "name": "python3"
  },
  "language_info": {
   "codemirror_mode": {
    "name": "ipython",
    "version": 3
   },
   "file_extension": ".py",
   "mimetype": "text/x-python",
   "name": "python",
   "nbconvert_exporter": "python",
   "pygments_lexer": "ipython3",
   "version": "3.7.7"
  }
 },
 "nbformat": 4,
 "nbformat_minor": 4
}
