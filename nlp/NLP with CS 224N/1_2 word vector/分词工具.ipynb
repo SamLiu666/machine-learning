{
 "cells": [
  {
   "cell_type": "markdown",
   "metadata": {},
   "source": [
    "中文分词工具：http://www.52nlp.cn/%E4%BA%94%E6%AC%BE%E4%B8%AD%E6%96%87%E5%88%86%E8%AF%8D%E5%B7%A5%E5%85%B7%E7%BA%BF%E4%B8%8Apk-jieba-snownlp-pkuseg-thulac-hanlp"
   ]
  },
  {
   "cell_type": "markdown",
   "metadata": {},
   "source": [
    "“结巴”中文分词：做最好的 Python 中文分词组件： Jieba: https://github.com/fxsjy/jieba\n",
    "\n",
    "精确模式，试图将句子最精确地切开，适合文本分析；\n",
    "\n",
    "全模式，把句子中所有的可以成词的词语都扫描出来, 速度非常快，但是不能解决歧义；\n",
    "\n",
    "搜索引擎模式，在精确模式的基础上，对长词再次切分，提高召回率，适合用于搜索引擎分词。"
   ]
  },
  {
   "cell_type": "code",
   "execution_count": 1,
   "metadata": {},
   "outputs": [],
   "source": [
    "import jieba"
   ]
  },
  {
   "cell_type": "code",
   "execution_count": 3,
   "metadata": {},
   "outputs": [
    {
     "name": "stdout",
     "output_type": "stream",
     "text": [
      "全模式： 搜索/搜索引擎/索引/引擎/模式///在/精确/模式/的/基础/上//\n",
      "/对/长/词/再次/切分///提高/召回/率///适合/合用/用于/搜索/搜索引擎/索引/引擎/分词//\n"
     ]
    }
   ],
   "source": [
    "s = jieba.cut(\"\"\"搜索引擎模式，在精确模式的基础上，\n",
    "对长词再次切分，提高召回率，适合用于搜索引擎分词。\"\"\", cut_all=True)\n",
    "print(\"全模式： \"+ \"/\".join(s))"
   ]
  },
  {
   "cell_type": "code",
   "execution_count": 5,
   "metadata": {},
   "outputs": [
    {
     "name": "stdout",
     "output_type": "stream",
     "text": [
      "默认模式： 搜索引擎/模式/，/在/精确/模式/的/基础/上/，/\n",
      "/对长/词/再次/切分/，/提高/召回/率/，/适合/用于/搜索引擎/分词/。\n"
     ]
    }
   ],
   "source": [
    "s = jieba.cut(\"\"\"搜索引擎模式，在精确模式的基础上，\n",
    "对长词再次切分，提高召回率，适合用于搜索引擎分词。\"\"\", cut_all=False)\n",
    "print(\"默认模式： \"+ \"/\".join(s))"
   ]
  },
  {
   "cell_type": "code",
   "execution_count": 7,
   "metadata": {},
   "outputs": [
    {
     "name": "stdout",
     "output_type": "stream",
     "text": [
      "搜索引擎模式： 搜索/索引/引擎/搜索引擎/模式/，/在/精确/模式/的/基础/上/，/\n",
      "/对长/词/再次/切分/，/提高/召回/率/，/适合/用于/搜索/索引/引擎/搜索引擎/分词/。\n"
     ]
    }
   ],
   "source": [
    "s = jieba.cut_for_search(\"\"\"搜索引擎模式，在精确模式的基础上，\n",
    "对长词再次切分，提高召回率，适合用于搜索引擎分词。\"\"\")\n",
    "print(\"搜索引擎模式： \"+ \"/\".join(s))"
   ]
  },
  {
   "cell_type": "code",
   "execution_count": null,
   "metadata": {},
   "outputs": [],
   "source": []
  }
 ],
 "metadata": {
  "kernelspec": {
   "display_name": "Python 3",
   "language": "python",
   "name": "python3"
  },
  "language_info": {
   "codemirror_mode": {
    "name": "ipython",
    "version": 3
   },
   "file_extension": ".py",
   "mimetype": "text/x-python",
   "name": "python",
   "nbconvert_exporter": "python",
   "pygments_lexer": "ipython3",
   "version": "3.7.3"
  }
 },
 "nbformat": 4,
 "nbformat_minor": 2
}
