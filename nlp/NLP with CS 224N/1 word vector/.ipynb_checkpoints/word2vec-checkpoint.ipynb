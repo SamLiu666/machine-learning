{
 "cells": [
  {
   "cell_type": "markdown",
   "metadata": {},
   "source": [
    "# 神雕侠侣 \n",
    "https://www.jianshu.com/p/883c2171cdb5 jieba 分词"
   ]
  },
  {
   "cell_type": "code",
   "execution_count": 25,
   "metadata": {},
   "outputs": [],
   "source": [
    "# 分词\n",
    "import jieba\n",
    "\n",
    "file = r'E:\\chrome download\\paper\\corpus\\神雕侠侣\\神雕侠侣.txt'\n",
    "with open(file, errors='ignore', encoding='utf-8') as f:\n",
    "    cor = []\n",
    "    lines = f.readlines()\n",
    "    count = 0\n",
    "    for line in lines:\n",
    "        count += 1\n",
    "        if count >25000:\n",
    "            break\n",
    "        seg_list = jieba.cut(line,cut_all=True)\n",
    "        \n",
    "#         cor.append(\" \".join(seg_list))\n",
    "#         cor.append(line)\n",
    "        with open(r'cor.txt', 'a', encoding='utf-8') as ff:\n",
    "            ff.write(' '.join(seg_list))\n",
    "        \n",
    "#     print(cor)\n",
    "    "
   ]
  },
  {
   "cell_type": "markdown",
   "metadata": {},
   "source": [
    "# 数据训练 word2vec"
   ]
  },
  {
   "cell_type": "code",
   "execution_count": 26,
   "metadata": {},
   "outputs": [],
   "source": [
    "from gensim.models import word2vec"
   ]
  },
  {
   "cell_type": "code",
   "execution_count": 29,
   "metadata": {},
   "outputs": [
    {
     "name": "stdout",
     "output_type": "stream",
     "text": [
      "若无 0.9995534420013428\n",
      "折 0.9995365738868713\n",
      "人心 0.9995115399360657\n",
      "法 0.9995080232620239\n",
      "不久 0.9994552135467529\n",
      "之处 0.9994345903396606\n",
      "一剑 0.9993988871574402\n",
      "十六 0.9993595480918884\n",
      "当 0.9992983937263489\n",
      "制 0.999284029006958\n"
     ]
    },
    {
     "name": "stderr",
     "output_type": "stream",
     "text": [
      "d:\\python3\\lib\\site-packages\\ipykernel_launcher.py:8: DeprecationWarning: Call to deprecated `most_similar` (Method will be removed in 4.0.0, use self.wv.most_similar() instead).\n",
      "  \n"
     ]
    }
   ],
   "source": [
    "# 加载语料\n",
    "sentences = word2vec.Text8Corpus('cor.txt')\n",
    "\n",
    "# 训练模型\n",
    "model = word2vec.Word2Vec(sentences)\n",
    "\n",
    "# 选出最相似的10个词\n",
    "for e in model.most_similar(positive=['张'], topn=10):\n",
    "   print(e[0], e[1])"
   ]
  },
  {
   "cell_type": "code",
   "execution_count": 32,
   "metadata": {},
   "outputs": [],
   "source": [
    "# 保存模型\n",
    "model.save('天龙八部.model')\n",
    "\n",
    "# 加载模型\n",
    "model = word2vec.Word2Vec.load('天龙八部.model')"
   ]
  },
  {
   "cell_type": "code",
   "execution_count": 33,
   "metadata": {},
   "outputs": [
    {
     "name": "stdout",
     "output_type": "stream",
     "text": [
      "0.995567\n"
     ]
    },
    {
     "name": "stderr",
     "output_type": "stream",
     "text": [
      "d:\\python3\\lib\\site-packages\\ipykernel_launcher.py:2: DeprecationWarning: Call to deprecated `similarity` (Method will be removed in 4.0.0, use self.wv.similarity() instead).\n",
      "  \n"
     ]
    }
   ],
   "source": [
    "# 计算两个词的相似度\n",
    "print(model.similarity('你', '我'))"
   ]
  },
  {
   "cell_type": "code",
   "execution_count": 36,
   "metadata": {},
   "outputs": [
    {
     "name": "stdout",
     "output_type": "stream",
     "text": [
      "再见\n"
     ]
    },
    {
     "name": "stderr",
     "output_type": "stream",
     "text": [
      "d:\\python3\\lib\\site-packages\\ipykernel_launcher.py:3: DeprecationWarning: Call to deprecated `doesnt_match` (Method will be removed in 4.0.0, use self.wv.doesnt_match() instead).\n",
      "  This is separate from the ipykernel package so we can avoid doing imports until\n"
     ]
    }
   ],
   "source": [
    "# 选出集合中不同类的词语\n",
    "list3 = ['你', '我', '再见']\n",
    "print(model.doesnt_match(list3))"
   ]
  },
  {
   "cell_type": "code",
   "execution_count": 37,
   "metadata": {},
   "outputs": [
    {
     "name": "stdout",
     "output_type": "stream",
     "text": [
      "0.5290831\n"
     ]
    },
    {
     "name": "stderr",
     "output_type": "stream",
     "text": [
      "d:\\python3\\lib\\site-packages\\ipykernel_launcher.py:4: DeprecationWarning: Call to deprecated `n_similarity` (Method will be removed in 4.0.0, use self.wv.n_similarity() instead).\n",
      "  after removing the cwd from sys.path.\n"
     ]
    }
   ],
   "source": [
    "# 计算两个集合的相似度\n",
    "list1 = ['你', '我']\n",
    "list2 = ['嘉兴', '满脸']\n",
    "print(model.n_similarity(list1, list2))"
   ]
  },
  {
   "cell_type": "code",
   "execution_count": 10,
   "metadata": {},
   "outputs": [
    {
     "name": "stdout",
     "output_type": "stream",
     "text": [
      "[['natural', 'language', 'processing', 'and', 'machine', 'learning', 'is', 'fun', 'and', 'exciting']]\n",
      "Epoch: 0 Loss: 67.9440557090371\n",
      "Epoch: 1 Loss: 65.82778474258178\n",
      "Epoch: 2 Loss: 63.937322994088525\n",
      "Epoch: 3 Loss: 62.23578892964108\n",
      "Epoch: 4 Loss: 60.69404573036759\n",
      "Epoch: 5 Loss: 59.28885927032601\n",
      "Epoch: 6 Loss: 58.00150899709105\n",
      "Epoch: 7 Loss: 56.81674434744107\n",
      "Epoch: 8 Loss: 55.722000871267\n",
      "Epoch: 9 Loss: 54.70681020398533\n",
      "Epoch: 10 Loss: 53.76235450426062\n",
      "Epoch: 11 Loss: 52.881128719037704\n",
      "Epoch: 12 Loss: 52.05668354418407\n",
      "Epoch: 13 Loss: 51.283428915978185\n",
      "Epoch: 14 Loss: 50.55648295671005\n",
      "Epoch: 15 Loss: 49.871555039302415\n",
      "Epoch: 16 Loss: 49.22485442379584\n",
      "Epoch: 17 Loss: 48.613018025985355\n",
      "Epoch: 18 Loss: 48.033052489089755\n",
      "Epoch: 19 Loss: 47.482286965619856\n",
      "Epoch: 20 Loss: 46.958333962583644\n",
      "Epoch: 21 Loss: 46.45905631984001\n",
      "Epoch: 22 Loss: 45.982538926276845\n",
      "Epoch: 23 Loss: 45.52706417047936\n",
      "Epoch: 24 Loss: 45.09109040430336\n",
      "Epoch: 25 Loss: 44.67323289646742\n",
      "Epoch: 26 Loss: 44.27224689108219\n",
      "Epoch: 27 Loss: 43.88701248042387\n",
      "Epoch: 28 Loss: 43.51652106556042\n",
      "Epoch: 29 Loss: 43.15986322244257\n",
      "Epoch: 30 Loss: 42.81621782172458\n",
      "Epoch: 31 Loss: 42.4848422726327\n",
      "Epoch: 32 Loss: 42.16506377778907\n",
      "Epoch: 33 Loss: 41.85627149901793\n",
      "Epoch: 34 Loss: 41.55790954502927\n",
      "Epoch: 35 Loss: 41.26947070120681\n",
      "Epoch: 36 Loss: 40.990490829925776\n",
      "Epoch: 37 Loss: 40.72054387710946\n",
      "Epoch: 38 Loss: 40.45923742722353\n",
      "Epoch: 39 Loss: 40.20620875467429\n",
      "Epoch: 40 Loss: 39.96112132467715\n",
      "Epoch: 41 Loss: 39.72366170114295\n",
      "Epoch: 42 Loss: 39.493536823050306\n",
      "Epoch: 43 Loss: 39.27047161418777\n",
      "Epoch: 44 Loss: 39.05420689412498\n",
      "Epoch: 45 Loss: 38.84449756087062\n",
      "Epoch: 46 Loss: 38.641111017956234\n",
      "Epoch: 47 Loss: 38.443825820709165\n",
      "Epoch: 48 Loss: 38.25243051829365\n",
      "Epoch: 49 Loss: 38.066722669752565\n",
      "machine [-0.86029596  0.87291696  0.44204581  0.0862721  -0.45815456  0.7869284\n",
      "  0.50070107  0.73593097  0.52656106  1.09464961]\n",
      "machine 1.0\n",
      "natural 0.22016754188300097\n",
      "learning 0.16250951496092012\n"
     ]
    }
   ],
   "source": [
    "import numpy as np\n",
    "from collections import defaultdict\n",
    " \n",
    " \n",
    "class word2vec():\n",
    " \n",
    "    def __init__(self):\n",
    "        self.n = settings['n']\n",
    "        self.lr = settings['learning_rate']\n",
    "        self.epochs = settings['epochs']\n",
    "        self.window = settings['window_size']\n",
    " \n",
    "    def generate_training_data(self, settings, corpus):\n",
    "        \"\"\"\n",
    "        得到训练数据\n",
    "        \"\"\"\n",
    " \n",
    "        #defaultdict(int)  一个字典，当所访问的键不存在时，用int类型实例化一个默认值\n",
    "        word_counts = defaultdict(int)\n",
    " \n",
    "        #遍历语料库corpus\n",
    "        for row in corpus:\n",
    "            for word in row:\n",
    "                #统计每个单词出现的次数\n",
    "                word_counts[word] += 1\n",
    " \n",
    "        # 词汇表的长度\n",
    "        self.v_count = len(word_counts.keys())\n",
    "        # 在词汇表中的单词组成的列表\n",
    "        self.words_list = list(word_counts.keys())\n",
    "        # 以词汇表中单词为key，索引为value的字典数据\n",
    "        self.word_index = dict((word, i) for i, word in enumerate(self.words_list))\n",
    "        #以索引为key，以词汇表中单词为value的字典数据\n",
    "        self.index_word = dict((i, word) for i, word in enumerate(self.words_list))\n",
    " \n",
    "        training_data = []\n",
    " \n",
    "        for sentence in corpus:\n",
    "            sent_len = len(sentence)\n",
    " \n",
    "            for i, word in enumerate(sentence):\n",
    " \n",
    "                w_target = self.word2onehot(sentence[i])\n",
    " \n",
    "                w_context = []\n",
    " \n",
    "                for j in range(i - self.window, i + self.window):\n",
    "                    if j != i and j <= sent_len - 1 and j >= 0:\n",
    "                        w_context.append(self.word2onehot(sentence[j]))\n",
    " \n",
    "                training_data.append([w_target, w_context])\n",
    " \n",
    "        return np.array(training_data)\n",
    " \n",
    "    def word2onehot(self, word):\n",
    " \n",
    "        #将词用onehot编码\n",
    " \n",
    "        word_vec = [0 for i in range(0, self.v_count)]\n",
    " \n",
    "        word_index = self.word_index[word]\n",
    " \n",
    "        word_vec[word_index] = 1\n",
    " \n",
    "        return word_vec\n",
    " \n",
    "    def train(self, training_data):\n",
    " \n",
    " \n",
    "        #随机化参数w1,w2\n",
    "        self.w1 = np.random.uniform(-1, 1, (self.v_count, self.n))\n",
    " \n",
    "        self.w2 = np.random.uniform(-1, 1, (self.n, self.v_count))\n",
    " \n",
    "        for i in range(self.epochs):\n",
    " \n",
    "            self.loss = 0\n",
    " \n",
    "            # w_t 是表示目标词的one-hot向量\n",
    "            #w_t -> w_target,w_c ->w_context\n",
    "            for w_t, w_c in training_data:\n",
    " \n",
    "                #前向传播\n",
    "                y_pred, h, u = self.forward(w_t)\n",
    " \n",
    "                #计算误差\n",
    "                EI = np.sum([np.subtract(y_pred, word) for word in w_c], axis=0)\n",
    " \n",
    "                #反向传播，更新参数\n",
    "                self.backprop(EI, h, w_t)\n",
    " \n",
    "                #计算总损失\n",
    "                self.loss += -np.sum([u[word.index(1)] for word in w_c]) + len(w_c) * np.log(np.sum(np.exp(u)))\n",
    " \n",
    "            print('Epoch:', i, \"Loss:\", self.loss)\n",
    " \n",
    "    def forward(self, x):\n",
    "        \"\"\"\n",
    "        前向传播\n",
    "        \"\"\"\n",
    " \n",
    "        h = np.dot(self.w1.T, x)\n",
    " \n",
    "        u = np.dot(self.w2.T, h)\n",
    " \n",
    "        y_c = self.softmax(u)\n",
    " \n",
    "        return y_c, h, u\n",
    " \n",
    " \n",
    "    def softmax(self, x):\n",
    "        \"\"\"\n",
    "        \"\"\"\n",
    "        e_x = np.exp(x - np.max(x))\n",
    " \n",
    "        return e_x / np.sum(e_x)\n",
    " \n",
    " \n",
    "    def backprop(self, e, h, x):\n",
    " \n",
    "        d1_dw2 = np.outer(h, e)\n",
    "        d1_dw1 = np.outer(x, np.dot(self.w2, e.T))\n",
    " \n",
    "        self.w1 = self.w1 - (self.lr * d1_dw1)\n",
    "        self.w2 = self.w2 - (self.lr * d1_dw2)\n",
    " \n",
    "    def word_vec(self, word):\n",
    " \n",
    "        \"\"\"\n",
    "        获取词向量\n",
    "        通过获取词的索引直接在权重向量中找\n",
    "        \"\"\"\n",
    " \n",
    "        w_index = self.word_index[word]\n",
    "        v_w = self.w1[w_index]\n",
    " \n",
    "        return v_w\n",
    " \n",
    "    def vec_sim(self, word, top_n):\n",
    "        \"\"\"\n",
    "        找相似的词\n",
    "        \"\"\"\n",
    " \n",
    "        v_w1 = self.word_vec(word)\n",
    "        word_sim = {}\n",
    " \n",
    "        for i in range(self.v_count):\n",
    "            v_w2 = self.w1[i]\n",
    "            theta_sum = np.dot(v_w1, v_w2)\n",
    " \n",
    "            #np.linalg.norm(v_w1) 求范数 默认为2范数，即平方和的二次开方\n",
    "            theta_den = np.linalg.norm(v_w1) * np.linalg.norm(v_w2)\n",
    "            theta = theta_sum / theta_den\n",
    " \n",
    "            word = self.index_word[i]\n",
    "            word_sim[word] = theta\n",
    " \n",
    "        words_sorted = sorted(word_sim.items(), key=lambda kv: kv[1], reverse=True)\n",
    " \n",
    "        for word, sim in words_sorted[:top_n]:\n",
    "            print(word, sim)\n",
    " \n",
    "    def get_w(self):\n",
    "        w1 = self.w1\n",
    "        return  w1\n",
    "#超参数\n",
    "settings = {\n",
    "    'window_size': 2,   #窗口尺寸 m\n",
    "    #单词嵌入(word embedding)的维度,维度也是隐藏层的大小。\n",
    "    'n': 10,\n",
    "    'epochs': 50,         #表示遍历整个样本的次数。在每个epoch中，我们循环通过一遍训练集的样本。\n",
    "    'learning_rate':0.01 #学习率\n",
    "}\n",
    " \n",
    "#数据准备\n",
    "text = \"natural language processing and machine learning is fun and exciting\"\n",
    "#按照单词间的空格对我们的语料库进行分词\n",
    "corpus = [[word.lower() for word in text.split()]]\n",
    "print(corpus)\n",
    " \n",
    "#初始化一个word2vec对象\n",
    "w2v = word2vec()\n",
    " \n",
    "training_data = w2v.generate_training_data(settings,corpus)\n",
    " \n",
    "#训练\n",
    "w2v.train(training_data)\n",
    " \n",
    "# 获取词的向量\n",
    "word = \"machine\"\n",
    "vec = w2v.word_vec(word)\n",
    "print(word, vec)\n",
    " \n",
    "# 找相似的词\n",
    "w2v.vec_sim(\"machine\", 3)\n",
    " \n",
    " "
   ]
  },
  {
   "cell_type": "code",
   "execution_count": null,
   "metadata": {},
   "outputs": [],
   "source": []
  }
 ],
 "metadata": {
  "kernelspec": {
   "display_name": "Python 3",
   "language": "python",
   "name": "python3"
  },
  "language_info": {
   "codemirror_mode": {
    "name": "ipython",
    "version": 3
   },
   "file_extension": ".py",
   "mimetype": "text/x-python",
   "name": "python",
   "nbconvert_exporter": "python",
   "pygments_lexer": "ipython3",
   "version": "3.7.3"
  }
 },
 "nbformat": 4,
 "nbformat_minor": 2
}
