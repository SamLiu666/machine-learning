{
 "cells": [
  {
   "cell_type": "markdown",
   "metadata": {},
   "source": [
    "**TF Representation**"
   ]
  },
  {
   "cell_type": "code",
   "execution_count": 17,
   "metadata": {},
   "outputs": [
    {
     "name": "stdout",
     "output_type": "stream",
     "text": [
      "{'time': 6, 'flies': 3, 'like': 5, 'an': 0, 'arrow': 1, 'fruit': 4, 'banana': 2}\n",
      "[[1 1 0 1 0 1 1]\n",
      " [0 0 1 1 1 1 0]]\n"
     ]
    },
    {
     "data": {
      "text/plain": [
       "<matplotlib.axes._subplots.AxesSubplot at 0x23c548050c8>"
      ]
     },
     "execution_count": 17,
     "metadata": {},
     "output_type": "execute_result"
    },
    {
     "data": {
      "image/png": "[encoded data removed]",
      "text/plain": [
       "<Figure size 432x288 with 1 Axes>"
      ]
     },
     "metadata": {
      "needs_background": "light"
     },
     "output_type": "display_data"
    }
   ],
   "source": [
    "from sklearn.feature_extraction.text import CountVectorizer\n",
    "import seaborn as sns\n",
    "\n",
    "corpus = ['Time flies flies like an arrow.',\n",
    "          'Fruit flies like a banana.']\n",
    "vocab = set([word for sen in corpus for word in sen.split(\" \")])\n",
    "\n",
    "one_hot_vectorizer = CountVectorizer(binary=True)\n",
    "one_hot = one_hot_vectorizer.fit_transform(corpus).toarray()\n",
    "\n",
    "print(one_hot_vectorizer.vocabulary_)\n",
    "print(one_hot)\n",
    "\n",
    "sns.heatmap(one_hot, annot=True,\n",
    "            cbar=False,  xticklabels=vocab,\n",
    "            yticklabels=[ 'Sentence 1','Sentence 2'])\n"
   ]
  },
  {
   "cell_type": "markdown",
   "metadata": {},
   "source": [
    "**TF-IDF**\n",
    " \n",
    " TF-IDF = TF(w) * IDF(w)\n",
    "  IDF=log2(n/k) (整个文档有n篇文章，而一个词语在k篇文章中出现）"
   ]
  },
  {
   "cell_type": "code",
   "execution_count": 20,
   "metadata": {},
   "outputs": [
    {
     "data": {
      "text/plain": [
       "<matplotlib.axes._subplots.AxesSubplot at 0x23c548c60c8>"
      ]
     },
     "execution_count": 20,
     "metadata": {},
     "output_type": "execute_result"
    },
    {
     "data": {
      "image/png": "[encoded data removed]",
      "text/plain": [
       "<Figure size 432x288 with 1 Axes>"
      ]
     },
     "metadata": {
      "needs_background": "light"
     },
     "output_type": "display_data"
    }
   ],
   "source": [
    "from sklearn.feature_extraction.text import TfidfVectorizer\n",
    "import seaborn as sns\n",
    "\n",
    "tfidf_vectorizer = TfidfVectorizer()\n",
    "tfidf = tfidf_vectorizer.fit_transform(corpus).toarray()\n",
    "sns.heatmap(tfidf, annot=True, cbar=False, xticklabels=vocab,\n",
    "            yticklabels= [ 'Sentence 1','Sentence 2'])"
   ]
  },
  {
   "cell_type": "markdown",
   "metadata": {},
   "source": [
    "# Pytorch Basic"
   ]
  },
  {
   "cell_type": "code",
   "execution_count": 4,
   "metadata": {},
   "outputs": [],
   "source": [
    "# 创建描述函数\n",
    "def describe(x):\n",
    "    print(\"Type: {}\".format(x.type()))\n",
    "    print(\"Shape,size: {}\".format(x.shape))\n",
    "    print(\"Values: {}\".format(x))"
   ]
  },
  {
   "cell_type": "code",
   "execution_count": 8,
   "metadata": {},
   "outputs": [
    {
     "name": "stdout",
     "output_type": "stream",
     "text": [
      "Type: torch.FloatTensor\n",
      "Shape,size: torch.Size([2])\n",
      "Values: tensor([3., 3.])\n"
     ]
    }
   ],
   "source": [
    "import torch\n",
    "\n",
    "# 一般\n",
    "a = torch.Tensor((3,3))\n",
    "describe(a)"
   ]
  },
  {
   "cell_type": "code",
   "execution_count": 6,
   "metadata": {},
   "outputs": [
    {
     "name": "stdout",
     "output_type": "stream",
     "text": [
      "Type: torch.FloatTensor\n",
      "Shape,size: torch.Size([2, 2])\n",
      "Values: tensor([[0.8952, 0.1259],\n",
      "        [0.2493, 0.7242]])\n",
      "Type: torch.FloatTensor\n",
      "Shape,size: torch.Size([2, 2])\n",
      "Values: tensor([[-0.2564, -0.7241],\n",
      "        [-0.6527, -0.7310]])\n"
     ]
    }
   ],
   "source": [
    "# 随机张量\n",
    "r = torch.rand(2,2)\n",
    "rr = torch.randn([2,2])\n",
    "describe(r)\n",
    "describe(rr)"
   ]
  },
  {
   "cell_type": "code",
   "execution_count": 10,
   "metadata": {},
   "outputs": [
    {
     "name": "stdout",
     "output_type": "stream",
     "text": [
      "Type: torch.FloatTensor\n",
      "Shape,size: torch.Size([2, 2, 2])\n",
      "Values: tensor([[[0., 0.],\n",
      "         [0., 0.]],\n",
      "\n",
      "        [[0., 0.],\n",
      "         [0., 0.]]])\n",
      "Type: torch.FloatTensor\n",
      "Shape,size: torch.Size([2, 2, 2, 2])\n",
      "Values: tensor([[[[1., 1.],\n",
      "          [1., 1.]],\n",
      "\n",
      "         [[1., 1.],\n",
      "          [1., 1.]]],\n",
      "\n",
      "\n",
      "        [[[1., 1.],\n",
      "          [1., 1.]],\n",
      "\n",
      "         [[1., 1.],\n",
      "          [1., 1.]]]])\n"
     ]
    }
   ],
   "source": [
    "zeros = torch.zeros(2,2,2)\n",
    "ones = torch.ones(2,2,2,2)\n",
    "describe(zeros)\n",
    "describe(ones)"
   ]
  },
  {
   "cell_type": "code",
   "execution_count": 11,
   "metadata": {},
   "outputs": [
    {
     "name": "stdout",
     "output_type": "stream",
     "text": [
      "Type: torch.DoubleTensor\n",
      "Shape,size: torch.Size([2, 2])\n",
      "Values: tensor([[0.5220, 0.3712],\n",
      "        [0.3246, 0.2542]], dtype=torch.float64)\n"
     ]
    }
   ],
   "source": [
    "# tensor 和 numpy.array 转换\n",
    "import numpy as np\n",
    "npa = np.random.rand(2,2)\n",
    "tora = torch.from_numpy(npa)\n",
    "describe(tora)"
   ]
  },
  {
   "cell_type": "code",
   "execution_count": 14,
   "metadata": {},
   "outputs": [
    {
     "name": "stdout",
     "output_type": "stream",
     "text": [
      "Type: torch.FloatTensor\n",
      "Shape,size: torch.Size([2, 3])\n",
      "Values: tensor([[1., 1., 1.],\n",
      "        [2., 1., 3.]])\n"
     ]
    }
   ],
   "source": [
    "x = torch.FloatTensor([[1,1,1],[2,1,3]])\n",
    "describe(x)"
   ]
  },
  {
   "cell_type": "code",
   "execution_count": 18,
   "metadata": {},
   "outputs": [
    {
     "name": "stdout",
     "output_type": "stream",
     "text": [
      "Type: torch.FloatTensor\n",
      "Shape,size: torch.Size([2, 3])\n",
      "Values: tensor([[1., 2., 3.],\n",
      "        [1., 2., 3.]])\n",
      "*****两行之和*****\n",
      "Type: torch.FloatTensor\n",
      "Shape,size: torch.Size([3])\n",
      "Values: tensor([2., 4., 6.])\n",
      "*****两列之和*****\n",
      "Type: torch.FloatTensor\n",
      "Shape,size: torch.Size([2])\n",
      "Values: tensor([6., 6.])\n"
     ]
    }
   ],
   "source": [
    "# 维度计算，行为0，列为1\n",
    "x = torch.Tensor([[1,2,3],[1,2,3]])\n",
    "describe(x)\n",
    "print(\"*****两行之和*****\")\n",
    "row = torch.sum(x, dim=0)\n",
    "describe(row)\n",
    "print(\"*****两列之和*****\")\n",
    "col = torch.sum(x, dim=1)\n",
    "describe(col)"
   ]
  },
  {
   "cell_type": "code",
   "execution_count": 28,
   "metadata": {},
   "outputs": [
    {
     "name": "stdout",
     "output_type": "stream",
     "text": [
      "Type: torch.FloatTensor\n",
      "Shape,size: torch.Size([2, 3])\n",
      "Values: tensor([[1., 2., 3.],\n",
      "        [1., 2., 3.]])\n",
      "****************************************\n",
      "Type: torch.FloatTensor\n",
      "Shape,size: torch.Size([2, 2])\n",
      "Values: tensor([[1., 2.],\n",
      "        [1., 2.]])\n",
      "****************************************\n",
      "Type: torch.FloatTensor\n",
      "Shape,size: torch.Size([2, 6])\n",
      "Values: tensor([[1., 2., 3., 1., 2., 3.],\n",
      "        [1., 2., 3., 1., 2., 3.]])\n",
      "****************************************\n",
      "Type: torch.FloatTensor\n",
      "Shape,size: torch.Size([4, 3])\n",
      "Values: tensor([[1., 2., 3.],\n",
      "        [1., 2., 3.],\n",
      "        [1., 2., 3.],\n",
      "        [1., 2., 3.]])\n",
      "****************************************\n",
      "Type: torch.FloatTensor\n",
      "Shape,size: torch.Size([2, 2, 3])\n",
      "Values: tensor([[[1., 2., 3.],\n",
      "         [1., 2., 3.]],\n",
      "\n",
      "        [[1., 2., 3.],\n",
      "         [1., 2., 3.]]])\n"
     ]
    }
   ],
   "source": [
    "# 切片，联合\n",
    "describe(x)\n",
    "print('*'*40)\n",
    "describe(x[:,:2])\n",
    "print('*'*40)\n",
    "describe(torch.cat([x,x], dim=1))\n",
    "print('*'*40)\n",
    "describe(torch.cat([x,x], dim=0))\n",
    "print('*'*40)\n",
    "describe(torch.stack([x,x], dim=0))"
   ]
  },
  {
   "cell_type": "code",
   "execution_count": 35,
   "metadata": {},
   "outputs": [
    {
     "name": "stdout",
     "output_type": "stream",
     "text": [
      "Type: torch.LongTensor\n",
      "Shape,size: torch.Size([2, 3])\n",
      "Values: tensor([[0, 1, 2],\n",
      "        [3, 4, 5]])\n",
      "****************************************\n",
      "Type: torch.IntTensor\n",
      "Shape,size: torch.Size([3, 2])\n",
      "Values: tensor([[1, 1],\n",
      "        [1, 1],\n",
      "        [1, 1]], dtype=torch.int32)\n",
      "****************************************\n"
     ]
    }
   ],
   "source": [
    "x1 = torch.arange(6).view(2, 3)  # 改变tensor 的size\n",
    "x2 = torch.ones(3, 2).int()\n",
    "describe(x1)\n",
    "print('*'*40)\n",
    "describe(x2)\n",
    "print('*'*40)\n"
   ]
  },
  {
   "cell_type": "code",
   "execution_count": 45,
   "metadata": {},
   "outputs": [
    {
     "name": "stdout",
     "output_type": "stream",
     "text": [
      "Type: torch.FloatTensor\n",
      "Shape,size: torch.Size([2, 2])\n",
      "Values: tensor([[1., 1.],\n",
      "        [1., 1.]], requires_grad=True)\n",
      "True\n",
      "****************************************\n",
      "Type: torch.FloatTensor\n",
      "Shape,size: torch.Size([2, 2])\n",
      "Values: tensor([[5., 5.],\n",
      "        [5., 5.]], grad_fn=<AddBackward0>)\n",
      "****************************************\n",
      "Type: torch.FloatTensor\n",
      "Shape,size: torch.Size([])\n",
      "Values: 5.0\n",
      "****************************************\n",
      "None\n"
     ]
    }
   ],
   "source": [
    "import warnings\n",
    "x = torch.ones(2, 2, requires_grad=True)\n",
    "describe(x)\n",
    "print(x.grad is None)\n",
    "print('*'*40)\n",
    "y = 2*x + 3\n",
    "describe(y)\n",
    "print('*'*40)\n",
    "z = y.mean()\n",
    "describe(z)\n",
    "print('*'*40)\n",
    "print(z.backward())"
   ]
  },
  {
   "cell_type": "code",
   "execution_count": 46,
   "metadata": {},
   "outputs": [
    {
     "name": "stdout",
     "output_type": "stream",
     "text": [
      "Type: torch.FloatTensor\n",
      "Shape,size: torch.Size([2, 2])\n",
      "Values: tensor([[1., 1.],\n",
      "        [1., 1.]], requires_grad=True)\n",
      "****************************************\n"
     ]
    },
    {
     "data": {
      "text/plain": [
       "tensor([[[0.2049, 0.8056, 0.0377],\n",
       "         [0.7858, 0.8411, 0.8584],\n",
       "         [0.6493, 0.5969, 0.5997]]])"
      ]
     },
     "execution_count": 46,
     "metadata": {},
     "output_type": "execute_result"
    }
   ],
   "source": [
    "a = torch.rand(3, 3) \n",
    "describe(x)\n",
    "print('*'*40)\n",
    "a.unsqueeze(0)"
   ]
  },
  {
   "cell_type": "code",
   "execution_count": 47,
   "metadata": {},
   "outputs": [
    {
     "data": {
      "text/plain": [
       "tensor([[0.2049, 0.8056, 0.0377],\n",
       "        [0.7858, 0.8411, 0.8584],\n",
       "        [0.6493, 0.5969, 0.5997]])"
      ]
     },
     "execution_count": 47,
     "metadata": {},
     "output_type": "execute_result"
    }
   ],
   "source": [
    "a.squeeze(0)"
   ]
  },
  {
   "cell_type": "code",
   "execution_count": 48,
   "metadata": {},
   "outputs": [
    {
     "data": {
      "text/plain": [
       "tensor([[5.5933, 5.5802, 3.4511],\n",
       "        [3.4790, 5.4937, 6.4230],\n",
       "        [6.6700, 3.0906, 5.7147],\n",
       "        [6.7260, 4.3187, 6.2326],\n",
       "        [3.6653, 5.2467, 3.1320]])"
      ]
     },
     "execution_count": 48,
     "metadata": {},
     "output_type": "execute_result"
    }
   ],
   "source": [
    "3 + torch.rand(5, 3) * (7 - 3)"
   ]
  },
  {
   "cell_type": "code",
   "execution_count": 50,
   "metadata": {},
   "outputs": [
    {
     "data": {
      "text/plain": [
       "tensor([[-1.1377,  1.3856, -0.2815],\n",
       "        [-0.3686,  0.0093,  0.6929],\n",
       "        [ 0.3080, -0.4599, -0.9196]])"
      ]
     },
     "execution_count": 50,
     "metadata": {},
     "output_type": "execute_result"
    }
   ],
   "source": [
    "a = torch.rand(3, 3) \n",
    "a.normal_()"
   ]
  },
  {
   "cell_type": "code",
   "execution_count": null,
   "metadata": {},
   "outputs": [],
   "source": []
  }
 ],
 "metadata": {
  "kernelspec": {
   "display_name": "Python 3",
   "language": "python",
   "name": "python3"
  },
  "language_info": {
   "codemirror_mode": {
    "name": "ipython",
    "version": 3
   },
   "file_extension": ".py",
   "mimetype": "text/x-python",
   "name": "python",
   "nbconvert_exporter": "python",
   "pygments_lexer": "ipython3",
   "version": "3.7.7"
  }
 },
 "nbformat": 4,
 "nbformat_minor": 4
}
