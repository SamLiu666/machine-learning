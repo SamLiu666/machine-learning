{
 "cells": [
  {
   "cell_type": "code",
   "execution_count": 2,
   "metadata": {},
   "outputs": [
    {
     "name": "stdout",
     "output_type": "stream",
     "text": [
      "hello, world~\n"
     ]
    }
   ],
   "source": [
    "print(\"hello, world~\")"
   ]
  },
  {
   "cell_type": "code",
   "execution_count": 4,
   "metadata": {},
   "outputs": [
    {
     "name": "stdout",
     "output_type": "stream",
     "text": [
      "number\n"
     ]
    }
   ],
   "source": [
    "number = 5\n",
    "if number >= 2:\n",
    "    print(\"number\")\n",
    "elif number <=-3:\n",
    "    print(number)\n",
    "else:\n",
    "    print(number+3)"
   ]
  },
  {
   "cell_type": "code",
   "execution_count": 5,
   "metadata": {},
   "outputs": [
    {
     "name": "stdout",
     "output_type": "stream",
     "text": [
      "a 10\n",
      "single_item 1\n",
      "single_item 2\n",
      "single_item 3\n",
      "Jack 1123\n",
      "John 2231\n",
      "Inge 1560\n"
     ]
    }
   ],
   "source": [
    "def total(a=5, *numbers, **phonebook):\n",
    "    print('a', a)\n",
    "\n",
    "    #iterate through all the items in tuple\n",
    "    for single_item in numbers:\n",
    "        print('single_item', single_item)\n",
    "\n",
    "    #iterate through all the items in dictionary    \n",
    "    for first_part, second_part in phonebook.items():\n",
    "        print(first_part,second_part)\n",
    "\n",
    "total(10,1,2,3,Jack=1123,John=2231,Inge=1560)"
   ]
  },
  {
   "cell_type": "code",
   "execution_count": 6,
   "metadata": {},
   "outputs": [
    {
     "name": "stdout",
     "output_type": "stream",
     "text": [
      "3\n",
      "The numbers are equal\n"
     ]
    }
   ],
   "source": [
    "def maximum(x, y):\n",
    "    if x > y:\n",
    "        return x\n",
    "    elif x == y:\n",
    "        return 'The numbers are equal'\n",
    "    else:\n",
    "        return y\n",
    "\n",
    "print(maximum(2, 3))\n",
    "s = maximum(2, 2)\n",
    "print(s)"
   ]
  },
  {
   "cell_type": "code",
   "execution_count": 7,
   "metadata": {},
   "outputs": [
    {
     "name": "stdout",
     "output_type": "stream",
     "text": [
      "The command line arguments are:\n",
      "d:\\python3\\lib\\site-packages\\ipykernel_launcher.py\n",
      "-f\n",
      "C:\\Users\\liu\\AppData\\Roaming\\jupyter\\runtime\\kernel-6d372362-1db7-4451-ae1e-1722eed5524d.json\n",
      "\n",
      "\n",
      "The PYTHONPATH is ['D:\\\\machine learning\\\\paper\\\\读书笔记\\\\python cookbook\\\\python 基础', 'd:\\\\python3\\\\python37.zip', 'd:\\\\python3\\\\DLLs', 'd:\\\\python3\\\\lib', 'd:\\\\python3', '', 'C:\\\\Users\\\\liu\\\\AppData\\\\Roaming\\\\Python\\\\Python37\\\\site-packages', 'd:\\\\python3\\\\lib\\\\site-packages', 'd:\\\\python3\\\\lib\\\\site-packages\\\\pyinstaller-4.0.dev0+b3dd91c8a8-py3.7.egg', 'd:\\\\python3\\\\lib\\\\site-packages\\\\pywin32_ctypes-0.2.0-py3.7.egg', 'd:\\\\python3\\\\lib\\\\site-packages\\\\pefile-2019.4.18-py3.7.egg', 'd:\\\\python3\\\\lib\\\\site-packages\\\\altgraph-0.17-py3.7.egg', 'd:\\\\python3\\\\lib\\\\site-packages\\\\future-0.18.2-py3.7.egg', 'd:\\\\python3\\\\lib\\\\site-packages\\\\IPython\\\\extensions', 'C:\\\\Users\\\\liu\\\\.ipython'] \n",
      "\n"
     ]
    }
   ],
   "source": [
    "import sys\n",
    "\n",
    "print('The command line arguments are:')\n",
    "for i in sys.argv:\n",
    "    print(i)\n",
    "\n",
    "print('\\n\\nThe PYTHONPATH is', sys.path, '\\n')"
   ]
  },
  {
   "cell_type": "code",
   "execution_count": null,
   "metadata": {},
   "outputs": [],
   "source": []
  }
 ],
 "metadata": {
  "kernelspec": {
   "display_name": "Python 3",
   "language": "python",
   "name": "python3"
  },
  "language_info": {
   "codemirror_mode": {
    "name": "ipython",
    "version": 3
   },
   "file_extension": ".py",
   "mimetype": "text/x-python",
   "name": "python",
   "nbconvert_exporter": "python",
   "pygments_lexer": "ipython3",
   "version": "3.7.3"
  }
 },
 "nbformat": 4,
 "nbformat_minor": 2
}
