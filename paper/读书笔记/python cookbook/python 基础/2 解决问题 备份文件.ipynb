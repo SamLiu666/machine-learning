{
 "cells": [
  {
   "cell_type": "markdown",
   "metadata": {},
   "source": [
    "# 问题\n",
    "我们希望解决的问题如下：\n",
    "\n",
    "我想要一款程序来备份我所有的重要文件。"
   ]
  },
  {
   "cell_type": "markdown",
   "metadata": {},
   "source": [
    "需要备份的文件与目录应在一份列表中予以指定。\n",
    "\n",
    "备份必须存储在一个主备份目录中。\n",
    "\n",
    "备份文件将打包压缩成 zip 文件。\n",
    "\n",
    "zip 压缩文件的文件名由当前日期与时间构成。\n",
    "\n",
    "我们使用在任何 GNU/Linux 或 Unix 发行版中都会默认提供的标准 zip 命令进行打包。在这里你需要了解到只要有命令行界面，你就可以使用任何需要用到的压缩或归档命令。"
   ]
  },
  {
   "cell_type": "markdown",
   "metadata": {},
   "source": [
    "# 软件开发流程\n",
    "我们已经经历了开发一款软件的流程中的各个阶段（Phases）。现在可以将这些阶段总结如下：\n",
    "\n",
    "1. What/做什么（分析）\n",
    "2. How/怎么做（设计）\n",
    "3. Do It/开始做（执行）\n",
    "4. Test/测试（测试与修复错误）\n",
    "5. Use/使用（操作或开发）\n",
    "6. Maintain/维护（改进）\n",
    "\n",
    "编写程序时推荐的一种方式是遵循我们在编写备份脚本时所经历的步骤：进行分析与设计；开始实现一个简单版本；测试并修复错误；开始使用以确保工作状况皆如期望那般。现在，你可以添加任何你所希望拥有的功能，并继续去重复这一“开始做—测试—使用”循环，需要做多少次就去做多少次。\n",
    "\n",
    "要记住：\n",
    "\n",
    "程序是成长起来的，不是搭建出来的。 （Software is grown, not built.）"
   ]
  },
  {
   "cell_type": "code",
   "execution_count": 2,
   "metadata": {},
   "outputs": [
    {
     "ename": "FileNotFoundError",
     "evalue": "[WinError 3] 系统找不到指定的路径。: '/Users/swa/backup'",
     "output_type": "error",
     "traceback": [
      "\u001b[1;31m---------------------------------------------------------------------------\u001b[0m",
      "\u001b[1;31mFileNotFoundError\u001b[0m                         Traceback (most recent call last)",
      "\u001b[1;32m<ipython-input-2-1afdea6ece7a>\u001b[0m in \u001b[0;36m<module>\u001b[1;34m\u001b[0m\n\u001b[0;32m     21\u001b[0m \u001b[1;31m# 如果目标目录还不存在，则进行创建\u001b[0m\u001b[1;33m\u001b[0m\u001b[1;33m\u001b[0m\u001b[1;33m\u001b[0m\u001b[0m\n\u001b[0;32m     22\u001b[0m \u001b[1;32mif\u001b[0m \u001b[1;32mnot\u001b[0m \u001b[0mos\u001b[0m\u001b[1;33m.\u001b[0m\u001b[0mpath\u001b[0m\u001b[1;33m.\u001b[0m\u001b[0mexists\u001b[0m\u001b[1;33m(\u001b[0m\u001b[0mtarget_dir\u001b[0m\u001b[1;33m)\u001b[0m\u001b[1;33m:\u001b[0m\u001b[1;33m\u001b[0m\u001b[1;33m\u001b[0m\u001b[0m\n\u001b[1;32m---> 23\u001b[1;33m     \u001b[0mos\u001b[0m\u001b[1;33m.\u001b[0m\u001b[0mmkdir\u001b[0m\u001b[1;33m(\u001b[0m\u001b[0mtarget_dir\u001b[0m\u001b[1;33m)\u001b[0m  \u001b[1;31m# 创建目录\u001b[0m\u001b[1;33m\u001b[0m\u001b[1;33m\u001b[0m\u001b[0m\n\u001b[0m\u001b[0;32m     24\u001b[0m \u001b[1;33m\u001b[0m\u001b[0m\n\u001b[0;32m     25\u001b[0m \u001b[1;31m# 3. 备份文件将打包压缩成 zip 文件。\u001b[0m\u001b[1;33m\u001b[0m\u001b[1;33m\u001b[0m\u001b[1;33m\u001b[0m\u001b[0m\n",
      "\u001b[1;31mFileNotFoundError\u001b[0m: [WinError 3] 系统找不到指定的路径。: '/Users/swa/backup'"
     ]
    }
   ],
   "source": [
    "import os\n",
    "import time\n",
    "\n",
    "# 1. 需要备份的文件与目录将被\n",
    "# 指定在一个列表中。\n",
    "# 例如在 Windows 下：\n",
    "# source = ['\"C:\\\\My Documents\"', 'C:\\\\Code']\n",
    "# 又例如在 Mac OS X 与 Linux 下：\n",
    "source = ['/Users/swa/notes']\n",
    "# 在这里要注意到我们必须在字符串中使用双引号\n",
    "# 用以括起其中包含空格的名称。\n",
    "\n",
    "# 2. 备份文件必须存储在一个\n",
    "# 主备份目录中\n",
    "# 例如在 Windows 下：\n",
    "# target_dir = 'E:\\\\Backup'\n",
    "# 又例如在 Mac OS X 和 Linux 下：\n",
    "target_dir = '/Users/swa/backup'\n",
    "# 要记得将这里的目录地址修改至你将使用的路径\n",
    "\n",
    "# 如果目标目录还不存在，则进行创建\n",
    "if not os.path.exists(target_dir):\n",
    "    os.mkdir(target_dir)  # 创建目录\n",
    "\n",
    "# 3. 备份文件将打包压缩成 zip 文件。\n",
    "# 4. 将当前日期作为主备份目录下的\n",
    "# 子目录名称\n",
    "today = target_dir + os.sep + time.strftime('%Y%m%d')\n",
    "# 将当前时间作为 zip 文件的文件名\n",
    "now = time.strftime('%H%M%S')\n",
    "\n",
    "# 添加一条来自用户的注释以创建\n",
    "# zip 文件的文件名\n",
    "comment = input('Enter a comment --> ')\n",
    "# 检查是否有评论键入\n",
    "if len(comment) == 0:\n",
    "    target = today + os.sep + now + '.zip'\n",
    "else:\n",
    "    target = today + os.sep + now + '_' + \\\n",
    "        comment.replace(' ', '_') + '.zip'\n",
    "\n",
    "# 如果子目录尚不存在则创建一个\n",
    "if not os.path.exists(today):\n",
    "    os.mkdir(today)\n",
    "    print('Successfully created directory', today)\n",
    "\n",
    "# 5. 我们使用 zip 命令将文件打包成 zip 格式\n",
    "zip_command = 'zip -r {0} {1}'.format(target,\n",
    "                                      ' '.join(source))\n",
    "\n",
    "# 运行备份\n",
    "print('Zip command is:')\n",
    "print(zip_command)\n",
    "print('Running:')\n",
    "if os.system(zip_command) == 0:\n",
    "    print('Successful backup to', target)\n",
    "else:\n",
    "    print('Backup FAILED')"
   ]
  },
  {
   "cell_type": "markdown",
   "metadata": {},
   "source": [
    "# 类"
   ]
  },
  {
   "cell_type": "code",
   "execution_count": 6,
   "metadata": {},
   "outputs": [
    {
     "name": "stdout",
     "output_type": "stream",
     "text": [
      "Hello, my name is Swaroop\n"
     ]
    }
   ],
   "source": [
    "class Person:\n",
    "    def __init__(self, name):\n",
    "        self.name = name\n",
    "\n",
    "    def say_hi(self):\n",
    "        print('Hello, my name is', self.name)\n",
    "\n",
    "p = Person('Peter')\n",
    "p.say_hi()\n",
    "# 前面两行同时也能写作\n",
    "# Person('Swaroop').say_hi()"
   ]
  },
  {
   "cell_type": "markdown",
   "metadata": {},
   "source": [
    "## 字段\n",
    "类变量 和 对象变量"
   ]
  },
  {
   "cell_type": "code",
   "execution_count": 7,
   "metadata": {},
   "outputs": [
    {
     "name": "stdout",
     "output_type": "stream",
     "text": [
      "(Initializing R2-D2)\n",
      "Greetings, my masters call me R2-D2.\n",
      "We have 1 robots.\n",
      "(Initializing C-3PO)\n",
      "Greetings, my masters call me C-3PO.\n",
      "We have 2 robots.\n",
      "\n",
      "Robots can do some work here.\n",
      "\n",
      "Robots have finished their work. So let's destroy them.\n",
      "R2-D2 is being destroyed!\n",
      "There are still 1 robots working.\n",
      "C-3PO is being destroyed!\n",
      "C-3PO was the last one.\n",
      "We have 0 robots.\n"
     ]
    }
   ],
   "source": [
    "class Robot:\n",
    "    \"\"\"表示有一个带有名字的机器人。\"\"\"\n",
    "\n",
    "    # 一个类变量，用来计数机器人的数量\n",
    "    population = 0\n",
    "\n",
    "    def __init__(self, name):\n",
    "        \"\"\"初始化数据\"\"\"\n",
    "        self.name = name\n",
    "        print(\"(Initializing {})\".format(self.name))\n",
    "\n",
    "        # 当有人被创建时，机器人\n",
    "        # 将会增加人口数量\n",
    "        Robot.population += 1\n",
    "\n",
    "    def die(self):\n",
    "        \"\"\"我挂了。\"\"\"\n",
    "        print(\"{} is being destroyed!\".format(self.name))\n",
    "\n",
    "        Robot.population -= 1\n",
    "\n",
    "        if Robot.population == 0:\n",
    "            print(\"{} was the last one.\".format(self.name))\n",
    "        else:\n",
    "            print(\"There are still {:d} robots working.\".format(\n",
    "                Robot.population))\n",
    "\n",
    "    def say_hi(self):\n",
    "        \"\"\"来自机器人的诚挚问候\n",
    "\n",
    "        没问题，你做得到。\"\"\"\n",
    "        print(\"Greetings, my masters call me {}.\".format(self.name))\n",
    "\n",
    "    @classmethod\n",
    "    def how_many(cls):\n",
    "        \"\"\"打印出当前的人口数量\"\"\"\n",
    "        print(\"We have {:d} robots.\".format(cls.population))\n",
    "\n",
    "\n",
    "droid1 = Robot(\"R2-D2\")\n",
    "droid1.say_hi()\n",
    "Robot.how_many()\n",
    "\n",
    "droid2 = Robot(\"C-3PO\")\n",
    "droid2.say_hi()\n",
    "Robot.how_many()\n",
    "\n",
    "print(\"\\nRobots can do some work here.\\n\")\n",
    "\n",
    "print(\"Robots have finished their work. So let's destroy them.\")\n",
    "droid1.die()\n",
    "droid2.die()\n",
    "\n",
    "Robot.how_many()"
   ]
  },
  {
   "cell_type": "markdown",
   "metadata": {},
   "source": [
    "## 继承"
   ]
  },
  {
   "cell_type": "code",
   "execution_count": 8,
   "metadata": {},
   "outputs": [
    {
     "name": "stdout",
     "output_type": "stream",
     "text": [
      "(Initialized SchoolMember: Mrs. Shrividya)\n",
      "(Initialized Teacher: Mrs. Shrividya)\n",
      "(Initialized SchoolMember: Swaroop)\n",
      "(Initialized Student: Swaroop)\n",
      "\n",
      "Name:\"Mrs. Shrividya\" Age:\"40\" Salary: \"30000\"\n",
      "Name:\"Swaroop\" Age:\"25\" Marks: \"75\"\n"
     ]
    }
   ],
   "source": [
    "# coding=UTF-8\n",
    "\n",
    "class SchoolMember:\n",
    "    '''代表任何学校里的成员。'''\n",
    "    def __init__(self, name, age):\n",
    "        self.name = name\n",
    "        self.age = age\n",
    "        print('(Initialized SchoolMember: {})'.format(self.name))\n",
    "\n",
    "    def tell(self):\n",
    "        '''告诉我有关我的细节。'''\n",
    "        print('Name:\"{}\" Age:\"{}\"'.format(self.name, self.age), end=\" \")\n",
    "\n",
    "\n",
    "class Teacher(SchoolMember):\n",
    "    '''代表一位老师。'''\n",
    "    def __init__(self, name, age, salary):\n",
    "        SchoolMember.__init__(self, name, age)\n",
    "        self.salary = salary\n",
    "        print('(Initialized Teacher: {})'.format(self.name))\n",
    "\n",
    "    def tell(self):\n",
    "        SchoolMember.tell(self)\n",
    "        print('Salary: \"{:d}\"'.format(self.salary))\n",
    "\n",
    "\n",
    "class Student(SchoolMember):\n",
    "    '''代表一位学生。'''\n",
    "    def __init__(self, name, age, marks):\n",
    "        SchoolMember.__init__(self, name, age)\n",
    "        self.marks = marks\n",
    "        print('(Initialized Student: {})'.format(self.name))\n",
    "\n",
    "    def tell(self):\n",
    "        SchoolMember.tell(self)\n",
    "        print('Marks: \"{:d}\"'.format(self.marks))\n",
    "\n",
    "t = Teacher('Mrs. Shrividya', 40, 30000)\n",
    "s = Student('Swaroop', 25, 75)\n",
    "\n",
    "# 打印一行空白行\n",
    "print()\n",
    "\n",
    "members = [t, s]\n",
    "for member in members:\n",
    "    # 对全体师生工作\n",
    "    member.tell()"
   ]
  },
  {
   "cell_type": "code",
   "execution_count": 9,
   "metadata": {},
   "outputs": [
    {
     "name": "stdout",
     "output_type": "stream",
     "text": [
      "(Initialized SchoolMember: Mrs. Shrividya)\n",
      "(Initialized Teacher: Mrs. Shrividya)\n",
      "(Initialized SchoolMember: Swaroop)\n",
      "(Initialized Student: Swaroop)\n",
      "\n",
      "Name:\"Mrs. Shrividya\" Age:\"40\" Salary: \"30000\"\n",
      "Marks: \"75\"\n"
     ]
    }
   ],
   "source": [
    "# coding=UTF-8\n",
    "\n",
    "class SchoolMember:\n",
    "    '''代表任何学校里的成员。'''\n",
    "    def __init__(self, name, age):\n",
    "        self.name = name\n",
    "        self.age = age\n",
    "        print('(Initialized SchoolMember: {})'.format(self.name))\n",
    "\n",
    "    def tell(self):\n",
    "        '''告诉我有关我的细节。'''\n",
    "        print('Name:\"{}\" Age:\"{}\"'.format(self.name, self.age), end=\" \")\n",
    "\n",
    "\n",
    "class Teacher(SchoolMember):\n",
    "    '''代表一位老师。'''\n",
    "    def __init__(self, name, age, salary):\n",
    "        SchoolMember.__init__(self, name, age)\n",
    "        self.salary = salary\n",
    "        print('(Initialized Teacher: {})'.format(self.name))\n",
    "\n",
    "    def tell(self):\n",
    "        SchoolMember.tell(self)\n",
    "        print('Salary: \"{:d}\"'.format(self.salary))\n",
    "\n",
    "\n",
    "class Student(SchoolMember):\n",
    "    '''代表一位学生。'''\n",
    "    def __init__(self, name, age, marks):\n",
    "        SchoolMember.__init__(self, name, age)\n",
    "        self.marks = marks\n",
    "        print('(Initialized Student: {})'.format(self.name))\n",
    "\n",
    "    def tell(self):\n",
    "#         SchoolMember.tell(self)\n",
    "        print('Marks: \"{:d}\"'.format(self.marks))\n",
    "\n",
    "t = Teacher('Mrs. Shrividya', 40, 30000)\n",
    "s = Student('Swaroop', 25, 75)\n",
    "\n",
    "# 打印一行空白行\n",
    "print()\n",
    "\n",
    "members = [t, s]\n",
    "for member in members:\n",
    "    # 对全体师生工作\n",
    "    member.tell()"
   ]
  },
  {
   "cell_type": "markdown",
   "metadata": {},
   "source": [
    "# 输入输出"
   ]
  },
  {
   "cell_type": "code",
   "execution_count": 10,
   "metadata": {},
   "outputs": [
    {
     "name": "stdout",
     "output_type": "stream",
     "text": [
      "Enter text: hello\n",
      "No, it is not a palindrome\n"
     ]
    }
   ],
   "source": [
    "def reverse(text):\n",
    "    return text[::-1]\n",
    "\n",
    "\n",
    "def is_palindrome(text):\n",
    "    return text == reverse(text)\n",
    "\n",
    "\n",
    "something = input(\"Enter text: \")\n",
    "if is_palindrome(something):\n",
    "    print(\"Yes, it is a palindrome\")\n",
    "else:\n",
    "    print(\"No, it is not a palindrome\")"
   ]
  },
  {
   "cell_type": "markdown",
   "metadata": {},
   "source": [
    "## 写入文件，阅读文件"
   ]
  },
  {
   "cell_type": "code",
   "execution_count": 11,
   "metadata": {},
   "outputs": [
    {
     "name": "stdout",
     "output_type": "stream",
     "text": [
      "Programming is fun\n",
      "When the work is done\n",
      "if you wanna make your work also fun:\n",
      "    use Python!\n"
     ]
    }
   ],
   "source": [
    "poem = '''\\\n",
    "Programming is fun\n",
    "When the work is done\n",
    "if you wanna make your work also fun:\n",
    "    use Python!\n",
    "'''\n",
    "\n",
    "# 打开文件以编辑（'w'riting）\n",
    "f = open('poem.txt', 'w') # 没有文件则自动创建\n",
    "# 向文件中编写文本\n",
    "f.write(poem)\n",
    "# 关闭文件\n",
    "f.close()\n",
    "\n",
    "# 如果没有特别指定，\n",
    "# 将假定启用默认的阅读（'r'ead）模式\n",
    "f = open('poem.txt')\n",
    "while True:\n",
    "    line = f.readline()\n",
    "    # 零长度指示 EOF\n",
    "    if len(line) == 0:\n",
    "        break\n",
    "    # 每行（`line`）的末尾\n",
    "    # 都已经有了换行符\n",
    "    #因为它是从一个文件中进行读取的\n",
    "    print(line, end='')\n",
    "# 关闭文件\n",
    "f.close()"
   ]
  },
  {
   "cell_type": "markdown",
   "metadata": {},
   "source": [
    "# 异常"
   ]
  },
  {
   "cell_type": "code",
   "execution_count": 13,
   "metadata": {},
   "outputs": [
    {
     "name": "stdout",
     "output_type": "stream",
     "text": [
      "Enter something --> AA\n",
      "You entered AA\n"
     ]
    }
   ],
   "source": [
    "try:\n",
    "    text = input('Enter something --> ')\n",
    "except EOFError:\n",
    "    print('Why did you do an EOF on me?')\n",
    "except KeyboardInterrupt:\n",
    "    print('You cancelled the operation.')\n",
    "else:\n",
    "    print('You entered {}'.format(text))"
   ]
  },
  {
   "cell_type": "markdown",
   "metadata": {},
   "source": [
    "## 抛出异常"
   ]
  },
  {
   "cell_type": "code",
   "execution_count": 15,
   "metadata": {},
   "outputs": [
    {
     "name": "stdout",
     "output_type": "stream",
     "text": [
      "Enter something --> 12\n",
      "ShortInputException: The input was 2 long, expected at least 3\n"
     ]
    }
   ],
   "source": [
    "# encoding=UTF-8\n",
    "\n",
    "class ShortInputException(Exception):\n",
    "    '''一个由用户定义的异常类'''\n",
    "    def __init__(self, length, atleast):\n",
    "        Exception.__init__(self)\n",
    "        self.length = length\n",
    "        self.atleast = atleast\n",
    "\n",
    "try:\n",
    "    text = input('Enter something --> ')\n",
    "    if len(text) < 3:\n",
    "        raise ShortInputException(len(text), 3)\n",
    "    # 其他工作能在此处继续正常运行\n",
    "except EOFError:\n",
    "    print('Why did you do an EOF on me?')\n",
    "except ShortInputException as ex:\n",
    "    print(('ShortInputException: The input was ' +\n",
    "           '{0} long, expected at least {1}')\n",
    "          .format(ex.length, ex.atleast))\n",
    "else:\n",
    "    print('No exception was raised.')"
   ]
  },
  {
   "cell_type": "markdown",
   "metadata": {},
   "source": [
    "## Try...Finally..."
   ]
  },
  {
   "cell_type": "code",
   "execution_count": 17,
   "metadata": {},
   "outputs": [
    {
     "name": "stdout",
     "output_type": "stream",
     "text": [
      "Programming is fun\n",
      "When the work is done\n",
      "if you wanna make your work also fun:\n",
      "    use Python!\n",
      "(Cleaning up: Closed the file)\n"
     ]
    }
   ],
   "source": [
    "import sys\n",
    "import time\n",
    "\n",
    "f = None\n",
    "try:\n",
    "    f = open(\"poem.txt\")\n",
    "    # 我们常用的文件阅读风格\n",
    "    while True:\n",
    "        line = f.readline()\n",
    "        if len(line) == 0:\n",
    "            break\n",
    "        print(line, end='')\n",
    "        sys.stdout.flush()\n",
    "        #print(\"Press ctrl+c now\")\n",
    "        # 为了确保它能运行一段时间\n",
    "        time.sleep(2)\n",
    "except IOError:\n",
    "    print(\"Could not find file poem.txt\")\n",
    "except KeyboardInterrupt:\n",
    "    print(\"!! You cancelled the reading from the file.\")\n",
    "finally:\n",
    "    if f:\n",
    "        f.close()\n",
    "    print(\"(Cleaning up: Closed the file)\")"
   ]
  },
  {
   "cell_type": "code",
   "execution_count": 18,
   "metadata": {},
   "outputs": [
    {
     "name": "stdout",
     "output_type": "stream",
     "text": [
      "Programming is fun\n",
      "When the work is done\n",
      "if you wanna make your work also fun:\n",
      "    use Python!\n"
     ]
    }
   ],
   "source": [
    "with open(\"poem.txt\") as f:\n",
    "    for line in f:\n",
    "        print(line, end='')"
   ]
  },
  {
   "cell_type": "markdown",
   "metadata": {},
   "source": [
    "# 标准库"
   ]
  },
  {
   "cell_type": "code",
   "execution_count": 19,
   "metadata": {},
   "outputs": [
    {
     "data": {
      "text/plain": [
       "sys.version_info(major=3, minor=7, micro=3, releaselevel='final', serial=0)"
      ]
     },
     "execution_count": 19,
     "metadata": {},
     "output_type": "execute_result"
    }
   ],
   "source": [
    "import sys\n",
    "sys.version_info"
   ]
  },
  {
   "cell_type": "markdown",
   "metadata": {},
   "source": [
    "## 日志模块"
   ]
  },
  {
   "cell_type": "code",
   "execution_count": 20,
   "metadata": {},
   "outputs": [
    {
     "name": "stdout",
     "output_type": "stream",
     "text": [
      "Logging to C:\\Users\\liu\\test.log\n"
     ]
    }
   ],
   "source": [
    "import os  # 和操作系统交互\n",
    "import platform # 获取平台信息\n",
    "import logging # 记录log信息\n",
    "\n",
    "if platform.platform().startswith('Windows'):\n",
    "    logging_file = os.path.join(os.getenv('HOMEDRIVE'),\n",
    "                                os.getenv('HOMEPATH'),\n",
    "                                'test.log')\n",
    "else:\n",
    "    logging_file = os.path.join(os.getenv('HOME'),\n",
    "                                'test.log')\n",
    "\n",
    "print(\"Logging to\", logging_file)\n",
    "\n",
    "logging.basicConfig(\n",
    "    level=logging.DEBUG,\n",
    "    format='%(asctime)s : %(levelname)s : %(message)s',\n",
    "    filename=logging_file,\n",
    "    filemode='w',\n",
    ")\n",
    "\n",
    "logging.debug(\"Start of the program\")\n",
    "logging.info(\"Doing something\")\n",
    "logging.warning(\"Dying now\")"
   ]
  },
  {
   "cell_type": "markdown",
   "metadata": {},
   "source": [
    "# 装饰器"
   ]
  },
  {
   "cell_type": "code",
   "execution_count": 21,
   "metadata": {},
   "outputs": [
    {
     "name": "stdout",
     "output_type": "stream",
     "text": [
      "Write to a database or make a network call or etc.\n",
      "This will be automatically retried if exception is thrown.\n"
     ]
    },
    {
     "ename": "KeyboardInterrupt",
     "evalue": "",
     "output_type": "error",
     "traceback": [
      "\u001b[1;31m---------------------------------------------------------------------------\u001b[0m",
      "\u001b[1;31mValueError\u001b[0m                                Traceback (most recent call last)",
      "\u001b[1;32m<ipython-input-21-7a22a22cd4c0>\u001b[0m in \u001b[0;36mwrapped_f\u001b[1;34m(*args, **kwargs)\u001b[0m\n\u001b[0;32m     13\u001b[0m             \u001b[1;32mtry\u001b[0m\u001b[1;33m:\u001b[0m\u001b[1;33m\u001b[0m\u001b[1;33m\u001b[0m\u001b[0m\n\u001b[1;32m---> 14\u001b[1;33m                 \u001b[1;32mreturn\u001b[0m \u001b[0mf\u001b[0m\u001b[1;33m(\u001b[0m\u001b[1;33m*\u001b[0m\u001b[0margs\u001b[0m\u001b[1;33m,\u001b[0m \u001b[1;33m**\u001b[0m\u001b[0mkwargs\u001b[0m\u001b[1;33m)\u001b[0m\u001b[1;33m\u001b[0m\u001b[1;33m\u001b[0m\u001b[0m\n\u001b[0m\u001b[0;32m     15\u001b[0m             \u001b[1;32mexcept\u001b[0m\u001b[1;33m:\u001b[0m\u001b[1;33m\u001b[0m\u001b[1;33m\u001b[0m\u001b[0m\n",
      "\u001b[1;32m<ipython-input-21-7a22a22cd4c0>\u001b[0m in \u001b[0;36msave_to_database\u001b[1;34m(arg)\u001b[0m\n\u001b[0;32m     38\u001b[0m     \u001b[1;32mif\u001b[0m \u001b[0mcounter\u001b[0m \u001b[1;33m<\u001b[0m \u001b[1;36m2\u001b[0m\u001b[1;33m:\u001b[0m\u001b[1;33m\u001b[0m\u001b[1;33m\u001b[0m\u001b[0m\n\u001b[1;32m---> 39\u001b[1;33m         \u001b[1;32mraise\u001b[0m \u001b[0mValueError\u001b[0m\u001b[1;33m(\u001b[0m\u001b[0marg\u001b[0m\u001b[1;33m)\u001b[0m\u001b[1;33m\u001b[0m\u001b[1;33m\u001b[0m\u001b[0m\n\u001b[0m\u001b[0;32m     40\u001b[0m \u001b[1;33m\u001b[0m\u001b[0m\n",
      "\u001b[1;31mValueError\u001b[0m: Some bad value",
      "\nDuring handling of the above exception, another exception occurred:\n",
      "\u001b[1;31mKeyboardInterrupt\u001b[0m                         Traceback (most recent call last)",
      "\u001b[1;32m<ipython-input-21-7a22a22cd4c0>\u001b[0m in \u001b[0;36m<module>\u001b[1;34m\u001b[0m\n\u001b[0;32m     41\u001b[0m \u001b[1;33m\u001b[0m\u001b[0m\n\u001b[0;32m     42\u001b[0m \u001b[1;32mif\u001b[0m \u001b[0m__name__\u001b[0m \u001b[1;33m==\u001b[0m \u001b[1;34m'__main__'\u001b[0m\u001b[1;33m:\u001b[0m\u001b[1;33m\u001b[0m\u001b[1;33m\u001b[0m\u001b[0m\n\u001b[1;32m---> 43\u001b[1;33m     \u001b[0msave_to_database\u001b[0m\u001b[1;33m(\u001b[0m\u001b[1;34m\"Some bad value\"\u001b[0m\u001b[1;33m)\u001b[0m\u001b[1;33m\u001b[0m\u001b[1;33m\u001b[0m\u001b[0m\n\u001b[0m",
      "\u001b[1;32m<ipython-input-21-7a22a22cd4c0>\u001b[0m in \u001b[0;36mwrapped_f\u001b[1;34m(*args, **kwargs)\u001b[0m\n\u001b[0;32m     18\u001b[0m                               \u001b[0mMAX_ATTEMPTS\u001b[0m\u001b[1;33m,\u001b[0m\u001b[1;33m\u001b[0m\u001b[1;33m\u001b[0m\u001b[0m\n\u001b[0;32m     19\u001b[0m                               (args, kwargs))\n\u001b[1;32m---> 20\u001b[1;33m                 \u001b[0msleep\u001b[0m\u001b[1;33m(\u001b[0m\u001b[1;36m10\u001b[0m \u001b[1;33m*\u001b[0m \u001b[0mattempt\u001b[0m\u001b[1;33m)\u001b[0m\u001b[1;33m\u001b[0m\u001b[1;33m\u001b[0m\u001b[0m\n\u001b[0m\u001b[0;32m     21\u001b[0m         log.critical(\"All %s attempts failed : %s\",\n\u001b[0;32m     22\u001b[0m                      \u001b[0mMAX_ATTEMPTS\u001b[0m\u001b[1;33m,\u001b[0m\u001b[1;33m\u001b[0m\u001b[1;33m\u001b[0m\u001b[0m\n",
      "\u001b[1;31mKeyboardInterrupt\u001b[0m: "
     ]
    }
   ],
   "source": [
    "from time import sleep\n",
    "from functools import wraps\n",
    "import logging\n",
    "logging.basicConfig()\n",
    "log = logging.getLogger(\"retry\")\n",
    "\n",
    "\n",
    "def retry(f):\n",
    "    @wraps(f)\n",
    "    def wrapped_f(*args, **kwargs):\n",
    "        MAX_ATTEMPTS = 5\n",
    "        for attempt in range(1, MAX_ATTEMPTS + 1):\n",
    "            try:\n",
    "                return f(*args, **kwargs)\n",
    "            except:\n",
    "                log.exception(\"Attempt %s/%s failed : %s\",\n",
    "                              attempt,\n",
    "                              MAX_ATTEMPTS,\n",
    "                              (args, kwargs))\n",
    "                sleep(10 * attempt)\n",
    "        log.critical(\"All %s attempts failed : %s\",\n",
    "                     MAX_ATTEMPTS,\n",
    "                     (args, kwargs))\n",
    "    return wrapped_f\n",
    "\n",
    "\n",
    "counter = 0\n",
    "\n",
    "\n",
    "@retry\n",
    "def save_to_database(arg):\n",
    "    print(\"Write to a database or make a network call or etc.\")\n",
    "    print(\"This will be automatically retried if exception is thrown.\")\n",
    "    global counter\n",
    "    counter += 1\n",
    "    # 这将在第一次调用时抛出异常\n",
    "    # 在第二次运行时将正常工作（也就是重试）\n",
    "    if counter < 2:\n",
    "        raise ValueError(arg)\n",
    "\n",
    "\n",
    "if __name__ == '__main__':\n",
    "    save_to_database(\"Some bad value\")"
   ]
  },
  {
   "cell_type": "code",
   "execution_count": null,
   "metadata": {},
   "outputs": [],
   "source": []
  }
 ],
 "metadata": {
  "kernelspec": {
   "display_name": "Python 3",
   "language": "python",
   "name": "python3"
  },
  "language_info": {
   "codemirror_mode": {
    "name": "ipython",
    "version": 3
   },
   "file_extension": ".py",
   "mimetype": "text/x-python",
   "name": "python",
   "nbconvert_exporter": "python",
   "pygments_lexer": "ipython3",
   "version": "3.7.3"
  }
 },
 "nbformat": 4,
 "nbformat_minor": 2
}
