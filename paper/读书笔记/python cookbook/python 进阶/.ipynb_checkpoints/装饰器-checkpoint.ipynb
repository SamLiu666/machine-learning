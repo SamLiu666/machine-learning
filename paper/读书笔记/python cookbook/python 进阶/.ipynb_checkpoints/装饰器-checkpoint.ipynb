{
 "cells": [
  {
   "cell_type": "code",
   "execution_count": 1,
   "metadata": {},
   "outputs": [],
   "source": [
    "import time\n",
    "from functools import wraps\n",
    "\n",
    "def timethis(func):\n",
    "    '''\n",
    "    Decorator that reports the execution time.\n",
    "    '''\n",
    "    @wraps(func)\n",
    "    def wrapper(*args, **kwargs):\n",
    "        start = time.time()\n",
    "        result = func(*args, **kwargs)\n",
    "        end = time.time()\n",
    "        print(func.__name__, end-start)\n",
    "        return result\n",
    "    return wrapper"
   ]
  },
  {
   "cell_type": "code",
   "execution_count": 2,
   "metadata": {},
   "outputs": [
    {
     "name": "stdout",
     "output_type": "stream",
     "text": [
      "count 0.0009970664978027344\n"
     ]
    }
   ],
   "source": [
    "@timethis\n",
    "def count(n):\n",
    "    while n>0:\n",
    "        n -= 1\n",
    "        \n",
    "count(10000)"
   ]
  },
  {
   "cell_type": "code",
   "execution_count": 5,
   "metadata": {},
   "outputs": [
    {
     "name": "stdout",
     "output_type": "stream",
     "text": [
      "Parent\n",
      "Child\n",
      "Child bar fuction\n",
      "HelloWorld from Parent\n",
      "I'm the parent.\n",
      "child_has variable\n"
     ]
    }
   ],
   "source": [
    "#!/usr/bin/python\n",
    "# -*- coding: UTF-8 -*-\n",
    " \n",
    "class FooParent(object):\n",
    "    def __init__(self):\n",
    "        self.parent = 'I\\'m the parent.'\n",
    "        print ('Parent')\n",
    "        self.child_has=\"FooParent has variable\"\n",
    " \n",
    "    def bar(self, message):\n",
    "        print (\"%s from Parent\" % message)\n",
    " \n",
    "class FooChild(FooParent):\n",
    "    def __init__(self):\n",
    "        # super(FooChild,self) 首先找到 FooChild 的父类（就是类 FooParent），然后把类B的对象 FooChild 转换为类 FooParent 的对象\n",
    "        super(FooChild, self).__init__()\n",
    "        print ('Child')\n",
    "        self.child_has=\"child_has variable\"\n",
    " \n",
    "    def bar(self, message):\n",
    "        print ('Child bar fuction')\n",
    "        super(FooChild, self).bar(message)\n",
    "        print (self.parent)   # 子类没有，就向父类查找\n",
    "        print (self.child_has)  # 首先查找子类，子类有，则输出子类的内容，子类没有，则按照MRO顺序查找其父类\n",
    " \n",
    "if __name__ == '__main__':\n",
    "    fooChild = FooChild()\n",
    "    fooChild.bar('HelloWorld')"
   ]
  },
  {
   "cell_type": "code",
   "execution_count": null,
   "metadata": {},
   "outputs": [],
   "source": []
  }
 ],
 "metadata": {
  "kernelspec": {
   "display_name": "Python 3",
   "language": "python",
   "name": "python3"
  },
  "language_info": {
   "codemirror_mode": {
    "name": "ipython",
    "version": 3
   },
   "file_extension": ".py",
   "mimetype": "text/x-python",
   "name": "python",
   "nbconvert_exporter": "python",
   "pygments_lexer": "ipython3",
   "version": "3.7.3"
  }
 },
 "nbformat": 4,
 "nbformat_minor": 2
}
