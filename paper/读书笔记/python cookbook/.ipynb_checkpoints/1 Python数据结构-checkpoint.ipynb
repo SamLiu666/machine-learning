{
 "cells": [
  {
   "cell_type": "markdown",
   "metadata": {},
   "source": [
    "Python Cookbook, 3rd edition, by David Beazley and Brian K. Jones (O’Reilly). Copyright 2013 David Beazley and Brian Jones, 978-1-449-34037-7."
   ]
  },
  {
   "cell_type": "markdown",
   "metadata": {},
   "source": [
    "## 1.1 将序列分解为单独的变量"
   ]
  },
  {
   "cell_type": "code",
   "execution_count": 6,
   "metadata": {},
   "outputs": [
    {
     "name": "stdout",
     "output_type": "stream",
     "text": [
      "1.1 赋值:  ACME 50 91.1 (2012, 12, 21)\n",
      "50 91.1\n"
     ]
    }
   ],
   "source": [
    "data = [ 'ACME', 50, 91.1, (2012, 12, 21) ]\n",
    "name, shares, price, date = data\n",
    "print(\"1.1 赋值: \", name, shares, price, date)\n",
    "_, shares, price, _ = data\n",
    "print(shares, price)"
   ]
  },
  {
   "cell_type": "markdown",
   "metadata": {},
   "source": [
    "## 1.2 解压可迭代对象赋值给多个变量"
   ]
  },
  {
   "cell_type": "code",
   "execution_count": 7,
   "metadata": {},
   "outputs": [
    {
     "name": "stdout",
     "output_type": "stream",
     "text": [
      "1.2:  ['773-555-1212', '847-555-1212']\n",
      "sum(trailing)/current= 16.666666666666668\n"
     ]
    }
   ],
   "source": [
    "record = ('Dave', 'dave@example.com', '773-555-1212', '847-555-1212')\n",
    "name, email, *phone_numbers = record\n",
    "print(\"1.2: \", phone_numbers)\n",
    "*trailing, current = [10, 8, 7, 1, 9, 5, 10, 3]\n",
    "print(\"sum(trailing)/current=\", sum(trailing)/current)"
   ]
  },
  {
   "cell_type": "markdown",
   "metadata": {},
   "source": [
    "## 1.3 保留最后 N 个元素-队列:deque 实现"
   ]
  },
  {
   "cell_type": "code",
   "execution_count": 8,
   "metadata": {},
   "outputs": [
    {
     "name": "stdout",
     "output_type": "stream",
     "text": [
      "Deque -- Queue:  deque([1], maxlen=4)\n",
      "append the right:  deque([1, 2], maxlen=4)\n",
      "append the left:  deque([0, 1, 2], maxlen=4)\n",
      "pop the right:  deque([0, 1], maxlen=4)\n",
      "pop the left:  deque([1], maxlen=4)\n"
     ]
    }
   ],
   "source": [
    "from collections import deque\n",
    "q = deque(maxlen=4)\n",
    "q.append(1)  # append in right side\n",
    "print(\"Deque -- Queue: \",q)\n",
    "q.append(2)  # append in right side\n",
    "print(\"append the right: \",q)\n",
    "q.appendleft(0)\n",
    "print(\"append the left: \",q)\n",
    "q.pop()  # pop out the right side\n",
    "print(\"pop the right: \",q)\n",
    "q.popleft()  # pop out the left side\n",
    "print(\"pop the left: \",q)"
   ]
  },
  {
   "cell_type": "markdown",
   "metadata": {},
   "source": [
    "## 1.4 查找最大或最小的 N 个元素:heapq 实现"
   ]
  },
  {
   "cell_type": "code",
   "execution_count": 9,
   "metadata": {},
   "outputs": [
    {
     "name": "stdout",
     "output_type": "stream",
     "text": [
      "[1, 8, 2, 23, 7, -4, 18, 23, 42, 37, 2]\n",
      "前3个最大值 [42, 37, 23]\n",
      "前3个最小值 [-4, 1, 2]\n",
      "Sort in Price:  [{'name': 'YHOO', 'shares': 45, 'price': 16.35}, {'name': 'FB', 'shares': 200, 'price': 21.09}, {'name': 'HPQ', 'shares': 35, 'price': 31.75}]\n",
      "Sort in Shares:  [{'name': 'FB', 'shares': 200, 'price': 21.09}, {'name': 'IBM', 'shares': 100, 'price': 91.1}, {'name': 'ACME', 'shares': 75, 'price': 115.65}]\n",
      "\n",
      "  对集合数据进行堆排序然后放入列表中，heap[0]永远是最小的元素\n",
      "original nums:  [1, 8, 2, 23, 7, -4, 18, 23, 42, 37, 2]\n",
      "堆 nums:  [-4, 2, 1, 23, 7, 2, 18, 23, 42, 37, 8]\n",
      "heap pop out the smallest:  -4\n",
      "堆： [1, 2, 2, 23, 7, 8, 18, 23, 42, 37]\n"
     ]
    }
   ],
   "source": [
    "import heapq\n",
    "nums = [1, 8, 2, 23, 7, -4, 18, 23, 42, 37, 2]\n",
    "print(nums)\n",
    "print(\"前3个最大值\",heapq.nlargest(3, nums)) # Prints [42, 37, 23]\n",
    "print(\"前3个最小值\",heapq.nsmallest(3, nums)) # Prints [-4, 1, 2]\n",
    "\n",
    "portfolio = [\n",
    "    {'name': 'IBM', 'shares': 100, 'price': 91.1},\n",
    "    {'name': 'AAPL', 'shares': 50, 'price': 543.22},\n",
    "    {'name': 'FB', 'shares': 200, 'price': 21.09},\n",
    "    {'name': 'HPQ', 'shares': 35, 'price': 31.75},\n",
    "    {'name': 'YHOO', 'shares': 45, 'price': 16.35},\n",
    "    {'name': 'ACME', 'shares': 75, 'price': 115.65}\n",
    "]\n",
    "cheap = heapq.nsmallest(3, portfolio, key=lambda s: s['price'])\n",
    "print(\"Sort in Price: \", cheap)\n",
    "expensive = heapq.nlargest(3, portfolio, key=lambda s: s['shares'])\n",
    "print(\"Sort in Shares: \", expensive)\n",
    "\n",
    "print(\"\\n  对集合数据进行堆排序然后放入列表中，heap[0]永远是最小的元素\")\n",
    "heap = list(nums)\n",
    "heapq.heapify(heap)  # heapify list\n",
    "print(\"original nums: \", nums)\n",
    "print(\"堆 nums: \", heap)\n",
    "print(\"heap pop out the smallest: \",heapq.heappop(heap))\n",
    "print(\"堆：\", heap)"
   ]
  },
  {
   "cell_type": "markdown",
   "metadata": {},
   "source": [
    "## 1.5 查找最大或最小的 N 个元素:heapq 实现"
   ]
  },
  {
   "cell_type": "code",
   "execution_count": 5,
   "metadata": {},
   "outputs": [
    {
     "name": "stdout",
     "output_type": "stream",
     "text": [
      "######################## 1.4 查找最大或最小的 N 个元素:heapq 实现\n"
     ]
    }
   ],
   "source": []
  },
  {
   "cell_type": "code",
   "execution_count": null,
   "metadata": {},
   "outputs": [],
   "source": []
  }
 ],
 "metadata": {
  "kernelspec": {
   "display_name": "Python 3",
   "language": "python",
   "name": "python3"
  },
  "language_info": {
   "codemirror_mode": {
    "name": "ipython",
    "version": 3
   },
   "file_extension": ".py",
   "mimetype": "text/x-python",
   "name": "python",
   "nbconvert_exporter": "python",
   "pygments_lexer": "ipython3",
   "version": "3.7.3"
  }
 },
 "nbformat": 4,
 "nbformat_minor": 2
}
