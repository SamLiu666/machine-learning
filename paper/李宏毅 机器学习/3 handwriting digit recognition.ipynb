{
 "cells": [
  {
   "cell_type": "code",
   "execution_count": 1,
   "metadata": {
    "scrolled": true
   },
   "outputs": [
    {
     "name": "stderr",
     "output_type": "stream",
     "text": [
      "Using TensorFlow backend.\n",
      "D:\\Anaconda\\envs\\tensorflow2.0\\lib\\site-packages\\tensorflow\\python\\framework\\dtypes.py:516: FutureWarning: Passing (type, 1) or '1type' as a synonym of type is deprecated; in a future version of numpy, it will be understood as (type, (1,)) / '(1,)type'.\n",
      "  _np_qint8 = np.dtype([(\"qint8\", np.int8, 1)])\n",
      "D:\\Anaconda\\envs\\tensorflow2.0\\lib\\site-packages\\tensorflow\\python\\framework\\dtypes.py:517: FutureWarning: Passing (type, 1) or '1type' as a synonym of type is deprecated; in a future version of numpy, it will be understood as (type, (1,)) / '(1,)type'.\n",
      "  _np_quint8 = np.dtype([(\"quint8\", np.uint8, 1)])\n",
      "D:\\Anaconda\\envs\\tensorflow2.0\\lib\\site-packages\\tensorflow\\python\\framework\\dtypes.py:518: FutureWarning: Passing (type, 1) or '1type' as a synonym of type is deprecated; in a future version of numpy, it will be understood as (type, (1,)) / '(1,)type'.\n",
      "  _np_qint16 = np.dtype([(\"qint16\", np.int16, 1)])\n",
      "D:\\Anaconda\\envs\\tensorflow2.0\\lib\\site-packages\\tensorflow\\python\\framework\\dtypes.py:519: FutureWarning: Passing (type, 1) or '1type' as a synonym of type is deprecated; in a future version of numpy, it will be understood as (type, (1,)) / '(1,)type'.\n",
      "  _np_quint16 = np.dtype([(\"quint16\", np.uint16, 1)])\n",
      "D:\\Anaconda\\envs\\tensorflow2.0\\lib\\site-packages\\tensorflow\\python\\framework\\dtypes.py:520: FutureWarning: Passing (type, 1) or '1type' as a synonym of type is deprecated; in a future version of numpy, it will be understood as (type, (1,)) / '(1,)type'.\n",
      "  _np_qint32 = np.dtype([(\"qint32\", np.int32, 1)])\n",
      "D:\\Anaconda\\envs\\tensorflow2.0\\lib\\site-packages\\tensorflow\\python\\framework\\dtypes.py:525: FutureWarning: Passing (type, 1) or '1type' as a synonym of type is deprecated; in a future version of numpy, it will be understood as (type, (1,)) / '(1,)type'.\n",
      "  np_resource = np.dtype([(\"resource\", np.ubyte, 1)])\n",
      "D:\\Anaconda\\envs\\tensorflow2.0\\lib\\site-packages\\tensorboard\\compat\\tensorflow_stub\\dtypes.py:541: FutureWarning: Passing (type, 1) or '1type' as a synonym of type is deprecated; in a future version of numpy, it will be understood as (type, (1,)) / '(1,)type'.\n",
      "  _np_qint8 = np.dtype([(\"qint8\", np.int8, 1)])\n",
      "D:\\Anaconda\\envs\\tensorflow2.0\\lib\\site-packages\\tensorboard\\compat\\tensorflow_stub\\dtypes.py:542: FutureWarning: Passing (type, 1) or '1type' as a synonym of type is deprecated; in a future version of numpy, it will be understood as (type, (1,)) / '(1,)type'.\n",
      "  _np_quint8 = np.dtype([(\"quint8\", np.uint8, 1)])\n",
      "D:\\Anaconda\\envs\\tensorflow2.0\\lib\\site-packages\\tensorboard\\compat\\tensorflow_stub\\dtypes.py:543: FutureWarning: Passing (type, 1) or '1type' as a synonym of type is deprecated; in a future version of numpy, it will be understood as (type, (1,)) / '(1,)type'.\n",
      "  _np_qint16 = np.dtype([(\"qint16\", np.int16, 1)])\n",
      "D:\\Anaconda\\envs\\tensorflow2.0\\lib\\site-packages\\tensorboard\\compat\\tensorflow_stub\\dtypes.py:544: FutureWarning: Passing (type, 1) or '1type' as a synonym of type is deprecated; in a future version of numpy, it will be understood as (type, (1,)) / '(1,)type'.\n",
      "  _np_quint16 = np.dtype([(\"quint16\", np.uint16, 1)])\n",
      "D:\\Anaconda\\envs\\tensorflow2.0\\lib\\site-packages\\tensorboard\\compat\\tensorflow_stub\\dtypes.py:545: FutureWarning: Passing (type, 1) or '1type' as a synonym of type is deprecated; in a future version of numpy, it will be understood as (type, (1,)) / '(1,)type'.\n",
      "  _np_qint32 = np.dtype([(\"qint32\", np.int32, 1)])\n",
      "D:\\Anaconda\\envs\\tensorflow2.0\\lib\\site-packages\\tensorboard\\compat\\tensorflow_stub\\dtypes.py:550: FutureWarning: Passing (type, 1) or '1type' as a synonym of type is deprecated; in a future version of numpy, it will be understood as (type, (1,)) / '(1,)type'.\n",
      "  np_resource = np.dtype([(\"resource\", np.ubyte, 1)])\n"
     ]
    }
   ],
   "source": [
    "import numpy as np\n",
    "from keras.models import Sequential\n",
    "from keras.layers.core import Dense, Dropout, Activation\n",
    "from keras.layers import Conv2D, MaxPooling2D, Flatten\n",
    "from keras.optimizers import SGD, Adam\n",
    "from keras.utils import np_utils\n",
    "from keras.datasets import mnist"
   ]
  },
  {
   "cell_type": "code",
   "execution_count": 2,
   "metadata": {},
   "outputs": [],
   "source": [
    "def load_data():  # categorical_crossentropy\n",
    "    (x_train, y_train), (x_test, y_test) = mnist.load_data()\n",
    "    number = 10000\n",
    "    x_train = x_train[0:number]\n",
    "    y_train = y_train[0:number]\n",
    "    x_train = x_train.reshape(number, 28 * 28)\n",
    "    x_test = x_test.reshape(x_test.shape[0], 28 * 28)\n",
    "    x_train = x_train.astype('float32')\n",
    "    x_test = x_test.astype('float32')\n",
    "    # convert class vectors to binary class matrices\n",
    "    y_train = np_utils.to_categorical(y_train, 10)\n",
    "    y_test = np_utils.to_categorical(y_test, 10)\n",
    "    x_train = x_train\n",
    "    x_test = x_test\n",
    "    x_test = np.random.normal(x_test)  # 加噪声\n",
    "    x_train = x_train / 255\n",
    "    x_test = x_test / 255\n",
    "\n",
    "    return (x_train, y_train), (x_test, y_test)"
   ]
  },
  {
   "cell_type": "code",
   "execution_count": 4,
   "metadata": {},
   "outputs": [
    {
     "name": "stdout",
     "output_type": "stream",
     "text": [
      "Epoch 1/20\n",
      "10000/10000 [==============================] - 1s 52us/step - loss: 0.9135 - accuracy: 0.7468\n",
      "Epoch 2/20\n",
      "10000/10000 [==============================] - 0s 43us/step - loss: 0.3463 - accuracy: 0.8990\n",
      "Epoch 3/20\n",
      "10000/10000 [==============================] - 0s 40us/step - loss: 0.2812 - accuracy: 0.9190\n",
      "Epoch 4/20\n",
      "10000/10000 [==============================] - 0s 38us/step - loss: 0.2502 - accuracy: 0.9254\n",
      "Epoch 5/20\n",
      "10000/10000 [==============================] - 0s 38us/step - loss: 0.2203 - accuracy: 0.9344\n",
      "Epoch 6/20\n",
      "10000/10000 [==============================] - 0s 38us/step - loss: 0.1973 - accuracy: 0.9424\n",
      "Epoch 7/20\n",
      "10000/10000 [==============================] - 0s 38us/step - loss: 0.1760 - accuracy: 0.9482\n",
      "Epoch 8/20\n",
      "10000/10000 [==============================] - 0s 37us/step - loss: 0.1546 - accuracy: 0.9547\n",
      "Epoch 9/20\n",
      "10000/10000 [==============================] - 0s 41us/step - loss: 0.1363 - accuracy: 0.9593\n",
      "Epoch 10/20\n",
      "10000/10000 [==============================] - 0s 42us/step - loss: 0.1217 - accuracy: 0.9643\n",
      "Epoch 11/20\n",
      "10000/10000 [==============================] - 0s 38us/step - loss: 0.1119 - accuracy: 0.9669\n",
      "Epoch 12/20\n",
      "10000/10000 [==============================] - 0s 38us/step - loss: 0.0970 - accuracy: 0.9710\n",
      "Epoch 13/20\n",
      "10000/10000 [==============================] - 0s 38us/step - loss: 0.0830 - accuracy: 0.9746\n",
      "Epoch 14/20\n",
      "10000/10000 [==============================] - 0s 39us/step - loss: 0.0726 - accuracy: 0.9779\n",
      "Epoch 15/20\n",
      "10000/10000 [==============================] - 0s 38us/step - loss: 0.0593 - accuracy: 0.9843\n",
      "Epoch 16/20\n",
      "10000/10000 [==============================] - 0s 38us/step - loss: 0.0549 - accuracy: 0.9850\n",
      "Epoch 17/20\n",
      "10000/10000 [==============================] - 0s 42us/step - loss: 0.0518 - accuracy: 0.9847\n",
      "Epoch 18/20\n",
      "10000/10000 [==============================] - 0s 44us/step - loss: 0.0381 - accuracy: 0.9899\n",
      "Epoch 19/20\n",
      "10000/10000 [==============================] - 0s 38us/step - loss: 0.0344 - accuracy: 0.9906\n",
      "Epoch 20/20\n",
      "10000/10000 [==============================] - 0s 36us/step - loss: 0.0274 - accuracy: 0.9931\n",
      "10000/10000 [==============================] - 1s 50us/step\n",
      "10000/10000 [==============================] - 0s 45us/step\n",
      "Train Acc: 0.9948999881744385\n",
      "Test Acc: 0.9462000131607056\n"
     ]
    }
   ],
   "source": [
    "if __name__ == '__main__':\n",
    "    '''\n",
    "    注意事项如下：\n",
    "    1、batch_size=100,epochs=20为宜，batch_size过大会导致loss下降曲线过于平滑而卡在local minima、saddle point或plateau处，batch_size过小会导致update次数过多，运算量太大，速度缓慢，但可以带来一定程度的准确率提高\n",
    "    2、hidden layer数量不要太多，不然可能会发生vanishing gradient(梯度消失)，一般两到三层为宜\n",
    "    3、如果layer数量太多，则千万不要使用sigmoid等缩减input影响的激活函数，应当选择ReLU、Maxout等近似线性的activation function(layer数量不多也应该选这两个)\n",
    "    4、每一个hidden layer所包含的neuron数量，五六百为宜\n",
    "    5、对于分类问题，loss function一定要使用cross entropy(categorical_crossentropy)，而不是mean square error(mse)\n",
    "    6、优化器optimizer一般选择adam，它综合了RMSProp和Momentum，同时考虑了过去的gradient、现在的gradient，以及上一次的惯性\n",
    "    7、如果testing data上准确率很低，training data上准确率比较高，可以考虑使用dropout，Keras的使用方式是在每一层hidden layer的后面加上一句model.add(Dropout(0.5))，其中0.5这个参数你自己定；注意，加了dropout之后在training set上的准确率会降低，但是在testing set上的准确率会提高，这是正常的\n",
    "    8、如果input是图片的pixel，注意对灰度值进行归一化，即除以255，使之处于0～1之间\n",
    "    9、最后的output最好同时输出在training set和testing set上的准确率，以便于对症下药\n",
    "    '''\n",
    "    # load training data and testing data\n",
    "    (x_train, y_train), (x_test, y_test) = load_data()\n",
    "\n",
    "    # step 1: define network structure\n",
    "    model = Sequential()\n",
    "    \n",
    "    # 开始叠加NN，两个隐藏层，每层500个neuron\n",
    "#     model.add(Dense(input_dim=28 * 28, units=500, activation='relu'))\n",
    "    # sigmoid 换成 relu 识别率更高\n",
    "    model.add(Dense(input_dim=28 * 28, units=500, activation='sigmoid'))\n",
    "    # model.add(Dropout(0.5))\n",
    "    \n",
    "    model.add(Dense(units=500, activation='relu'))  # Fully connected的layer——用Dense来表示\n",
    "    # model.add(Dropout(0.5))\n",
    "    model.add(Dense(units=10, activation='softmax'))\n",
    "\n",
    "    # set configurations\n",
    "    model.compile(loss='categorical_crossentropy',  # cross entropy参数就是categorical_crossentropy(Keras里的写法)\n",
    "                  optimizer='adam', # Keras里面有诸如：SGD(gradient descent)、RMSprop、Adagrad、Adadelta、Adam、Adamax、Nadam之类的寻找最优参数的方法，它们都是gradient descent的方式\n",
    "                  metrics=['accuracy'])\n",
    "\n",
    "    # train model\n",
    "    model.fit(x_train, y_train, batch_size=100, epochs=20)\n",
    "\n",
    "    # evaluate the model and output the accuracy\n",
    "    result_train = model.evaluate(x_train, y_train)\n",
    "    result_test = model.evaluate(x_test, y_test)\n",
    "    print('Train Acc:', result_train[1])\n",
    "    print('Test Acc:', result_test[1])"
   ]
  },
  {
   "cell_type": "code",
   "execution_count": null,
   "metadata": {},
   "outputs": [],
   "source": [
    "# 评价方式1，已知输出Label\n",
    "score = model.evaluate(x_test,y_test)\n",
    "print('Total loss on Testing Set:',score[0])\n",
    "print('Accuracy of Testing Set:',score[1])\n",
    "\n",
    "# 评价方式2， 分类的结果\n",
    "result = model.predict(x_test)"
   ]
  },
  {
   "cell_type": "markdown",
   "metadata": {},
   "source": [
    "![1](https://gitee.com/Sakura-gh/ML-notes/raw/master/img/keras-step1.png)"
   ]
  },
  {
   "cell_type": "markdown",
   "metadata": {},
   "source": [
    "![2](https://gitee.com/Sakura-gh/ML-notes/raw/master/img/keras-step2.png)"
   ]
  },
  {
   "cell_type": "markdown",
   "metadata": {},
   "source": [
    "![2](https://gitee.com/Sakura-gh/ML-notes/raw/master/img/keras-step3.png)"
   ]
  },
  {
   "cell_type": "markdown",
   "metadata": {},
   "source": [
    "![4](https://gitee.com/Sakura-gh/ML-notes/raw/master/img/matrix-speed.png)"
   ]
  },
  {
   "cell_type": "markdown",
   "metadata": {},
   "source": [
    "![5](https://gitee.com/Sakura-gh/ML-notes/raw/master/img/save-load-model.png)"
   ]
  },
  {
   "cell_type": "code",
   "execution_count": null,
   "metadata": {},
   "outputs": [],
   "source": []
  }
 ],
 "metadata": {
  "kernelspec": {
   "display_name": "Python 3",
   "language": "python",
   "name": "python3"
  },
  "language_info": {
   "codemirror_mode": {
    "name": "ipython",
    "version": 3
   },
   "file_extension": ".py",
   "mimetype": "text/x-python",
   "name": "python",
   "nbconvert_exporter": "python",
   "pygments_lexer": "ipython3",
   "version": "3.7.7"
  }
 },
 "nbformat": 4,
 "nbformat_minor": 2
}
