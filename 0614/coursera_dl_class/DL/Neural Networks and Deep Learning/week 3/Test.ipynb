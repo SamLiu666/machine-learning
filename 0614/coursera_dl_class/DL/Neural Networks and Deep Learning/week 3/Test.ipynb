{
 "cells": [
  {
   "cell_type": "markdown",
   "metadata": {},
   "source": [
    "# Table\n"
   ]
  },
  {
   "cell_type": "code",
   "execution_count": 1,
   "metadata": {},
   "outputs": [
    {
     "data": {
      "text/plain": [
       "        High Low Middle\n",
       "current   51  43     22\n",
       "former    92  28     21\n",
       "never     68  22      9"
      ]
     },
     "metadata": {},
     "output_type": "display_data"
    }
   ],
   "source": [
    "smoke <- matrix(c(51,43,22,92,28,21,68,22,9),ncol=3,byrow=TRUE)\n",
    "colnames(smoke) <- c(\"High\",\"Low\",\"Middle\")\n",
    "rownames(smoke) <- c(\"current\",\"former\",\"never\")\n",
    "smoke <- as.table(smoke)\n",
    "smoke"
   ]
  },
  {
   "cell_type": "code",
   "execution_count": 4,
   "metadata": {},
   "outputs": [
    {
     "data": {
      "text/html": [
       "356"
      ],
      "text/latex": [
       "356"
      ],
      "text/markdown": [
       "356"
      ],
      "text/plain": [
       "[1] 356"
      ]
     },
     "metadata": {},
     "output_type": "display_data"
    }
   ],
   "source": [
    "# barplot(smoke,legend=T,beside=T,main='Smoking Status by SES')\n",
    "# plot(smoke,main=\"Smoking Status By Socioeconomic Status\")\n",
    "margin.table(smoke)"
   ]
  },
  {
   "cell_type": "code",
   "execution_count": 5,
   "metadata": {},
   "outputs": [
    {
     "data": {
      "text/plain": [
       "current  former   never \n",
       "    116     141      99 "
      ]
     },
     "metadata": {},
     "output_type": "display_data"
    }
   ],
   "source": [
    "margin.table(smoke,1)"
   ]
  },
  {
   "cell_type": "code",
   "execution_count": 6,
   "metadata": {},
   "outputs": [
    {
     "data": {
      "text/plain": [
       "  High    Low Middle \n",
       "   211     93     52 "
      ]
     },
     "metadata": {},
     "output_type": "display_data"
    }
   ],
   "source": [
    "margin.table(smoke,2)"
   ]
  },
  {
   "cell_type": "code",
   "execution_count": 7,
   "metadata": {},
   "outputs": [
    {
     "data": {
      "text/plain": [
       "              High        Low     Middle\n",
       "current 0.14325843 0.12078652 0.06179775\n",
       "former  0.25842697 0.07865169 0.05898876\n",
       "never   0.19101124 0.06179775 0.02528090"
      ]
     },
     "metadata": {},
     "output_type": "display_data"
    }
   ],
   "source": [
    "smoke/margin.table(smoke)"
   ]
  },
  {
   "cell_type": "code",
   "execution_count": 8,
   "metadata": {},
   "outputs": [
    {
     "data": {
      "text/plain": [
       "              High        Low     Middle\n",
       "current 0.14325843 0.12078652 0.06179775\n",
       "former  0.25842697 0.07865169 0.05898876\n",
       "never   0.19101124 0.06179775 0.02528090"
      ]
     },
     "metadata": {},
     "output_type": "display_data"
    }
   ],
   "source": [
    "prop.table(smoke)"
   ]
  },
  {
   "cell_type": "code",
   "execution_count": 14,
   "metadata": {},
   "outputs": [
    {
     "data": {
      "text/plain": [
       "Number of cases in table: 356 \n",
       "Number of factors: 2 \n",
       "Test for independence of all factors:\n",
       "\tChisq = 18.51, df = 4, p-value = 0.0009808"
      ]
     },
     "metadata": {},
     "output_type": "display_data"
    }
   ],
   "source": [
    "summary(smoke)"
   ]
  },
  {
   "cell_type": "markdown",
   "metadata": {},
   "source": [
    "## Chisq test"
   ]
  },
  {
   "cell_type": "code",
   "execution_count": 12,
   "metadata": {
    "scrolled": true
   },
   "outputs": [
    {
     "data": {
      "text/html": [
       "<table>\n",
       "<thead><tr><th></th><th scope=col>High</th><th scope=col>Low</th><th scope=col>Middle</th></tr></thead>\n",
       "<tbody>\n",
       "\t<tr><th scope=row>current</th><td>68.75281</td><td>30.30337</td><td>16.94382</td></tr>\n",
       "\t<tr><th scope=row>former</th><td>83.57022</td><td>36.83427</td><td>20.59551</td></tr>\n",
       "\t<tr><th scope=row>never</th><td>58.67697</td><td>25.86236</td><td>14.46067</td></tr>\n",
       "</tbody>\n",
       "</table>\n"
      ],
      "text/latex": [
       "\\begin{tabular}{r|lll}\n",
       "  & High & Low & Middle\\\\\n",
       "\\hline\n",
       "\tcurrent & 68.75281 & 30.30337 & 16.94382\\\\\n",
       "\tformer & 83.57022 & 36.83427 & 20.59551\\\\\n",
       "\tnever & 58.67697 & 25.86236 & 14.46067\\\\\n",
       "\\end{tabular}\n"
      ],
      "text/markdown": [
       "\n",
       "| <!--/--> | High | Low | Middle |\n",
       "|---|---|---|---|\n",
       "| current | 68.75281 | 30.30337 | 16.94382 |\n",
       "| former | 83.57022 | 36.83427 | 20.59551 |\n",
       "| never | 58.67697 | 25.86236 | 14.46067 |\n",
       "\n"
      ],
      "text/plain": [
       "        High     Low      Middle  \n",
       "current 68.75281 30.30337 16.94382\n",
       "former  83.57022 36.83427 20.59551\n",
       "never   58.67697 25.86236 14.46067"
      ]
     },
     "metadata": {},
     "output_type": "display_data"
    }
   ],
   "source": [
    "Xsq <- chisq.test(smoke)\n",
    "# The expected component\n",
    "Xsq$expected"
   ]
  },
  {
   "cell_type": "markdown",
   "metadata": {},
   "source": []
  },
  {
   "cell_type": "code",
   "execution_count": null,
   "metadata": {},
   "outputs": [],
   "source": []
  },
  {
   "cell_type": "markdown",
   "metadata": {},
   "source": [
    "# Expectations & other Measures\n",
    "\n",
    "sensitivity, recall, hit rate , TPR\n",
    "\n",
    "$$TPR = \\frac{TP}{P} = \\frac{TP}{TP+FN} = 1 - FNR$$\n",
    "\n",
    "specificity, selectivity , TNR\n",
    "\n",
    "$$TNR = \\frac{TN}{N} = \\frac{TN}{TN+FP} = 1 - FPR$$\n",
    "\n",
    "precision, or positive predictive value (PPV)\n",
    "\n",
    "$$PPV = \\frac{TP}{TP+FP} =  1 - FDR$$\n",
    "\n",
    "accuracy(ACC)\n",
    "\n",
    "$$ACC = \\frac{TP+TN}{P+N} =  \\frac{TP+TN}{TP+TN+FP+FN}$$"
   ]
  },
  {
   "cell_type": "markdown",
   "metadata": {},
   "source": [
    "When doing **GP's test**, we want:\n",
    "\n",
    "- high recall\n",
    "- good precision\n",
    "\n",
    "When doing **specilist's test**, we want:\n",
    "- high accuracy\n",
    "- not too expensive\n",
    "\n"
   ]
  },
  {
   "cell_type": "code",
   "execution_count": null,
   "metadata": {},
   "outputs": [],
   "source": [
    "# Calculate the confusion matrix\n",
    "# TODO\n"
   ]
  },
  {
   "cell_type": "markdown",
   "metadata": {},
   "source": [
    "## Expectations\n",
    "\n",
    "\n",
    "\n",
    "\n",
    "## Statiscs on variables\n",
    "\n",
    "### Discret\n",
    "**Mean** : \n",
    "$$\n",
    "\\bar{X} = \\frac{1}{n}\\sum_{i=1}^n x_i\n",
    "$$\n",
    "\n",
    "**Var**\n",
    "$$\n",
    "var = s^2_x = \\frac{1}{n-1} \\sum_{i=1}^n (x_i - \\bar{x})^2\n",
    "$$\n",
    "\n",
    "**IQR**\n",
    "$$\n",
    "IQR = Q_3 - Q_1\n",
    "$$"
   ]
  },
  {
   "cell_type": "code",
   "execution_count": 5,
   "metadata": {},
   "outputs": [],
   "source": [
    "a <- c(12, -41, -7,3,9,21,8,17,-12,2,11)\n",
    "b <- c(12,-7,3,9,21,8,17,-12,2,11)"
   ]
  },
  {
   "cell_type": "code",
   "execution_count": 6,
   "metadata": {},
   "outputs": [
    {
     "name": "stdout",
     "output_type": "stream",
     "text": [
      "[1] 2.090909\n",
      "[1] 17.25952\n",
      "[1] 10.20022\n",
      "[1] 297.8909\n",
      " 75% \n",
      "11.5 \n",
      " 25% \n",
      "-2.5 \n",
      "[1] 14\n"
     ]
    }
   ],
   "source": [
    "# mean\n",
    "print(mean(a))\n",
    "# sd\n",
    "print(sd(a))\n",
    "print(sd(b))\n",
    "# variance\n",
    "print(var(a))\n",
    "\n",
    "# Quantile\n",
    "print(quantile(a, 3/4)) # q3\n",
    "print(quantile(a, 1/4)) # q1\n",
    "\n",
    "# IQR = q3 - q1\n",
    "print(IQR(a))"
   ]
  },
  {
   "cell_type": "code",
   "execution_count": 13,
   "metadata": {},
   "outputs": [
    {
     "name": "stdout",
     "output_type": "stream",
     "text": [
      "[1] 1.070967\n"
     ]
    }
   ],
   "source": [
    "# install.packages(\"e1071\")\n",
    "library(e1071)  \n",
    "# skewness\n",
    "print(skewness(a))"
   ]
  },
  {
   "cell_type": "code",
   "execution_count": 33,
   "metadata": {},
   "outputs": [],
   "source": [
    "# Calculate the variance with weight probability\n",
    "#' @param x numeric vector of observations\n",
    "#' @param w vector of weights, \n",
    "#' @param na.rm if \\code{TRUE}, missing values in both \\code{w} and \\code{x}\n",
    "#'   will be removed prior computation. Otherwise if there are missing values\n",
    "#'   the result will always be missing.\n",
    "weighted.var <- function(x, w ) {\n",
    "    e_x <- sum(x*w)\n",
    "    print(paste0(\"E(X) = \", e_x))\n",
    "    \n",
    "    e_xx <- sum(x^2*w)\n",
    "    print(paste0(\"E(X^2) = \", e_xx))\n",
    "    \n",
    "    var_x <- e_xx - e_x^2\n",
    "    print(paste0(\"var(x) = \", var_x))\n",
    "}"
   ]
  },
  {
   "cell_type": "code",
   "execution_count": 34,
   "metadata": {},
   "outputs": [
    {
     "name": "stdout",
     "output_type": "stream",
     "text": [
      "[1] \"E(X) = 1.6\"\n",
      "[1] \"E(X^2) = 3\"\n",
      "[1] \"var(x) = 0.44\"\n"
     ]
    }
   ],
   "source": [
    "x <- c(1,2,3)\n",
    "w <- c(0.5,0.4,0.1)\n",
    "weighted.var(x,w)"
   ]
  },
  {
   "cell_type": "markdown",
   "metadata": {},
   "source": [
    "## Dependence\n",
    "\n",
    "### Covariance/ Correlation\n",
    "$$cov(X,Y)= E[(X-E[X])(Y-E[Y])] = E[XY] - E[X]E[Y]$$\n",
    "$$corr(X,Y) = \\frac{cov(X,Y)}{\\sqrt{V[X]V[Y]}}$$\n",
    "\n",
    "\n",
    "\n",
    "**Covariance**\n",
    "$$\n",
    "q_{xy} = \\frac{1}{n} \\sum_{i=1}^{n}(x_i-\\bar{x})(y_i - \\bar{y})\n",
    "$$\n",
    "\n",
    "**Correlation coefficient**\n",
    "$$\n",
    "r_{xy} = \\frac{q_{xy}}{s_x s_y} = \\frac{\\sum_1^n (x_i - \\bar{x})(y_i - \\bar{y})}{\\sqrt{\\sum_1^n (x_i - \\bar{x})^2 \\sum_1^n (y_i - \\bar{y})^2}}\n",
    "$$"
   ]
  },
  {
   "cell_type": "code",
   "execution_count": 28,
   "metadata": {},
   "outputs": [
    {
     "name": "stdout",
     "output_type": "stream",
     "text": [
      "[1] \"covariance\"\n",
      "[1] 2\n",
      "[1] \"correlation\"\n",
      "[1] 1\n",
      "[1] 2.5\n",
      "[1] 1\n"
     ]
    }
   ],
   "source": [
    "x <- c(1,2,3,4,5)\n",
    "y <- c(4,5,6,7,8)\n",
    "mean_x <- mean(x)\n",
    "mean_y <- mean(y)\n",
    "\n",
    "# covariance\n",
    "cov_x <- sum((x-mean_x)*(y-mean_y))/ 5\n",
    "print(\"covariance\")\n",
    "print(cov_x)\n",
    "\n",
    "\n",
    "# Correlation\n",
    "cor_x <- sum((x-mean_x)*(y-mean_y)) / sqrt(sum((x-mean_x)^2) *sum((y-mean_y)^2))\n",
    "print(\"correlation\")\n",
    "print(cor_x)\n",
    "\n",
    "# \n",
    "\n",
    "# R version\n",
    "cov_x_r <- cov(x,y, use=\"everything\") # devide by n-1\n",
    "cor_x_r <- cor(x,y)\n",
    "print(cov_x_r)\n",
    "print(cor_x_r)"
   ]
  },
  {
   "cell_type": "markdown",
   "metadata": {},
   "source": [
    "### Continuous"
   ]
  },
  {
   "cell_type": "code",
   "execution_count": 15,
   "metadata": {},
   "outputs": [
    {
     "name": "stdout",
     "output_type": "stream",
     "text": [
      "[1] \"E(X) = 1.5\"\n",
      "[1] \"E(X^2) = 3\"\n",
      "[1] \"var(x) = 0.75\"\n"
     ]
    }
   ],
   "source": [
    "# define a function\n",
    "f <- function(x) 3/x^4\n",
    "g <- function(x) x * f(x)\n",
    "h <- function(x) x^2 * f(x)\n",
    "\n",
    "ex <- integrate(g,\n",
    "                lower = 1,\n",
    "                upper= Inf)$value\n",
    "print(paste0(\"E(X) = \", ex))\n",
    "\n",
    "exx <- integrate(h,\n",
    "                lower = 1,\n",
    "                upper= Inf)$value\n",
    "print(paste0(\"E(X^2) = \", exx))\n",
    "\n",
    "var_x <- exx - ex^2\n",
    "print(paste0(\"var(x) = \", var_x))"
   ]
  },
  {
   "cell_type": "markdown",
   "metadata": {},
   "source": [
    "# Bayesian\n",
    "\n",
    "$$\n",
    "P(x|A) = \\frac{P(A|x) P(x)}{\\sum_{x \\in X} P(A|x)p(x)}\n",
    "$$"
   ]
  },
  {
   "cell_type": "code",
   "execution_count": 29,
   "metadata": {
    "scrolled": true
   },
   "outputs": [
    {
     "data": {
      "text/plain": [
       "    Y=red Y=yellow Y=blue\n",
       "X=0  0.05     0.15   0.10\n",
       "X=1  0.25     0.15   0.30"
      ]
     },
     "metadata": {},
     "output_type": "display_data"
    }
   ],
   "source": [
    "tb <- matrix(c(0.05, 0.15, 0.1, 0.25, 0.15, 0.3),ncol=3,byrow=TRUE)\n",
    "colnames(tb) <- c(\"Y=red\",\"Y=yellow\",\"Y=blue\")\n",
    "rownames(tb) <- c(\"X=0\",\"X=1\")\n",
    "tb <- as.table(tb)\n",
    "tb"
   ]
  },
  {
   "cell_type": "markdown",
   "metadata": {},
   "source": [
    "$$\n",
    "P(Y=red) = P(X=0 \\cap Y=red) + P(X=1 \\cap Y=red)\n",
    "$$"
   ]
  },
  {
   "cell_type": "code",
   "execution_count": 30,
   "metadata": {
    "scrolled": true
   },
   "outputs": [
    {
     "data": {
      "text/plain": [
       "X=0 X=1 \n",
       "0.3 0.7 "
      ]
     },
     "metadata": {},
     "output_type": "display_data"
    }
   ],
   "source": [
    "margin.table(tb,1)"
   ]
  },
  {
   "cell_type": "markdown",
   "metadata": {},
   "source": [
    "## CDF"
   ]
  },
  {
   "cell_type": "code",
   "execution_count": 32,
   "metadata": {},
   "outputs": [
    {
     "name": "stdout",
     "output_type": "stream",
     "text": [
      "[1] \"E(X) = 1.5\"\n",
      "[1] \"E(X^2) = 3\"\n",
      "[1] \"var(x) = 0.75\"\n"
     ]
    }
   ],
   "source": [
    "# define a function\n",
    "f <- function(x) 3/x^4\n",
    "g <- function(x) x * f(x)\n",
    "h <- function(x) x^2 * f(x)\n",
    "\n",
    "ex <- integrate(g,\n",
    "                lower = 1,\n",
    "                upper= Inf)$value\n",
    "print(paste0(\"E(X) = \", ex))\n",
    "\n",
    "exx <- integrate(h,\n",
    "                lower = 1,\n",
    "                upper= Inf)$value\n",
    "print(paste0(\"E(X^2) = \", exx))\n",
    "\n",
    "var_x <- exx - ex^2\n",
    "print(paste0(\"var(x) = \", var_x))\n",
    "\n"
   ]
  },
  {
   "cell_type": "markdown",
   "metadata": {},
   "source": [
    "## Entropy & Coding\n",
    "\n",
    "$$H(p) = - \\sum p_i log_2(p_i)$$\n",
    "\n",
    "For conditional entropy H(X|Y)\n",
    "\n",
    "$$H(X|Y) = - \\sum p(Y=y) H(X|Y=y)$$\n",
    "X and Y are independent if and only if H(X|Y) = H(X)\n"
   ]
  },
  {
   "cell_type": "code",
   "execution_count": 42,
   "metadata": {},
   "outputs": [
    {
     "data": {
      "text/html": [
       "2.1492553971685"
      ],
      "text/latex": [
       "2.1492553971685"
      ],
      "text/markdown": [
       "2.1492553971685"
      ],
      "text/plain": [
       "[1] 2.149255"
      ]
     },
     "metadata": {},
     "output_type": "display_data"
    }
   ],
   "source": [
    "# R package\n",
    "\n",
    "# install.packages(\"entropy\")\n",
    "library(\"entropy\")\n",
    "entropy(x, unit=\"log2\")"
   ]
  },
  {
   "cell_type": "code",
   "execution_count": 43,
   "metadata": {},
   "outputs": [
    {
     "data": {
      "text/html": [
       "2.32192809488736"
      ],
      "text/latex": [
       "2.32192809488736"
      ],
      "text/markdown": [
       "2.32192809488736"
      ],
      "text/plain": [
       "[1] 2.321928"
      ]
     },
     "metadata": {},
     "output_type": "display_data"
    }
   ],
   "source": [
    "entropy1 <- function(target) {\n",
    "  freq <- table(target)/length(target)\n",
    "  # vectorize\n",
    "  vec <- as.data.frame(freq)[,2]\n",
    "  #drop 0 to avoid NaN resulting from log2\n",
    "  vec<-vec[vec>0]\n",
    "  #compute entropy\n",
    "  -sum(vec * log2(vec))\n",
    "}\n",
    "\n",
    "entropy1(x)"
   ]
  },
  {
   "cell_type": "markdown",
   "metadata": {},
   "source": [
    "\n",
    "#### Kraft Inequality\n",
    "Given code lengths $l_1, ..., l_K$ , then $\\sum_{k=1}^K 2^{-l_k} \\leq 1$ if and only\n",
    "if there is a corresponding binary prefix code.\n",
    "\n",
    "The **expected code length** is \n",
    "$$E[l_k] = - \\sum_{k=1}^K p_kl_k$$\n",
    "\n",
    "Given probabilities, there is a binary prefix code\n",
    "with expected code length $\\leq 1+ \\sum_{k=1}^K p_k log_2 1/p_k$"
   ]
  },
  {
   "cell_type": "markdown",
   "metadata": {},
   "source": [
    "# Confidence Interval\n",
    "\n"
   ]
  },
  {
   "cell_type": "code",
   "execution_count": null,
   "metadata": {},
   "outputs": [],
   "source": []
  },
  {
   "cell_type": "markdown",
   "metadata": {},
   "source": []
  },
  {
   "cell_type": "code",
   "execution_count": null,
   "metadata": {},
   "outputs": [],
   "source": []
  }
 ],
 "metadata": {
  "kernelspec": {
   "display_name": "R",
   "language": "R",
   "name": "ir"
  },
  "language_info": {
   "codemirror_mode": "r",
   "file_extension": ".r",
   "mimetype": "text/x-r-source",
   "name": "R",
   "pygments_lexer": "r",
   "version": "3.6.3"
  }
 },
 "nbformat": 4,
 "nbformat_minor": 4
}
