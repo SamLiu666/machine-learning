{
 "cells": [
  {
   "cell_type": "markdown",
   "metadata": {},
   "source": [
    "# 实战项目 1 电影情感分类"
   ]
  },
  {
   "cell_type": "code",
   "execution_count": 2,
   "metadata": {},
   "outputs": [
    {
     "name": "stderr",
     "output_type": "stream",
     "text": [
      "D:\\Anaconda\\envs\\tensorflow2.0\\lib\\site-packages\\tensorflow\\python\\framework\\dtypes.py:516: FutureWarning: Passing (type, 1) or '1type' as a synonym of type is deprecated; in a future version of numpy, it will be understood as (type, (1,)) / '(1,)type'.\n",
      "  _np_qint8 = np.dtype([(\"qint8\", np.int8, 1)])\n",
      "D:\\Anaconda\\envs\\tensorflow2.0\\lib\\site-packages\\tensorflow\\python\\framework\\dtypes.py:517: FutureWarning: Passing (type, 1) or '1type' as a synonym of type is deprecated; in a future version of numpy, it will be understood as (type, (1,)) / '(1,)type'.\n",
      "  _np_quint8 = np.dtype([(\"quint8\", np.uint8, 1)])\n",
      "D:\\Anaconda\\envs\\tensorflow2.0\\lib\\site-packages\\tensorflow\\python\\framework\\dtypes.py:518: FutureWarning: Passing (type, 1) or '1type' as a synonym of type is deprecated; in a future version of numpy, it will be understood as (type, (1,)) / '(1,)type'.\n",
      "  _np_qint16 = np.dtype([(\"qint16\", np.int16, 1)])\n",
      "D:\\Anaconda\\envs\\tensorflow2.0\\lib\\site-packages\\tensorflow\\python\\framework\\dtypes.py:519: FutureWarning: Passing (type, 1) or '1type' as a synonym of type is deprecated; in a future version of numpy, it will be understood as (type, (1,)) / '(1,)type'.\n",
      "  _np_quint16 = np.dtype([(\"quint16\", np.uint16, 1)])\n",
      "D:\\Anaconda\\envs\\tensorflow2.0\\lib\\site-packages\\tensorflow\\python\\framework\\dtypes.py:520: FutureWarning: Passing (type, 1) or '1type' as a synonym of type is deprecated; in a future version of numpy, it will be understood as (type, (1,)) / '(1,)type'.\n",
      "  _np_qint32 = np.dtype([(\"qint32\", np.int32, 1)])\n",
      "D:\\Anaconda\\envs\\tensorflow2.0\\lib\\site-packages\\tensorflow\\python\\framework\\dtypes.py:525: FutureWarning: Passing (type, 1) or '1type' as a synonym of type is deprecated; in a future version of numpy, it will be understood as (type, (1,)) / '(1,)type'.\n",
      "  np_resource = np.dtype([(\"resource\", np.ubyte, 1)])\n"
     ]
    },
    {
     "name": "stdout",
     "output_type": "stream",
     "text": [
      "2.0.0-beta1\n"
     ]
    },
    {
     "name": "stderr",
     "output_type": "stream",
     "text": [
      "D:\\Anaconda\\envs\\tensorflow2.0\\lib\\site-packages\\tensorboard\\compat\\tensorflow_stub\\dtypes.py:541: FutureWarning: Passing (type, 1) or '1type' as a synonym of type is deprecated; in a future version of numpy, it will be understood as (type, (1,)) / '(1,)type'.\n",
      "  _np_qint8 = np.dtype([(\"qint8\", np.int8, 1)])\n",
      "D:\\Anaconda\\envs\\tensorflow2.0\\lib\\site-packages\\tensorboard\\compat\\tensorflow_stub\\dtypes.py:542: FutureWarning: Passing (type, 1) or '1type' as a synonym of type is deprecated; in a future version of numpy, it will be understood as (type, (1,)) / '(1,)type'.\n",
      "  _np_quint8 = np.dtype([(\"quint8\", np.uint8, 1)])\n",
      "D:\\Anaconda\\envs\\tensorflow2.0\\lib\\site-packages\\tensorboard\\compat\\tensorflow_stub\\dtypes.py:543: FutureWarning: Passing (type, 1) or '1type' as a synonym of type is deprecated; in a future version of numpy, it will be understood as (type, (1,)) / '(1,)type'.\n",
      "  _np_qint16 = np.dtype([(\"qint16\", np.int16, 1)])\n",
      "D:\\Anaconda\\envs\\tensorflow2.0\\lib\\site-packages\\tensorboard\\compat\\tensorflow_stub\\dtypes.py:544: FutureWarning: Passing (type, 1) or '1type' as a synonym of type is deprecated; in a future version of numpy, it will be understood as (type, (1,)) / '(1,)type'.\n",
      "  _np_quint16 = np.dtype([(\"quint16\", np.uint16, 1)])\n",
      "D:\\Anaconda\\envs\\tensorflow2.0\\lib\\site-packages\\tensorboard\\compat\\tensorflow_stub\\dtypes.py:545: FutureWarning: Passing (type, 1) or '1type' as a synonym of type is deprecated; in a future version of numpy, it will be understood as (type, (1,)) / '(1,)type'.\n",
      "  _np_qint32 = np.dtype([(\"qint32\", np.int32, 1)])\n",
      "D:\\Anaconda\\envs\\tensorflow2.0\\lib\\site-packages\\tensorboard\\compat\\tensorflow_stub\\dtypes.py:550: FutureWarning: Passing (type, 1) or '1type' as a synonym of type is deprecated; in a future version of numpy, it will be understood as (type, (1,)) / '(1,)type'.\n",
      "  np_resource = np.dtype([(\"resource\", np.ubyte, 1)])\n"
     ]
    }
   ],
   "source": [
    "from __future__ import absolute_import, division, print_function, unicode_literals\n",
    "\n",
    "try:\n",
    "  # Colab only\n",
    "  %tensorflow_version 2.x\n",
    "except Exception:\n",
    "    pass\n",
    "import tensorflow as tf\n",
    "from tensorflow import keras\n",
    "\n",
    "import numpy as np\n",
    "\n",
    "print(tf.__version__)"
   ]
  },
  {
   "cell_type": "code",
   "execution_count": 3,
   "metadata": {},
   "outputs": [
    {
     "data": {
      "text/plain": [
       "<module 'tensorflow.python.keras.api._v2.keras.datasets.imdb' from 'D:\\\\Anaconda\\\\envs\\\\tensorflow2.0\\\\lib\\\\site-packages\\\\tensorflow\\\\python\\\\keras\\\\api\\\\_v2\\\\keras\\\\datasets\\\\imdb\\\\__init__.py'>"
      ]
     },
     "execution_count": 3,
     "metadata": {},
     "output_type": "execute_result"
    }
   ],
   "source": [
    "# keras 自带数据库\n",
    "imdb = keras.datasets.imdb\n",
    "imdb"
   ]
  },
  {
   "cell_type": "code",
   "execution_count": 4,
   "metadata": {},
   "outputs": [],
   "source": [
    "# 参数 num_words=10000 保留了训练数据中最常出现的 10,000 个单词。为了保持数据规模的可管理性，低频词将被丢弃。\n",
    "(train_data, train_labels), (test_data, test_labels) = imdb.load_data(num_words=10000)"
   ]
  },
  {
   "cell_type": "markdown",
   "metadata": {},
   "source": [
    "## 熟悉数据"
   ]
  },
  {
   "cell_type": "code",
   "execution_count": 5,
   "metadata": {},
   "outputs": [
    {
     "name": "stdout",
     "output_type": "stream",
     "text": [
      "Training entries: 25000, labels: 25000\n"
     ]
    }
   ],
   "source": [
    "print(\"Training entries: {}, labels: {}\".format(len(train_data), len(train_labels)))"
   ]
  },
  {
   "cell_type": "code",
   "execution_count": 8,
   "metadata": {},
   "outputs": [
    {
     "data": {
      "text/plain": [
       "[1,\n",
       " 14,\n",
       " 22,\n",
       " 16,\n",
       " 43,\n",
       " 530,\n",
       " 973,\n",
       " 1622,\n",
       " 1385,\n",
       " 65,\n",
       " 458,\n",
       " 4468,\n",
       " 66,\n",
       " 3941,\n",
       " 4,\n",
       " 173,\n",
       " 36,\n",
       " 256,\n",
       " 5,\n",
       " 25,\n",
       " 100,\n",
       " 43,\n",
       " 838,\n",
       " 112,\n",
       " 50,\n",
       " 670,\n",
       " 2,\n",
       " 9,\n",
       " 35,\n",
       " 480,\n",
       " 284,\n",
       " 5,\n",
       " 150,\n",
       " 4,\n",
       " 172,\n",
       " 112,\n",
       " 167,\n",
       " 2,\n",
       " 336,\n",
       " 385,\n",
       " 39,\n",
       " 4,\n",
       " 172,\n",
       " 4536,\n",
       " 1111,\n",
       " 17,\n",
       " 546,\n",
       " 38,\n",
       " 13,\n",
       " 447,\n",
       " 4,\n",
       " 192,\n",
       " 50,\n",
       " 16,\n",
       " 6,\n",
       " 147,\n",
       " 2025,\n",
       " 19,\n",
       " 14,\n",
       " 22,\n",
       " 4,\n",
       " 1920,\n",
       " 4613,\n",
       " 469,\n",
       " 4,\n",
       " 22,\n",
       " 71,\n",
       " 87,\n",
       " 12,\n",
       " 16,\n",
       " 43,\n",
       " 530,\n",
       " 38,\n",
       " 76,\n",
       " 15,\n",
       " 13,\n",
       " 1247,\n",
       " 4,\n",
       " 22,\n",
       " 17,\n",
       " 515,\n",
       " 17,\n",
       " 12,\n",
       " 16,\n",
       " 626,\n",
       " 18,\n",
       " 2,\n",
       " 5,\n",
       " 62,\n",
       " 386,\n",
       " 12,\n",
       " 8,\n",
       " 316,\n",
       " 8,\n",
       " 106,\n",
       " 5,\n",
       " 4,\n",
       " 2223,\n",
       " 5244,\n",
       " 16,\n",
       " 480,\n",
       " 66,\n",
       " 3785,\n",
       " 33,\n",
       " 4,\n",
       " 130,\n",
       " 12,\n",
       " 16,\n",
       " 38,\n",
       " 619,\n",
       " 5,\n",
       " 25,\n",
       " 124,\n",
       " 51,\n",
       " 36,\n",
       " 135,\n",
       " 48,\n",
       " 25,\n",
       " 1415,\n",
       " 33,\n",
       " 6,\n",
       " 22,\n",
       " 12,\n",
       " 215,\n",
       " 28,\n",
       " 77,\n",
       " 52,\n",
       " 5,\n",
       " 14,\n",
       " 407,\n",
       " 16,\n",
       " 82,\n",
       " 2,\n",
       " 8,\n",
       " 4,\n",
       " 107,\n",
       " 117,\n",
       " 5952,\n",
       " 15,\n",
       " 256,\n",
       " 4,\n",
       " 2,\n",
       " 7,\n",
       " 3766,\n",
       " 5,\n",
       " 723,\n",
       " 36,\n",
       " 71,\n",
       " 43,\n",
       " 530,\n",
       " 476,\n",
       " 26,\n",
       " 400,\n",
       " 317,\n",
       " 46,\n",
       " 7,\n",
       " 4,\n",
       " 2,\n",
       " 1029,\n",
       " 13,\n",
       " 104,\n",
       " 88,\n",
       " 4,\n",
       " 381,\n",
       " 15,\n",
       " 297,\n",
       " 98,\n",
       " 32,\n",
       " 2071,\n",
       " 56,\n",
       " 26,\n",
       " 141,\n",
       " 6,\n",
       " 194,\n",
       " 7486,\n",
       " 18,\n",
       " 4,\n",
       " 226,\n",
       " 22,\n",
       " 21,\n",
       " 134,\n",
       " 476,\n",
       " 26,\n",
       " 480,\n",
       " 5,\n",
       " 144,\n",
       " 30,\n",
       " 5535,\n",
       " 18,\n",
       " 51,\n",
       " 36,\n",
       " 28,\n",
       " 224,\n",
       " 92,\n",
       " 25,\n",
       " 104,\n",
       " 4,\n",
       " 226,\n",
       " 65,\n",
       " 16,\n",
       " 38,\n",
       " 1334,\n",
       " 88,\n",
       " 12,\n",
       " 16,\n",
       " 283,\n",
       " 5,\n",
       " 16,\n",
       " 4472,\n",
       " 113,\n",
       " 103,\n",
       " 32,\n",
       " 15,\n",
       " 16,\n",
       " 5345,\n",
       " 19,\n",
       " 178,\n",
       " 32]"
      ]
     },
     "execution_count": 8,
     "metadata": {},
     "output_type": "execute_result"
    }
   ],
   "source": [
    "train_data[0]"
   ]
  },
  {
   "cell_type": "code",
   "execution_count": 9,
   "metadata": {},
   "outputs": [
    {
     "data": {
      "text/plain": [
       "array([1, 0, 0, 1, 0, 0, 1, 0, 1, 0], dtype=int64)"
      ]
     },
     "execution_count": 9,
     "metadata": {},
     "output_type": "execute_result"
    }
   ],
   "source": [
    "train_labels[:10]"
   ]
  },
  {
   "cell_type": "code",
   "execution_count": 10,
   "metadata": {},
   "outputs": [
    {
     "data": {
      "text/plain": [
       "(218, 189)"
      ]
     },
     "execution_count": 10,
     "metadata": {},
     "output_type": "execute_result"
    }
   ],
   "source": [
    "# 训练数据长度不一致，后续处理\n",
    "len(train_data[0]), len(train_data[1])"
   ]
  },
  {
   "cell_type": "code",
   "execution_count": 12,
   "metadata": {},
   "outputs": [],
   "source": [
    "# 一个映射单词到整数索引的词典\n",
    "word_index = imdb.get_word_index()\n",
    "\n",
    "# 保留第一个索引\n",
    "word_index = {k:(v+3) for k,v in word_index.items()}\n",
    "word_index[\"<PAD>\"] = 0\n",
    "word_index[\"<START>\"] = 1\n",
    "word_index[\"<UNK>\"] = 2  # unknown\n",
    "word_index[\"<UNUSED>\"] = 3\n",
    "\n",
    "reverse_word_index = dict([(value, key) for (key, value) in word_index.items()])\n",
    "\n",
    "def decode_review(text):\n",
    "    return ' '.join([reverse_word_index.get(i, '?') for i in text])"
   ]
  },
  {
   "cell_type": "code",
   "execution_count": 13,
   "metadata": {},
   "outputs": [],
   "source": [
    "train_data = keras.preprocessing.sequence.pad_sequences(train_data,\n",
    "                                                        value=word_index[\"<PAD>\"],\n",
    "                                                        padding='post',\n",
    "                                                        maxlen=256)\n",
    "\n",
    "test_data = keras.preprocessing.sequence.pad_sequences(test_data,\n",
    "                                                       value=word_index[\"<PAD>\"],\n",
    "                                                       padding='post',\n",
    "                                                       maxlen=256)"
   ]
  },
  {
   "cell_type": "code",
   "execution_count": 14,
   "metadata": {},
   "outputs": [
    {
     "data": {
      "text/plain": [
       "(256, 256)"
      ]
     },
     "execution_count": 14,
     "metadata": {},
     "output_type": "execute_result"
    }
   ],
   "source": [
    "len(train_data[0]), len(train_data[1])"
   ]
  },
  {
   "cell_type": "markdown",
   "metadata": {},
   "source": [
    "## 构建模型"
   ]
  },
  {
   "cell_type": "code",
   "execution_count": 15,
   "metadata": {},
   "outputs": [
    {
     "name": "stdout",
     "output_type": "stream",
     "text": [
      "Model: \"sequential\"\n",
      "_________________________________________________________________\n",
      "Layer (type)                 Output Shape              Param #   \n",
      "=================================================================\n",
      "embedding (Embedding)        (None, None, 16)          160000    \n",
      "_________________________________________________________________\n",
      "global_average_pooling1d (Gl (None, 16)                0         \n",
      "_________________________________________________________________\n",
      "dense (Dense)                (None, 16)                272       \n",
      "_________________________________________________________________\n",
      "dense_1 (Dense)              (None, 1)                 17        \n",
      "=================================================================\n",
      "Total params: 160,289\n",
      "Trainable params: 160,289\n",
      "Non-trainable params: 0\n",
      "_________________________________________________________________\n"
     ]
    }
   ],
   "source": [
    "vocab_size = 10000\n",
    "\n",
    "model = keras.Sequential()\n",
    "model.add(keras.layers.Embedding(vocab_size, 16))\n",
    "model.add(keras.layers.GlobalAveragePooling1D())\n",
    "model.add(keras.layers.Dense(16, activation='relu'))\n",
    "model.add(keras.layers.Dense(1, activation='sigmoid'))\n",
    "\n",
    "model.summary()"
   ]
  },
  {
   "cell_type": "markdown",
   "metadata": {},
   "source": [
    "层按顺序堆叠以构建分类器：\n",
    "\n",
    "- 第一层是嵌入（Embedding）层。该层采用整数编码的词汇表，并查找每个词索引的嵌入向量（embedding vector）。这些向量是通过模型训练学习到的。向量向输出数组增加了一个维度。得到的维度为：(batch, sequence, embedding)。\n",
    "- 接下来，GlobalAveragePooling1D 将通过对序列维度求平均值来为每个样本返回一个定长输出向量。这允许模型以尽可能最简单的方式处理变长输入。\n",
    "- 该定长输出向量通过一个有 16 个隐层单元的全连接（Dense）层传输。\n",
    "- 最后一层与单个输出结点密集连接。使用 Sigmoid 激活函数，其函数值为介于 0 与 1 之间的浮点数，表示概率或置信度。"
   ]
  },
  {
   "cell_type": "markdown",
   "metadata": {},
   "source": [
    "一个模型需要损失函数和优化器来进行训练。由于这是一个二分类问题且模型输出概率值（一个使用 sigmoid 激活函数的单一单元层），我们将使用 binary_crossentropy 损失函数。\n",
    "\n",
    "这不是损失函数的唯一选择，例如，您可以选择 mean_squared_error 。但是，一般来说 binary_crossentropy 更适合处理概率——它能够度量概率分布之间的“距离”"
   ]
  },
  {
   "cell_type": "code",
   "execution_count": 16,
   "metadata": {},
   "outputs": [],
   "source": [
    "# 损失函数，优化器\n",
    "model.compile(optimizer='adam',\n",
    "              loss='binary_crossentropy',\n",
    "              metrics=['accuracy'])"
   ]
  },
  {
   "cell_type": "code",
   "execution_count": 17,
   "metadata": {},
   "outputs": [],
   "source": [
    "# 创建验证集\n",
    "x_val = train_data[:10000]\n",
    "partial_x_train = train_data[10000:]\n",
    "\n",
    "y_val = train_labels[:10000]\n",
    "partial_y_train = train_labels[10000:]"
   ]
  },
  {
   "cell_type": "markdown",
   "metadata": {},
   "source": [
    "## 模型训练"
   ]
  },
  {
   "cell_type": "code",
   "execution_count": 18,
   "metadata": {},
   "outputs": [
    {
     "name": "stdout",
     "output_type": "stream",
     "text": [
      "WARNING:tensorflow:From D:\\Anaconda\\envs\\tensorflow2.0\\lib\\site-packages\\tensorflow\\python\\ops\\math_grad.py:1250: add_dispatch_support.<locals>.wrapper (from tensorflow.python.ops.array_ops) is deprecated and will be removed in a future version.\n",
      "Instructions for updating:\n",
      "Use tf.where in 2.0, which has the same broadcast rule as np.where\n",
      "Train on 15000 samples, validate on 10000 samples\n",
      "Epoch 1/40\n",
      "15000/15000 [==============================] - 1s 96us/sample - loss: 0.6920 - accuracy: 0.5653 - val_loss: 0.6902 - val_accuracy: 0.6019\n",
      "Epoch 2/40\n",
      "15000/15000 [==============================] - 1s 62us/sample - loss: 0.6865 - accuracy: 0.6794 - val_loss: 0.6822 - val_accuracy: 0.7407\n",
      "Epoch 3/40\n",
      "15000/15000 [==============================] - 1s 51us/sample - loss: 0.6738 - accuracy: 0.7541 - val_loss: 0.6657 - val_accuracy: 0.7496\n",
      "Epoch 4/40\n",
      "15000/15000 [==============================] - 1s 52us/sample - loss: 0.6503 - accuracy: 0.7625 - val_loss: 0.6384 - val_accuracy: 0.7539\n",
      "Epoch 5/40\n",
      "15000/15000 [==============================] - 1s 59us/sample - loss: 0.6147 - accuracy: 0.7915 - val_loss: 0.6009 - val_accuracy: 0.7849\n",
      "Epoch 6/40\n",
      "15000/15000 [==============================] - 1s 53us/sample - loss: 0.5695 - accuracy: 0.8127 - val_loss: 0.5574 - val_accuracy: 0.8053\n",
      "Epoch 7/40\n",
      "15000/15000 [==============================] - 1s 52us/sample - loss: 0.5193 - accuracy: 0.8300 - val_loss: 0.5107 - val_accuracy: 0.8214\n",
      "Epoch 8/40\n",
      "15000/15000 [==============================] - 1s 54us/sample - loss: 0.4699 - accuracy: 0.8477 - val_loss: 0.4684 - val_accuracy: 0.8356\n",
      "Epoch 9/40\n",
      "15000/15000 [==============================] - 1s 53us/sample - loss: 0.4249 - accuracy: 0.8627 - val_loss: 0.4313 - val_accuracy: 0.8463\n",
      "Epoch 10/40\n",
      "15000/15000 [==============================] - 1s 57us/sample - loss: 0.3860 - accuracy: 0.8746 - val_loss: 0.4014 - val_accuracy: 0.8532\n",
      "Epoch 11/40\n",
      "15000/15000 [==============================] - 1s 56us/sample - loss: 0.3536 - accuracy: 0.8829 - val_loss: 0.3772 - val_accuracy: 0.8601\n",
      "Epoch 12/40\n",
      "15000/15000 [==============================] - 1s 55us/sample - loss: 0.3266 - accuracy: 0.8909 - val_loss: 0.3587 - val_accuracy: 0.8648\n",
      "Epoch 13/40\n",
      "15000/15000 [==============================] - 1s 59us/sample - loss: 0.3046 - accuracy: 0.8970 - val_loss: 0.3427 - val_accuracy: 0.8698\n",
      "Epoch 14/40\n",
      "15000/15000 [==============================] - 1s 61us/sample - loss: 0.2849 - accuracy: 0.9031 - val_loss: 0.3310 - val_accuracy: 0.8730\n",
      "Epoch 15/40\n",
      "15000/15000 [==============================] - 1s 49us/sample - loss: 0.2683 - accuracy: 0.9076 - val_loss: 0.3215 - val_accuracy: 0.8746\n",
      "Epoch 16/40\n",
      "15000/15000 [==============================] - 1s 52us/sample - loss: 0.2535 - accuracy: 0.9123 - val_loss: 0.3136 - val_accuracy: 0.8752\n",
      "Epoch 17/40\n",
      "15000/15000 [==============================] - 1s 56us/sample - loss: 0.2398 - accuracy: 0.9165 - val_loss: 0.3070 - val_accuracy: 0.8783\n",
      "Epoch 18/40\n",
      "15000/15000 [==============================] - 1s 51us/sample - loss: 0.2276 - accuracy: 0.9217 - val_loss: 0.3015 - val_accuracy: 0.8808\n",
      "Epoch 19/40\n",
      "15000/15000 [==============================] - 1s 49us/sample - loss: 0.2166 - accuracy: 0.9241 - val_loss: 0.2968 - val_accuracy: 0.8821\n",
      "Epoch 20/40\n",
      "15000/15000 [==============================] - 1s 50us/sample - loss: 0.2067 - accuracy: 0.9282 - val_loss: 0.2936 - val_accuracy: 0.8822\n",
      "Epoch 21/40\n",
      "15000/15000 [==============================] - 1s 61us/sample - loss: 0.1965 - accuracy: 0.9338 - val_loss: 0.2909 - val_accuracy: 0.8838\n",
      "Epoch 22/40\n",
      "15000/15000 [==============================] - 1s 57us/sample - loss: 0.1881 - accuracy: 0.9372 - val_loss: 0.2888 - val_accuracy: 0.8840\n",
      "Epoch 23/40\n",
      "15000/15000 [==============================] - 1s 51us/sample - loss: 0.1795 - accuracy: 0.9411 - val_loss: 0.2881 - val_accuracy: 0.8843\n",
      "Epoch 24/40\n",
      "15000/15000 [==============================] - 1s 54us/sample - loss: 0.1721 - accuracy: 0.9445 - val_loss: 0.2867 - val_accuracy: 0.8841\n",
      "Epoch 25/40\n",
      "15000/15000 [==============================] - 1s 48us/sample - loss: 0.1645 - accuracy: 0.9473 - val_loss: 0.2856 - val_accuracy: 0.8854\n",
      "Epoch 26/40\n",
      "15000/15000 [==============================] - 1s 47us/sample - loss: 0.1578 - accuracy: 0.9504 - val_loss: 0.2863 - val_accuracy: 0.8837\n",
      "Epoch 27/40\n",
      "15000/15000 [==============================] - 1s 50us/sample - loss: 0.1514 - accuracy: 0.9526 - val_loss: 0.2861 - val_accuracy: 0.8844\n",
      "Epoch 28/40\n",
      "15000/15000 [==============================] - 1s 48us/sample - loss: 0.1453 - accuracy: 0.9552 - val_loss: 0.2868 - val_accuracy: 0.8859\n",
      "Epoch 29/40\n",
      "15000/15000 [==============================] - 1s 57us/sample - loss: 0.1399 - accuracy: 0.9581 - val_loss: 0.2887 - val_accuracy: 0.8838\n",
      "Epoch 30/40\n",
      "15000/15000 [==============================] - 1s 48us/sample - loss: 0.1342 - accuracy: 0.9599 - val_loss: 0.2883 - val_accuracy: 0.8855\n",
      "Epoch 31/40\n",
      "15000/15000 [==============================] - 1s 50us/sample - loss: 0.1286 - accuracy: 0.9621 - val_loss: 0.2896 - val_accuracy: 0.8865\n",
      "Epoch 32/40\n",
      "15000/15000 [==============================] - 1s 48us/sample - loss: 0.1235 - accuracy: 0.9657 - val_loss: 0.2913 - val_accuracy: 0.8860\n",
      "Epoch 33/40\n",
      "15000/15000 [==============================] - 1s 48us/sample - loss: 0.1185 - accuracy: 0.9665 - val_loss: 0.2937 - val_accuracy: 0.8847\n",
      "Epoch 34/40\n",
      "15000/15000 [==============================] - 1s 55us/sample - loss: 0.1141 - accuracy: 0.9677 - val_loss: 0.2961 - val_accuracy: 0.8848\n",
      "Epoch 35/40\n",
      "15000/15000 [==============================] - 1s 49us/sample - loss: 0.1099 - accuracy: 0.9687 - val_loss: 0.2990 - val_accuracy: 0.8850\n",
      "Epoch 36/40\n",
      "15000/15000 [==============================] - 1s 58us/sample - loss: 0.1056 - accuracy: 0.9713 - val_loss: 0.3008 - val_accuracy: 0.8836\n",
      "Epoch 37/40\n",
      "15000/15000 [==============================] - 1s 53us/sample - loss: 0.1013 - accuracy: 0.9721 - val_loss: 0.3036 - val_accuracy: 0.8821\n",
      "Epoch 38/40\n",
      "15000/15000 [==============================] - 1s 50us/sample - loss: 0.0975 - accuracy: 0.9738 - val_loss: 0.3074 - val_accuracy: 0.8822\n",
      "Epoch 39/40\n",
      "15000/15000 [==============================] - 1s 52us/sample - loss: 0.0943 - accuracy: 0.9751 - val_loss: 0.3112 - val_accuracy: 0.8819\n",
      "Epoch 40/40\n",
      "15000/15000 [==============================] - 1s 51us/sample - loss: 0.0903 - accuracy: 0.9769 - val_loss: 0.3140 - val_accuracy: 0.8825\n"
     ]
    }
   ],
   "source": [
    "history = model.fit(partial_x_train,\n",
    "                    partial_y_train,\n",
    "                    epochs=40,\n",
    "                    batch_size=512,\n",
    "                    validation_data=(x_val, y_val),\n",
    "                    verbose=1)"
   ]
  },
  {
   "cell_type": "markdown",
   "metadata": {},
   "source": [
    "以 512 个样本的 mini-batch 大小迭代 40 个 epoch 来训练模型。这是指对 x_train 和 y_train 张量中所有样本的的 40 次迭代。在训练过程中，监测来自验证集的 10,000 个样本上的损失值（loss）和准确率（accuracy）："
   ]
  },
  {
   "cell_type": "code",
   "execution_count": 19,
   "metadata": {},
   "outputs": [
    {
     "name": "stdout",
     "output_type": "stream",
     "text": [
      "25000/25000 - 1s - loss: 0.3355 - accuracy: 0.8708\n",
      "[0.3354869724750519, 0.87084]\n"
     ]
    }
   ],
   "source": [
    "results = model.evaluate(test_data,  test_labels, verbose=2)\n",
    "\n",
    "print(results)"
   ]
  },
  {
   "cell_type": "markdown",
   "metadata": {},
   "source": [
    "## 创建图表"
   ]
  },
  {
   "cell_type": "code",
   "execution_count": 21,
   "metadata": {},
   "outputs": [
    {
     "data": {
      "text/plain": [
       "dict_keys(['loss', 'accuracy', 'val_loss', 'val_accuracy'])"
      ]
     },
     "execution_count": 21,
     "metadata": {},
     "output_type": "execute_result"
    }
   ],
   "source": [
    "history_dict = history.history\n",
    "history_dict.keys()\n"
   ]
  },
  {
   "cell_type": "code",
   "execution_count": 22,
   "metadata": {},
   "outputs": [
    {
     "data": {
      "image/png": "[encoded data removed]",
      "text/plain": [
       "<Figure size 432x288 with 1 Axes>"
      ]
     },
     "metadata": {
      "needs_background": "light"
     },
     "output_type": "display_data"
    }
   ],
   "source": [
    "import matplotlib.pyplot as plt\n",
    "\n",
    "acc = history_dict['accuracy']\n",
    "val_acc = history_dict['val_accuracy']\n",
    "loss = history_dict['loss']\n",
    "val_loss = history_dict['val_loss']\n",
    "\n",
    "epochs = range(1, len(acc) + 1)\n",
    "\n",
    "# “bo”代表 \"蓝点\"\n",
    "plt.plot(epochs, loss, 'bo', label='Training loss')\n",
    "# b代表“蓝色实线”\n",
    "plt.plot(epochs, val_loss, 'b', label='Validation loss')\n",
    "plt.title('Training and validation loss')\n",
    "plt.xlabel('Epochs')\n",
    "plt.ylabel('Loss')\n",
    "plt.legend()\n",
    "\n",
    "plt.show()"
   ]
  },
  {
   "cell_type": "code",
   "execution_count": 23,
   "metadata": {},
   "outputs": [
    {
     "data": {
      "image/png": "[encoded data removed]",
      "text/plain": [
       "<Figure size 432x288 with 1 Axes>"
      ]
     },
     "metadata": {
      "needs_background": "light"
     },
     "output_type": "display_data"
    }
   ],
   "source": [
    "plt.clf()   # 清除数字\n",
    "\n",
    "plt.plot(epochs, acc, 'bo', label='Training acc')\n",
    "plt.plot(epochs, val_acc, 'b', label='Validation acc')\n",
    "plt.title('Training and validation accuracy')\n",
    "plt.xlabel('Epochs')\n",
    "plt.ylabel('Accuracy')\n",
    "plt.legend()\n",
    "\n",
    "plt.show()"
   ]
  },
  {
   "cell_type": "markdown",
   "metadata": {},
   "source": [
    "在该图中，点代表训练损失值（loss）与准确率（accuracy），实线代表验证损失值（loss）与准确率（accuracy）。"
   ]
  },
  {
   "cell_type": "markdown",
   "metadata": {},
   "source": [
    "注意训练损失值随每一个 epoch 下降而训练准确率（accuracy）随每一个 epoch 上升。这在使用梯度下降优化时是可预期的——理应在每次迭代中最小化期望值。\n",
    "\n",
    "验证过程的损失值（loss）与准确率（accuracy）的情况却并非如此——它们似乎在 20 个 epoch 后达到峰值。这是过拟合的一个实例：模型在训练数据上的表现比在以前从未见过的数据上的表现要更好。在此之后，模型过度优化并学习特定于训练数据的表示，而不能够泛化到测试数据。\n",
    "\n",
    "对于这种特殊情况，我们可以通过在 20 个左右的 epoch 后停止训练来避免过拟合。稍后，您将看到如何通过回调自动执行此操作。"
   ]
  },
  {
   "cell_type": "code",
   "execution_count": 27,
   "metadata": {},
   "outputs": [
    {
     "name": "stdout",
     "output_type": "stream",
     "text": [
      "Train on 15000 samples, validate on 10000 samples\n",
      "Epoch 1/20\n",
      "15000/15000 [==============================] - 1s 48us/sample - loss: 0.0390 - accuracy: 0.9937 - val_loss: 0.4095 - val_accuracy: 0.8737\n",
      "Epoch 2/20\n",
      "15000/15000 [==============================] - 1s 52us/sample - loss: 0.0374 - accuracy: 0.9941 - val_loss: 0.4144 - val_accuracy: 0.8743\n",
      "Epoch 3/20\n",
      "15000/15000 [==============================] - 1s 53us/sample - loss: 0.0359 - accuracy: 0.9948 - val_loss: 0.4207 - val_accuracy: 0.8717\n",
      "Epoch 4/20\n",
      "15000/15000 [==============================] - 1s 58us/sample - loss: 0.0344 - accuracy: 0.9953 - val_loss: 0.4255 - val_accuracy: 0.8718\n",
      "Epoch 5/20\n",
      "15000/15000 [==============================] - 1s 50us/sample - loss: 0.0332 - accuracy: 0.9953 - val_loss: 0.4320 - val_accuracy: 0.8723\n",
      "Epoch 6/20\n",
      "15000/15000 [==============================] - 1s 51us/sample - loss: 0.0322 - accuracy: 0.9955 - val_loss: 0.4362 - val_accuracy: 0.8716\n",
      "Epoch 7/20\n",
      "15000/15000 [==============================] - 1s 49us/sample - loss: 0.0304 - accuracy: 0.9961 - val_loss: 0.4415 - val_accuracy: 0.8710\n",
      "Epoch 8/20\n",
      "15000/15000 [==============================] - 1s 55us/sample - loss: 0.0292 - accuracy: 0.9965 - val_loss: 0.4475 - val_accuracy: 0.8705\n",
      "Epoch 9/20\n",
      "15000/15000 [==============================] - 1s 53us/sample - loss: 0.0284 - accuracy: 0.9968 - val_loss: 0.4528 - val_accuracy: 0.8704\n",
      "Epoch 10/20\n",
      "15000/15000 [==============================] - 1s 53us/sample - loss: 0.0275 - accuracy: 0.9969 - val_loss: 0.4587 - val_accuracy: 0.8699\n",
      "Epoch 11/20\n",
      "15000/15000 [==============================] - 1s 49us/sample - loss: 0.0260 - accuracy: 0.9973 - val_loss: 0.4662 - val_accuracy: 0.8672\n",
      "Epoch 12/20\n",
      "15000/15000 [==============================] - 1s 56us/sample - loss: 0.0250 - accuracy: 0.9972 - val_loss: 0.4700 - val_accuracy: 0.8671\n",
      "Epoch 13/20\n",
      "15000/15000 [==============================] - 1s 51us/sample - loss: 0.0240 - accuracy: 0.9975 - val_loss: 0.4753 - val_accuracy: 0.8688\n",
      "Epoch 14/20\n",
      "15000/15000 [==============================] - 1s 49us/sample - loss: 0.0230 - accuracy: 0.9977 - val_loss: 0.4805 - val_accuracy: 0.8671\n",
      "Epoch 15/20\n",
      "15000/15000 [==============================] - 1s 48us/sample - loss: 0.0219 - accuracy: 0.9979 - val_loss: 0.4858 - val_accuracy: 0.8664\n",
      "Epoch 16/20\n",
      "15000/15000 [==============================] - 1s 52us/sample - loss: 0.0212 - accuracy: 0.9981 - val_loss: 0.4917 - val_accuracy: 0.8672\n",
      "Epoch 17/20\n",
      "15000/15000 [==============================] - 1s 48us/sample - loss: 0.0202 - accuracy: 0.9983 - val_loss: 0.4996 - val_accuracy: 0.8662\n",
      "Epoch 18/20\n",
      "15000/15000 [==============================] - 1s 51us/sample - loss: 0.0195 - accuracy: 0.9981 - val_loss: 0.5024 - val_accuracy: 0.8663\n",
      "Epoch 19/20\n",
      "15000/15000 [==============================] - 1s 59us/sample - loss: 0.0188 - accuracy: 0.9985 - val_loss: 0.5080 - val_accuracy: 0.8664\n",
      "Epoch 20/20\n",
      "15000/15000 [==============================] - 1s 49us/sample - loss: 0.0180 - accuracy: 0.9987 - val_loss: 0.5145 - val_accuracy: 0.8661\n"
     ]
    }
   ],
   "source": [
    "# 用20次迭代尝试\n",
    "history= model.fit(partial_x_train,\n",
    "                    partial_y_train,\n",
    "                    epochs=20,\n",
    "                    batch_size=512,\n",
    "                    validation_data=(x_val, y_val),\n",
    "                    verbose=1)"
   ]
  },
  {
   "cell_type": "code",
   "execution_count": 28,
   "metadata": {},
   "outputs": [
    {
     "name": "stdout",
     "output_type": "stream",
     "text": [
      "25000/25000 - 1s - loss: 0.5467 - accuracy: 0.8556\n",
      "[0.5466830009794236, 0.8556]\n"
     ]
    }
   ],
   "source": [
    "results = model.evaluate(test_data,  test_labels, verbose=2)\n",
    "\n",
    "print(results)"
   ]
  },
  {
   "cell_type": "code",
   "execution_count": 29,
   "metadata": {},
   "outputs": [
    {
     "data": {
      "image/png": "[encoded data removed]",
      "text/plain": [
       "<Figure size 432x288 with 1 Axes>"
      ]
     },
     "metadata": {
      "needs_background": "light"
     },
     "output_type": "display_data"
    }
   ],
   "source": [
    "acc = history_dict['accuracy']\n",
    "val_acc = history_dict['val_accuracy']\n",
    "loss = history_dict['loss']\n",
    "val_loss = history_dict['val_loss']\n",
    "\n",
    "epochs = range(1, len(acc) + 1)\n",
    "\n",
    "# “bo”代表 \"蓝点\"\n",
    "plt.plot(epochs, loss, 'bo', label='Training loss')\n",
    "# b代表“蓝色实线”\n",
    "plt.plot(epochs, val_loss, 'b', label='Validation loss')\n",
    "plt.title('Training and validation loss')\n",
    "plt.xlabel('Epochs')\n",
    "plt.ylabel('Loss')\n",
    "plt.legend()\n",
    "\n",
    "plt.show()"
   ]
  },
  {
   "cell_type": "code",
   "execution_count": 30,
   "metadata": {},
   "outputs": [
    {
     "data": {
      "image/png": "[encoded data removed]",
      "text/plain": [
       "<Figure size 432x288 with 1 Axes>"
      ]
     },
     "metadata": {
      "needs_background": "light"
     },
     "output_type": "display_data"
    }
   ],
   "source": [
    "plt.clf()   # 清除数字\n",
    "\n",
    "plt.plot(epochs, acc, 'bo', label='Training acc')\n",
    "plt.plot(epochs, val_acc, 'b', label='Validation acc')\n",
    "plt.title('Training and validation accuracy')\n",
    "plt.xlabel('Epochs')\n",
    "plt.ylabel('Accuracy')\n",
    "plt.legend()\n",
    "\n",
    "plt.show()"
   ]
  },
  {
   "cell_type": "code",
   "execution_count": null,
   "metadata": {},
   "outputs": [],
   "source": []
  }
 ],
 "metadata": {
  "kernelspec": {
   "display_name": "Python 3",
   "language": "python",
   "name": "python3"
  },
  "language_info": {
   "codemirror_mode": {
    "name": "ipython",
    "version": 3
   },
   "file_extension": ".py",
   "mimetype": "text/x-python",
   "name": "python",
   "nbconvert_exporter": "python",
   "pygments_lexer": "ipython3",
   "version": "3.7.7"
  }
 },
 "nbformat": 4,
 "nbformat_minor": 4
}
