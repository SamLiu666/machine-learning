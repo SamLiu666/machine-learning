{
 "cells": [
  {
   "cell_type": "markdown",
   "metadata": {},
   "source": [
    "讲同一文件加下的所有文件都写入一个txt 文件"
   ]
  },
  {
   "cell_type": "code",
   "execution_count": 1,
   "metadata": {},
   "outputs": [],
   "source": [
    "import os"
   ]
  },
  {
   "cell_type": "markdown",
   "metadata": {},
   "source": [
    "文件夹下所有文件统一命名方便后续处理"
   ]
  },
  {
   "cell_type": "code",
   "execution_count": 6,
   "metadata": {},
   "outputs": [],
   "source": [
    "def file_rename(file_path=None):\n",
    "    file_path = r'E:\\chrome download\\paper\\corpus\\tge'\n",
    "    file_list = os.listdir(file_path)\n",
    "    for i, file in enumerate(file_list):\n",
    "        new = os.path.join(file_path,str(i)+'.txt')\n",
    "        old = os.path.join(file_path, file)\n",
    "        os.rename(old, new)"
   ]
  },
  {
   "cell_type": "markdown",
   "metadata": {},
   "source": [
    "讲所有文件内容写入同一个文件，汇总"
   ]
  },
  {
   "cell_type": "code",
   "execution_count": 7,
   "metadata": {},
   "outputs": [
    {
     "name": "stdout",
     "output_type": "stream",
     "text": [
      "1113880\n"
     ]
    }
   ],
   "source": [
    "file_path = r'E:\\chrome download\\paper\\corpus\\tge'\n",
    "file_list = os.listdir(file_path)\n",
    "\n",
    "res = \"\"  #  字符串连接，也可选用列表\n",
    "\n",
    "for file in file_list:\n",
    "    path = os.path.join(file_path, file)\n",
    "#     r = open(path, \"r\")\n",
    "#     new = os.path.join(file_path, 't.txt')\n",
    "#     w = open(new)\n",
    "    with open(path, 'r', encoding='utf-8') as f:\n",
    "        content = f.read()\n",
    "        f.close()\n",
    "    append = \"%s\" % (content)\n",
    "    res += append\n",
    "\n",
    "new = os.path.join(file_path, 't.txt')  # 目标文件\n",
    "with open(new, \"w\", encoding=\"utf-8\") as ff:\n",
    "    ff.write(res)\n",
    "    ff.close()\n",
    "\n",
    "print(len(res))"
   ]
  },
  {
   "cell_type": "code",
   "execution_count": null,
   "metadata": {},
   "outputs": [],
   "source": []
  }
 ],
 "metadata": {
  "kernelspec": {
   "display_name": "Python 3",
   "language": "python",
   "name": "python3"
  },
  "language_info": {
   "codemirror_mode": {
    "name": "ipython",
    "version": 3
   },
   "file_extension": ".py",
   "mimetype": "text/x-python",
   "name": "python",
   "nbconvert_exporter": "python",
   "pygments_lexer": "ipython3",
   "version": "3.7.3"
  }
 },
 "nbformat": 4,
 "nbformat_minor": 2
}
