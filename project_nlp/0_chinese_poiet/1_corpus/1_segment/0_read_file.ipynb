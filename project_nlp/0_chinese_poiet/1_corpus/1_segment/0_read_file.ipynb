{
 "cells": [
  {
   "cell_type": "markdown",
   "metadata": {},
   "source": [
    "# 1 所有待子文件名称"
   ]
  },
  {
   "cell_type": "code",
   "execution_count": 102,
   "metadata": {},
   "outputs": [],
   "source": [
    "import os"
   ]
  },
  {
   "cell_type": "code",
   "execution_count": 103,
   "metadata": {},
   "outputs": [],
   "source": [
    "path = \"E:\\chrome download\\paper\\corpus\\chinese-poetry-master\\ci\" #文件夹目录\n",
    "files= os.listdir(path) #得到文件夹下的所有文件名称\n",
    "all_path = path + \"\\\\\"\n",
    "total = []\n",
    "for file in files: #遍历文件夹\n",
    "    total.append(all_path+file)"
   ]
  },
  {
   "cell_type": "code",
   "execution_count": 104,
   "metadata": {},
   "outputs": [
    {
     "data": {
      "text/plain": [
       "['E:\\\\chrome download\\\\paper\\\\corpus\\\\chinese-poetry-master\\\\ci\\\\author.song.json',\n",
       " 'E:\\\\chrome download\\\\paper\\\\corpus\\\\chinese-poetry-master\\\\ci\\\\ci.db',\n",
       " 'E:\\\\chrome download\\\\paper\\\\corpus\\\\chinese-poetry-master\\\\ci\\\\ci.song.0.json',\n",
       " 'E:\\\\chrome download\\\\paper\\\\corpus\\\\chinese-poetry-master\\\\ci\\\\ci.song.1000.json',\n",
       " 'E:\\\\chrome download\\\\paper\\\\corpus\\\\chinese-poetry-master\\\\ci\\\\ci.song.10000.json',\n",
       " 'E:\\\\chrome download\\\\paper\\\\corpus\\\\chinese-poetry-master\\\\ci\\\\ci.song.11000.json',\n",
       " 'E:\\\\chrome download\\\\paper\\\\corpus\\\\chinese-poetry-master\\\\ci\\\\ci.song.12000.json',\n",
       " 'E:\\\\chrome download\\\\paper\\\\corpus\\\\chinese-poetry-master\\\\ci\\\\ci.song.13000.json',\n",
       " 'E:\\\\chrome download\\\\paper\\\\corpus\\\\chinese-poetry-master\\\\ci\\\\ci.song.14000.json',\n",
       " 'E:\\\\chrome download\\\\paper\\\\corpus\\\\chinese-poetry-master\\\\ci\\\\ci.song.15000.json',\n",
       " 'E:\\\\chrome download\\\\paper\\\\corpus\\\\chinese-poetry-master\\\\ci\\\\ci.song.16000.json',\n",
       " 'E:\\\\chrome download\\\\paper\\\\corpus\\\\chinese-poetry-master\\\\ci\\\\ci.song.17000.json',\n",
       " 'E:\\\\chrome download\\\\paper\\\\corpus\\\\chinese-poetry-master\\\\ci\\\\ci.song.18000.json',\n",
       " 'E:\\\\chrome download\\\\paper\\\\corpus\\\\chinese-poetry-master\\\\ci\\\\ci.song.19000.json',\n",
       " 'E:\\\\chrome download\\\\paper\\\\corpus\\\\chinese-poetry-master\\\\ci\\\\ci.song.2000.json',\n",
       " 'E:\\\\chrome download\\\\paper\\\\corpus\\\\chinese-poetry-master\\\\ci\\\\ci.song.20000.json',\n",
       " 'E:\\\\chrome download\\\\paper\\\\corpus\\\\chinese-poetry-master\\\\ci\\\\ci.song.2019y.json',\n",
       " 'E:\\\\chrome download\\\\paper\\\\corpus\\\\chinese-poetry-master\\\\ci\\\\ci.song.21000.json',\n",
       " 'E:\\\\chrome download\\\\paper\\\\corpus\\\\chinese-poetry-master\\\\ci\\\\ci.song.3000.json',\n",
       " 'E:\\\\chrome download\\\\paper\\\\corpus\\\\chinese-poetry-master\\\\ci\\\\ci.song.4000.json',\n",
       " 'E:\\\\chrome download\\\\paper\\\\corpus\\\\chinese-poetry-master\\\\ci\\\\ci.song.5000.json',\n",
       " 'E:\\\\chrome download\\\\paper\\\\corpus\\\\chinese-poetry-master\\\\ci\\\\ci.song.6000.json',\n",
       " 'E:\\\\chrome download\\\\paper\\\\corpus\\\\chinese-poetry-master\\\\ci\\\\ci.song.7000.json',\n",
       " 'E:\\\\chrome download\\\\paper\\\\corpus\\\\chinese-poetry-master\\\\ci\\\\ci.song.8000.json',\n",
       " 'E:\\\\chrome download\\\\paper\\\\corpus\\\\chinese-poetry-master\\\\ci\\\\ci.song.9000.json',\n",
       " 'E:\\\\chrome download\\\\paper\\\\corpus\\\\chinese-poetry-master\\\\ci\\\\main.py',\n",
       " 'E:\\\\chrome download\\\\paper\\\\corpus\\\\chinese-poetry-master\\\\ci\\\\README.md']"
      ]
     },
     "execution_count": 104,
     "metadata": {},
     "output_type": "execute_result"
    }
   ],
   "source": [
    "total"
   ]
  },
  {
   "cell_type": "code",
   "execution_count": 105,
   "metadata": {},
   "outputs": [],
   "source": [
    "s = \"json\"\n",
    "ans = []\n",
    "for t in total:\n",
    "    if s in t:\n",
    "        ans.append(t)"
   ]
  },
  {
   "cell_type": "code",
   "execution_count": 108,
   "metadata": {},
   "outputs": [
    {
     "data": {
      "text/plain": [
       "['E:\\\\chrome download\\\\paper\\\\corpus\\\\chinese-poetry-master\\\\ci\\\\ci.song.1000.json',\n",
       " 'E:\\\\chrome download\\\\paper\\\\corpus\\\\chinese-poetry-master\\\\ci\\\\ci.song.10000.json',\n",
       " 'E:\\\\chrome download\\\\paper\\\\corpus\\\\chinese-poetry-master\\\\ci\\\\ci.song.11000.json',\n",
       " 'E:\\\\chrome download\\\\paper\\\\corpus\\\\chinese-poetry-master\\\\ci\\\\ci.song.12000.json',\n",
       " 'E:\\\\chrome download\\\\paper\\\\corpus\\\\chinese-poetry-master\\\\ci\\\\ci.song.13000.json',\n",
       " 'E:\\\\chrome download\\\\paper\\\\corpus\\\\chinese-poetry-master\\\\ci\\\\ci.song.14000.json',\n",
       " 'E:\\\\chrome download\\\\paper\\\\corpus\\\\chinese-poetry-master\\\\ci\\\\ci.song.15000.json',\n",
       " 'E:\\\\chrome download\\\\paper\\\\corpus\\\\chinese-poetry-master\\\\ci\\\\ci.song.16000.json',\n",
       " 'E:\\\\chrome download\\\\paper\\\\corpus\\\\chinese-poetry-master\\\\ci\\\\ci.song.17000.json',\n",
       " 'E:\\\\chrome download\\\\paper\\\\corpus\\\\chinese-poetry-master\\\\ci\\\\ci.song.18000.json',\n",
       " 'E:\\\\chrome download\\\\paper\\\\corpus\\\\chinese-poetry-master\\\\ci\\\\ci.song.19000.json',\n",
       " 'E:\\\\chrome download\\\\paper\\\\corpus\\\\chinese-poetry-master\\\\ci\\\\ci.song.2000.json',\n",
       " 'E:\\\\chrome download\\\\paper\\\\corpus\\\\chinese-poetry-master\\\\ci\\\\ci.song.20000.json',\n",
       " 'E:\\\\chrome download\\\\paper\\\\corpus\\\\chinese-poetry-master\\\\ci\\\\ci.song.2019y.json',\n",
       " 'E:\\\\chrome download\\\\paper\\\\corpus\\\\chinese-poetry-master\\\\ci\\\\ci.song.21000.json',\n",
       " 'E:\\\\chrome download\\\\paper\\\\corpus\\\\chinese-poetry-master\\\\ci\\\\ci.song.3000.json',\n",
       " 'E:\\\\chrome download\\\\paper\\\\corpus\\\\chinese-poetry-master\\\\ci\\\\ci.song.4000.json',\n",
       " 'E:\\\\chrome download\\\\paper\\\\corpus\\\\chinese-poetry-master\\\\ci\\\\ci.song.5000.json',\n",
       " 'E:\\\\chrome download\\\\paper\\\\corpus\\\\chinese-poetry-master\\\\ci\\\\ci.song.6000.json',\n",
       " 'E:\\\\chrome download\\\\paper\\\\corpus\\\\chinese-poetry-master\\\\ci\\\\ci.song.7000.json',\n",
       " 'E:\\\\chrome download\\\\paper\\\\corpus\\\\chinese-poetry-master\\\\ci\\\\ci.song.8000.json',\n",
       " 'E:\\\\chrome download\\\\paper\\\\corpus\\\\chinese-poetry-master\\\\ci\\\\ci.song.9000.json']"
      ]
     },
     "execution_count": 108,
     "metadata": {},
     "output_type": "execute_result"
    }
   ],
   "source": [
    "ans = ans[1:]\n",
    "ans"
   ]
  },
  {
   "cell_type": "markdown",
   "metadata": {},
   "source": [
    "# 2. jason 文件写入语料库txt"
   ]
  },
  {
   "cell_type": "code",
   "execution_count": 122,
   "metadata": {},
   "outputs": [],
   "source": [
    "import json"
   ]
  },
  {
   "cell_type": "code",
   "execution_count": 123,
   "metadata": {},
   "outputs": [],
   "source": [
    "def read_jason(file_path):\n",
    "    file = open(file_path, 'r', encoding='utf-8')\n",
    "    data = json.load(file)\n",
    "    return data"
   ]
  },
  {
   "cell_type": "code",
   "execution_count": 124,
   "metadata": {},
   "outputs": [],
   "source": [
    "def write_file(data):\n",
    "    author, paragraphs,  rhythmic= [], [], []\n",
    "    for i in range(len(data)):\n",
    "        info = data[i]\n",
    "        author.append(info['author'])\n",
    "        paragraphs.append(info['paragraphs'])\n",
    "        rhythmic.append(info['rhythmic'])\n",
    "        \n",
    "    ff = open(\"corpus.txt\", \"a\", encoding=\"utf-8\")\n",
    "    for i in range(len(author)):\n",
    "        content = author[i] + \"\\n\" + \" \".join(paragraphs[i]) + \"\\n\" + rhythmic[i]\n",
    "        ff.write(content)\n",
    "    ff.close()"
   ]
  },
  {
   "cell_type": "code",
   "execution_count": 125,
   "metadata": {},
   "outputs": [
    {
     "name": "stdout",
     "output_type": "stream",
     "text": [
      "0 文档写入完毕\n",
      "1 文档写入完毕\n",
      "2 文档写入完毕\n",
      "3 文档写入完毕\n",
      "4 文档写入完毕\n"
     ]
    }
   ],
   "source": [
    "for i in range(5):\n",
    "    data = read_jason(ans[i])\n",
    "#     print(data)\n",
    "    write_file(data)\n",
    "    print(\"%s 文档写入完毕\" % i)"
   ]
  },
  {
   "cell_type": "code",
   "execution_count": null,
   "metadata": {},
   "outputs": [],
   "source": []
  },
  {
   "cell_type": "code",
   "execution_count": 81,
   "metadata": {},
   "outputs": [],
   "source": []
  },
  {
   "cell_type": "code",
   "execution_count": 88,
   "metadata": {},
   "outputs": [],
   "source": [
    "a=author[0]\n",
    "b=paragraphs[0]\n",
    "c=rhythmic[0]"
   ]
  },
  {
   "cell_type": "code",
   "execution_count": 95,
   "metadata": {},
   "outputs": [
    {
     "data": {
      "text/plain": [
       "('和岘',\n",
       " '气和玉烛，睿化著鸿明。 缇管一阳生。 郊禋盛礼燔柴毕，旋轸凤凰城。 森罗仪卫振华缨。 载路溢欢声。 皇图大业超前古，垂象泰阶平。 岁时丰衍，九土乐升平。 睹寰海澄清。 道高尧舜垂衣治，日月并文明。 嘉禾甘露登歌荐，云物焕祥经。 兢兢惕惕持谦德，未许禅云亭。',\n",
       " '导引')"
      ]
     },
     "execution_count": 95,
     "metadata": {},
     "output_type": "execute_result"
    }
   ],
   "source": [
    "a,b,c"
   ]
  },
  {
   "cell_type": "code",
   "execution_count": 98,
   "metadata": {},
   "outputs": [
    {
     "data": {
      "text/plain": [
       "str"
      ]
     },
     "execution_count": 98,
     "metadata": {},
     "output_type": "execute_result"
    }
   ],
   "source": [
    "b = \" \".join(b)\n",
    "type(b)"
   ]
  },
  {
   "cell_type": "markdown",
   "metadata": {},
   "source": [
    "每一首诗以对应形式写入txt文件"
   ]
  },
  {
   "cell_type": "code",
   "execution_count": 1,
   "metadata": {},
   "outputs": [
    {
     "name": "stdout",
     "output_type": "stream",
     "text": [
      "第 0 份 文档传递完毕，共 0 词 \n",
      "第 1 份 文档传递完毕，共 1 词 \n",
      "第 2 份 文档传递完毕，共 2 词 \n",
      "第 3 份 文档传递完毕，共 3 词 \n",
      "第 4 份 文档传递完毕，共 4 词 \n"
     ]
    }
   ],
   "source": [
    "for i in range(5):\n",
    "    print(\"第 {} 份 文档传递完毕，共 {} 词 \".format(i,i))"
   ]
  },
  {
   "cell_type": "code",
   "execution_count": 101,
   "metadata": {},
   "outputs": [],
   "source": []
  },
  {
   "cell_type": "code",
   "execution_count": null,
   "metadata": {},
   "outputs": [],
   "source": []
  },
  {
   "cell_type": "code",
   "execution_count": null,
   "metadata": {},
   "outputs": [],
   "source": []
  },
  {
   "cell_type": "code",
   "execution_count": 39,
   "metadata": {},
   "outputs": [],
   "source": []
  }
 ],
 "metadata": {
  "kernelspec": {
   "display_name": "Python 3",
   "language": "python",
   "name": "python3"
  },
  "language_info": {
   "codemirror_mode": {
    "name": "ipython",
    "version": 3
   },
   "file_extension": ".py",
   "mimetype": "text/x-python",
   "name": "python",
   "nbconvert_exporter": "python",
   "pygments_lexer": "ipython3",
   "version": "3.7.3"
  }
 },
 "nbformat": 4,
 "nbformat_minor": 2
}
