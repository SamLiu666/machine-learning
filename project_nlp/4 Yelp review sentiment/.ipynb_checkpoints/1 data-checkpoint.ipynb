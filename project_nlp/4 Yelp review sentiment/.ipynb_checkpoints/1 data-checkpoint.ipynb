{
 "cells": [
  {
   "cell_type": "code",
   "execution_count": 6,
   "metadata": {},
   "outputs": [],
   "source": [
    "import pandas as pd\n",
    "import collections\n",
    "import numpy as np\n",
    "import pandas as pd\n",
    "import re"
   ]
  },
  {
   "cell_type": "code",
   "execution_count": 7,
   "metadata": {},
   "outputs": [],
   "source": [
    "path = r\"E:\\chrome download\\paper\\corpus\\yelp\\Restaurant_Reviews.tsv\""
   ]
  },
  {
   "cell_type": "code",
   "execution_count": 8,
   "metadata": {},
   "outputs": [
    {
     "data": {
      "text/html": [
       "<div>\n",
       "<style scoped>\n",
       "    .dataframe tbody tr th:only-of-type {\n",
       "        vertical-align: middle;\n",
       "    }\n",
       "\n",
       "    .dataframe tbody tr th {\n",
       "        vertical-align: top;\n",
       "    }\n",
       "\n",
       "    .dataframe thead th {\n",
       "        text-align: right;\n",
       "    }\n",
       "</style>\n",
       "<table border=\"1\" class=\"dataframe\">\n",
       "  <thead>\n",
       "    <tr style=\"text-align: right;\">\n",
       "      <th></th>\n",
       "      <th>Review</th>\n",
       "      <th>Liked</th>\n",
       "    </tr>\n",
       "  </thead>\n",
       "  <tbody>\n",
       "    <tr>\n",
       "      <th>0</th>\n",
       "      <td>Wow... Loved this place.</td>\n",
       "      <td>1</td>\n",
       "    </tr>\n",
       "    <tr>\n",
       "      <th>1</th>\n",
       "      <td>Crust is not good.</td>\n",
       "      <td>0</td>\n",
       "    </tr>\n",
       "    <tr>\n",
       "      <th>2</th>\n",
       "      <td>Not tasty and the texture was just nasty.</td>\n",
       "      <td>0</td>\n",
       "    </tr>\n",
       "    <tr>\n",
       "      <th>3</th>\n",
       "      <td>Stopped by during the late May bank holiday of...</td>\n",
       "      <td>1</td>\n",
       "    </tr>\n",
       "    <tr>\n",
       "      <th>4</th>\n",
       "      <td>The selection on the menu was great and so wer...</td>\n",
       "      <td>1</td>\n",
       "    </tr>\n",
       "  </tbody>\n",
       "</table>\n",
       "</div>"
      ],
      "text/plain": [
       "                                              Review  Liked\n",
       "0                           Wow... Loved this place.      1\n",
       "1                                 Crust is not good.      0\n",
       "2          Not tasty and the texture was just nasty.      0\n",
       "3  Stopped by during the late May bank holiday of...      1\n",
       "4  The selection on the menu was great and so wer...      1"
      ]
     },
     "execution_count": 8,
     "metadata": {},
     "output_type": "execute_result"
    }
   ],
   "source": [
    "dataset = pd.read_csv(path, delimiter = '\\t', quoting = 3)\n",
    "dataset.head()"
   ]
  },
  {
   "cell_type": "code",
   "execution_count": 9,
   "metadata": {},
   "outputs": [
    {
     "data": {
      "text/plain": [
       "The food was terrible.                                                                                                     2\n",
       "I would not recommend this place.                                                                                          2\n",
       "I love this place.                                                                                                         2\n",
       "I won't be back.                                                                                                           2\n",
       "The manager was the worst.                                                                                                 1\n",
       "The chipolte ranch dipping sause was tasteless, seemed thin and watered down with no heat.                                 1\n",
       "I had heard good things about this place, but it exceeding every hope I could have dreamed of.                             1\n",
       "I hope this place sticks around.                                                                                           1\n",
       "It was awesome.                                                                                                            1\n",
       "This place has it!                                                                                                         1\n",
       "did not like at all.                                                                                                       1\n",
       "The restaurant atmosphere was exquisite.                                                                                   1\n",
       "Service is perfect and the family atmosphere is nice to see.                                                               1\n",
       "Best tater tots in the southwest.                                                                                          1\n",
       "This place is disgusting!                                                                                                  1\n",
       "Highly unprofessional and rude to a loyal patron!                                                                          1\n",
       "Also there are combos like a burger, fries, and beer for 23 which is a decent deal.                                        1\n",
       "He also came back to check on us regularly, excellent service.                                                             1\n",
       "This is one of the best bars with food in Vegas.                                                                           1\n",
       "On the good side, the staff was genuinely pleasant and enthusiastic - a real treat.                                        1\n",
       "My boyfriend and i sat at the bar and had a completely delightful experience.                                              1\n",
       "This place is not worth your time, let alone Vegas.                                                                        1\n",
       "When I'm on this side of town, this will definitely be a spot I'll hit up again!                                           1\n",
       "Also, I feel like the chips are bought, not made in house.                                                                 1\n",
       "The sergeant pepper beef sandwich with auju sauce is an excellent sandwich as well.                                        1\n",
       "Similarly, the delivery man did not say a word of apology when our food was 45 minutes late.                               1\n",
       "I do love sushi, but I found Kabuki to be over-priced, over-hip and under-services.                                        1\n",
       "Stopped by during the late May bank holiday off Rick Steve recommendation and loved it.                                    1\n",
       "Our waiter was very attentive, friendly, and informative.                                                                  1\n",
       "This is my new fav Vegas buffet spot.                                                                                      1\n",
       "                                                                                                                          ..\n",
       "First - the bathrooms at this location were dirty- Seat covers were not replenished & just plain yucky!!!                  1\n",
       "Lordy, the Khao Soi is a dish that is not to be missed for curry lovers!                                                   1\n",
       "I never come again.                                                                                                        1\n",
       "The salad had just the right amount of sauce to not over power the scallop, which was perfectly cooked.                    1\n",
       "The chefs were friendly and did a good job.                                                                                1\n",
       "Not my thing.                                                                                                              1\n",
       "My friend did not like his Bloody Mary.                                                                                    1\n",
       "The black eyed peas and sweet potatoes... UNREAL!                                                                          1\n",
       "Service stinks here!                                                                                                       1\n",
       "The service was a bit lacking.                                                                                             1\n",
       "The service was extremely slow.                                                                                            1\n",
       "Ordered burger rare came in we'll done.                                                                                    1\n",
       "I would recommend saving room for this!                                                                                    1\n",
       "I guess maybe we went on an off night but it was disgraceful.                                                              1\n",
       "Seriously killer hot chai latte.                                                                                           1\n",
       "The Han Nan Chicken was also very tasty.                                                                                   1\n",
       "Probably not in a hurry to go back.                                                                                        1\n",
       "- They never brought a salad we asked for.                                                                                 1\n",
       "Nicest Chinese restaurant I've been in a while.                                                                            1\n",
       "I tried the Cape Cod ravoli, chicken, with cranberry...mmmm!                                                               1\n",
       "Total brunch fail.                                                                                                         1\n",
       "Soggy and not good.                                                                                                        1\n",
       "Not a single employee came out to see if we were OK or even needed a water refill once they finally served us our food.    1\n",
       "I really enjoyed Crema Café before they expanded. I even told friends they had the BEST breakfast.                         1\n",
       "I will never go back to this place and will never ever recommended this place to anyone!                                   1\n",
       "Back to good BBQ, lighter fare, reasonable pricing and tell the public they are back to the old ways.                      1\n",
       "I left with a stomach ache and felt sick the rest of the day.                                                              1\n",
       "My side Greek salad with the Greek dressing was so tasty, and the pita and hummus was very refreshing.                     1\n",
       "The selection was probably the worst I've seen in Vegas.....there was none.                                                1\n",
       "But then they came back cold.                                                                                              1\n",
       "Name: Review, Length: 996, dtype: int64"
      ]
     },
     "execution_count": 9,
     "metadata": {},
     "output_type": "execute_result"
    }
   ],
   "source": [
    "dataset.Review.value_counts()"
   ]
  },
  {
   "cell_type": "code",
   "execution_count": 10,
   "metadata": {},
   "outputs": [
    {
     "data": {
      "text/plain": [
       "{0, 1}"
      ]
     },
     "execution_count": 10,
     "metadata": {},
     "output_type": "execute_result"
    }
   ],
   "source": [
    "set(dataset.Liked)"
   ]
  },
  {
   "cell_type": "markdown",
   "metadata": {},
   "source": [
    "# 处理数据集，去掉停顿词，数字，找到词根"
   ]
  },
  {
   "cell_type": "code",
   "execution_count": 12,
   "metadata": {},
   "outputs": [],
   "source": [
    "import re\n",
    "import nltk\n",
    "from nltk.corpus import stopwords\n",
    "from nltk.stem.porter import PorterStemmer\n",
    "corpus = []\n",
    "for i in range(0, 1000):\n",
    "    review = re.sub('[^a-zA-Z]', ' ', dataset['Review'][i])\n",
    "    review = review.lower()\n",
    "    review = review.split()\n",
    "    ps = PorterStemmer()\n",
    "    review = [ps.stem(word) for word in review if not word in set(stopwords.words('english'))]\n",
    "    review = ' '.join(review)\n",
    "    corpus.append(review)"
   ]
  },
  {
   "cell_type": "markdown",
   "metadata": {},
   "source": [
    "**Vectorization**"
   ]
  },
  {
   "cell_type": "code",
   "execution_count": 13,
   "metadata": {},
   "outputs": [],
   "source": [
    "# Creating the Bag of Words model using CountVectorizer\n",
    "\n",
    "from sklearn.feature_extraction.text import CountVectorizer\n",
    "cv = CountVectorizer(max_features = 1500)\n",
    "X = cv.fit_transform(corpus).toarray()\n",
    "y = dataset.iloc[:, 1].values"
   ]
  },
  {
   "cell_type": "code",
   "execution_count": 1,
   "metadata": {},
   "outputs": [
    {
     "ename": "NameError",
     "evalue": "name 'X' is not defined",
     "output_type": "error",
     "traceback": [
      "\u001b[1;31m---------------------------------------------------------------------------\u001b[0m",
      "\u001b[1;31mNameError\u001b[0m                                 Traceback (most recent call last)",
      "\u001b[1;32m<ipython-input-1-c94b62d590cd>\u001b[0m in \u001b[0;36m<module>\u001b[1;34m\u001b[0m\n\u001b[1;32m----> 1\u001b[1;33m \u001b[0mX\u001b[0m\u001b[1;33m[\u001b[0m\u001b[1;36m0\u001b[0m\u001b[1;33m]\u001b[0m\u001b[1;33m,\u001b[0m\u001b[0my\u001b[0m\u001b[1;33m[\u001b[0m\u001b[1;36m0\u001b[0m\u001b[1;33m]\u001b[0m\u001b[1;33m\u001b[0m\u001b[1;33m\u001b[0m\u001b[0m\n\u001b[0m",
      "\u001b[1;31mNameError\u001b[0m: name 'X' is not defined"
     ]
    }
   ],
   "source": [
    "X[0].shape,y[0]"
   ]
  },
  {
   "cell_type": "code",
   "execution_count": 18,
   "metadata": {},
   "outputs": [],
   "source": [
    "# Splitting the dataset into the Training set and Test set\n",
    "from sklearn.model_selection import train_test_split\n",
    "X_train, X_test, y_train, y_test = train_test_split(X, y, test_size = 0.3, random_state = 42)"
   ]
  },
  {
   "cell_type": "code",
   "execution_count": 19,
   "metadata": {},
   "outputs": [
    {
     "data": {
      "text/plain": [
       "KNeighborsClassifier(algorithm='auto', leaf_size=30, metric='minkowski',\n",
       "                     metric_params=None, n_jobs=None, n_neighbors=1, p=2,\n",
       "                     weights='uniform')"
      ]
     },
     "execution_count": 19,
     "metadata": {},
     "output_type": "execute_result"
    }
   ],
   "source": [
    "from sklearn.neighbors import KNeighborsClassifier\n",
    "knn = KNeighborsClassifier(n_neighbors=1)\n",
    "knn.fit(X_train, y_train)\n"
   ]
  },
  {
   "cell_type": "code",
   "execution_count": 20,
   "metadata": {},
   "outputs": [
    {
     "name": "stdout",
     "output_type": "stream",
     "text": [
      "Test set predictions:\n",
      " [0 1 1 1 0 1 0 0 1 0 0 0 0 1 0 1 1 0 1 0 1 0 0 0 0 0 0 0 0 1 1 1 1 1 0 1 1\n",
      " 0 0 0 0 0 1 0 1 0 0 0 1 0 0 1 0 1 0 0 0 0 0 0 0 0 0 0 0 0 1 1 0 0 0 0 1 0\n",
      " 1 1 0 0 0 0 0 1 0 0 0 0 0 1 0 0 0 1 0 0 1 0 0 0 0 1 1 0 0 1 1 1 0 0 0 1 0\n",
      " 0 0 0 0 1 1 0 0 1 0 0 0 1 0 1 0 0 1 0 0 0 0 0 0 1 1 1 0 0 0 1 1 0 0 1 1 0\n",
      " 1 1 0 1 0 1 0 1 0 0 0 1 0 0 0 1 0 1 1 1 1 1 0 1 0 1 0 0 0 0 0 0 0 0 1 0 1\n",
      " 0 0 1 0 1 0 1 0 1 0 1 1 1 0 1 0 1 0 0 1 0 1 0 0 0 1 1 0 0 0 0 0 0 0 0 0 0\n",
      " 0 1 0 0 0 0 0 1 0 1 1 0 1 0 1 1 0 0 1 1 0 1 0 0 0 0 0 0 0 1 1 1 1 0 1 0 0\n",
      " 0 0 1 0 0 1 1 0 0 0 1 0 0 0 1 0 1 0 1 1 0 0 1 1 0 0 0 0 1 0 0 1 0 0 0 0 1\n",
      " 1 0 0 1]\n",
      "Test set score: 0.66\n"
     ]
    }
   ],
   "source": [
    "y_pred = knn.predict(X_test)\n",
    "print(\"Test set predictions:\\n {}\".format(y_pred))\n",
    "print(\"Test set score: {:.2f}\".format(knn.score(X_test, y_test)))"
   ]
  },
  {
   "cell_type": "markdown",
   "metadata": {},
   "source": [
    "# 朴素贝叶斯"
   ]
  },
  {
   "cell_type": "code",
   "execution_count": null,
   "metadata": {},
   "outputs": [],
   "source": [
    "from sklearn.naive_bayes import GaussianNB\n"
   ]
  }
 ],
 "metadata": {
  "kernelspec": {
   "display_name": "Python 3",
   "language": "python",
   "name": "python3"
  },
  "language_info": {
   "codemirror_mode": {
    "name": "ipython",
    "version": 3
   },
   "file_extension": ".py",
   "mimetype": "text/x-python",
   "name": "python",
   "nbconvert_exporter": "python",
   "pygments_lexer": "ipython3",
   "version": "3.7.7"
  }
 },
 "nbformat": 4,
 "nbformat_minor": 4
}
